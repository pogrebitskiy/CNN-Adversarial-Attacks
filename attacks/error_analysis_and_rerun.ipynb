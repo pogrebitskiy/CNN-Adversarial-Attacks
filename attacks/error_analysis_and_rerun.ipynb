{
 "cells": [
  {
   "cell_type": "code",
   "execution_count": 1,
   "id": "initial_id",
   "metadata": {
    "ExecuteTime": {
     "end_time": "2024-04-16T18:50:14.695461Z",
     "start_time": "2024-04-16T18:50:05.929904Z"
    }
   },
   "outputs": [],
   "source": [
    "from models.MNIST_Models import *\n",
    "import torch\n",
    "import numpy as np\n",
    "from torchvision import datasets, transforms\n",
    "from torch.utils.data import DataLoader, random_split\n",
    "import utils\n",
    "from art.estimators.classification import PyTorchClassifier\n",
    "from art.attacks.evasion import FastGradientMethod, BasicIterativeMethod, ProjectedGradientDescent, DeepFool\n",
    "from art.defences.trainer import AdversarialTrainer\n",
    "from copy import deepcopy\n",
    "import os\n",
    "import matplotlib.pyplot as plt"
   ]
  },
  {
   "cell_type": "code",
   "execution_count": 2,
   "id": "354e2934550d5802",
   "metadata": {},
   "outputs": [],
   "source": [
    "# Load the data\n",
    "BATCH_SIZE = 1024\n",
    "EPS = 0.2\n",
    "\n",
    "torch.manual_seed(42)\n",
    "np.random.seed(42)\n",
    "generator = torch.Generator().manual_seed(42)\n",
    "\n",
    "# Define the transformation\n",
    "train_transform = transforms.Compose([\n",
    "    transforms.RandomRotation(10),\n",
    "    transforms.RandomAffine(0, translate=(0.1, 0.1)), \n",
    "    transforms.ToTensor(), \n",
    "    transforms.Normalize((0.1307,), (0.3081,)),\n",
    "])\n",
    "\n",
    "test_transform = transforms.Compose([\n",
    "    transforms.ToTensor(), \n",
    "    transforms.Normalize((0.1307,), (0.3081,)),\n",
    "])\n",
    "\n",
    "# Load the MNIST dataset\n",
    "train_dataset = datasets.MNIST(root='./data', train=True, transform=train_transform, download=True)\n",
    "test_dataset = datasets.MNIST(root='./data', train=False, transform=test_transform, download=True)\n",
    "\n",
    "# Split the training dataset into training and validation datasets\n",
    "train_dataset, val_dataset = random_split(train_dataset, [50000, 10000], generator=generator)\n",
    "\n",
    "# Create the dataloaders\n",
    "train_loader = DataLoader(train_dataset, batch_size=BATCH_SIZE, shuffle=True)\n",
    "val_loader = DataLoader(val_dataset, batch_size=BATCH_SIZE, shuffle=False)\n",
    "test_loader = DataLoader(test_dataset, batch_size=BATCH_SIZE, shuffle=False)\n",
    "\n",
    "X_train, y_train = utils.loader_to_numpy(train_loader)\n",
    "X_val, y_val = utils.loader_to_numpy(val_loader)\n",
    "X_test, y_test = utils.loader_to_numpy(test_loader)"
   ]
  },
  {
   "cell_type": "code",
   "execution_count": 3,
   "id": "9571d1053c43f14d",
   "metadata": {},
   "outputs": [
    {
     "data": {
      "text/plain": [
       "MNIST_ResNet(\n",
       "  (resnet): ResNet(\n",
       "    (conv1): Conv2d(1, 64, kernel_size=(7, 7), stride=(2, 2), padding=(3, 3), bias=False)\n",
       "    (bn1): BatchNorm2d(64, eps=1e-05, momentum=0.1, affine=True, track_running_stats=True)\n",
       "    (relu): ReLU(inplace=True)\n",
       "    (maxpool): MaxPool2d(kernel_size=3, stride=2, padding=1, dilation=1, ceil_mode=False)\n",
       "    (layer1): Sequential(\n",
       "      (0): BasicBlock(\n",
       "        (conv1): Conv2d(64, 64, kernel_size=(3, 3), stride=(1, 1), padding=(1, 1), bias=False)\n",
       "        (bn1): BatchNorm2d(64, eps=1e-05, momentum=0.1, affine=True, track_running_stats=True)\n",
       "        (relu): ReLU(inplace=True)\n",
       "        (conv2): Conv2d(64, 64, kernel_size=(3, 3), stride=(1, 1), padding=(1, 1), bias=False)\n",
       "        (bn2): BatchNorm2d(64, eps=1e-05, momentum=0.1, affine=True, track_running_stats=True)\n",
       "      )\n",
       "      (1): BasicBlock(\n",
       "        (conv1): Conv2d(64, 64, kernel_size=(3, 3), stride=(1, 1), padding=(1, 1), bias=False)\n",
       "        (bn1): BatchNorm2d(64, eps=1e-05, momentum=0.1, affine=True, track_running_stats=True)\n",
       "        (relu): ReLU(inplace=True)\n",
       "        (conv2): Conv2d(64, 64, kernel_size=(3, 3), stride=(1, 1), padding=(1, 1), bias=False)\n",
       "        (bn2): BatchNorm2d(64, eps=1e-05, momentum=0.1, affine=True, track_running_stats=True)\n",
       "      )\n",
       "    )\n",
       "    (layer2): Sequential(\n",
       "      (0): BasicBlock(\n",
       "        (conv1): Conv2d(64, 128, kernel_size=(3, 3), stride=(2, 2), padding=(1, 1), bias=False)\n",
       "        (bn1): BatchNorm2d(128, eps=1e-05, momentum=0.1, affine=True, track_running_stats=True)\n",
       "        (relu): ReLU(inplace=True)\n",
       "        (conv2): Conv2d(128, 128, kernel_size=(3, 3), stride=(1, 1), padding=(1, 1), bias=False)\n",
       "        (bn2): BatchNorm2d(128, eps=1e-05, momentum=0.1, affine=True, track_running_stats=True)\n",
       "        (downsample): Sequential(\n",
       "          (0): Conv2d(64, 128, kernel_size=(1, 1), stride=(2, 2), bias=False)\n",
       "          (1): BatchNorm2d(128, eps=1e-05, momentum=0.1, affine=True, track_running_stats=True)\n",
       "        )\n",
       "      )\n",
       "      (1): BasicBlock(\n",
       "        (conv1): Conv2d(128, 128, kernel_size=(3, 3), stride=(1, 1), padding=(1, 1), bias=False)\n",
       "        (bn1): BatchNorm2d(128, eps=1e-05, momentum=0.1, affine=True, track_running_stats=True)\n",
       "        (relu): ReLU(inplace=True)\n",
       "        (conv2): Conv2d(128, 128, kernel_size=(3, 3), stride=(1, 1), padding=(1, 1), bias=False)\n",
       "        (bn2): BatchNorm2d(128, eps=1e-05, momentum=0.1, affine=True, track_running_stats=True)\n",
       "      )\n",
       "    )\n",
       "    (layer3): Sequential(\n",
       "      (0): BasicBlock(\n",
       "        (conv1): Conv2d(128, 256, kernel_size=(3, 3), stride=(2, 2), padding=(1, 1), bias=False)\n",
       "        (bn1): BatchNorm2d(256, eps=1e-05, momentum=0.1, affine=True, track_running_stats=True)\n",
       "        (relu): ReLU(inplace=True)\n",
       "        (conv2): Conv2d(256, 256, kernel_size=(3, 3), stride=(1, 1), padding=(1, 1), bias=False)\n",
       "        (bn2): BatchNorm2d(256, eps=1e-05, momentum=0.1, affine=True, track_running_stats=True)\n",
       "        (downsample): Sequential(\n",
       "          (0): Conv2d(128, 256, kernel_size=(1, 1), stride=(2, 2), bias=False)\n",
       "          (1): BatchNorm2d(256, eps=1e-05, momentum=0.1, affine=True, track_running_stats=True)\n",
       "        )\n",
       "      )\n",
       "      (1): BasicBlock(\n",
       "        (conv1): Conv2d(256, 256, kernel_size=(3, 3), stride=(1, 1), padding=(1, 1), bias=False)\n",
       "        (bn1): BatchNorm2d(256, eps=1e-05, momentum=0.1, affine=True, track_running_stats=True)\n",
       "        (relu): ReLU(inplace=True)\n",
       "        (conv2): Conv2d(256, 256, kernel_size=(3, 3), stride=(1, 1), padding=(1, 1), bias=False)\n",
       "        (bn2): BatchNorm2d(256, eps=1e-05, momentum=0.1, affine=True, track_running_stats=True)\n",
       "      )\n",
       "    )\n",
       "    (layer4): Sequential(\n",
       "      (0): BasicBlock(\n",
       "        (conv1): Conv2d(256, 512, kernel_size=(3, 3), stride=(2, 2), padding=(1, 1), bias=False)\n",
       "        (bn1): BatchNorm2d(512, eps=1e-05, momentum=0.1, affine=True, track_running_stats=True)\n",
       "        (relu): ReLU(inplace=True)\n",
       "        (conv2): Conv2d(512, 512, kernel_size=(3, 3), stride=(1, 1), padding=(1, 1), bias=False)\n",
       "        (bn2): BatchNorm2d(512, eps=1e-05, momentum=0.1, affine=True, track_running_stats=True)\n",
       "        (downsample): Sequential(\n",
       "          (0): Conv2d(256, 512, kernel_size=(1, 1), stride=(2, 2), bias=False)\n",
       "          (1): BatchNorm2d(512, eps=1e-05, momentum=0.1, affine=True, track_running_stats=True)\n",
       "        )\n",
       "      )\n",
       "      (1): BasicBlock(\n",
       "        (conv1): Conv2d(512, 512, kernel_size=(3, 3), stride=(1, 1), padding=(1, 1), bias=False)\n",
       "        (bn1): BatchNorm2d(512, eps=1e-05, momentum=0.1, affine=True, track_running_stats=True)\n",
       "        (relu): ReLU(inplace=True)\n",
       "        (conv2): Conv2d(512, 512, kernel_size=(3, 3), stride=(1, 1), padding=(1, 1), bias=False)\n",
       "        (bn2): BatchNorm2d(512, eps=1e-05, momentum=0.1, affine=True, track_running_stats=True)\n",
       "      )\n",
       "    )\n",
       "    (avgpool): AdaptiveAvgPool2d(output_size=(1, 1))\n",
       "    (fc): Linear(in_features=512, out_features=10, bias=True)\n",
       "  )\n",
       ")"
      ]
     },
     "execution_count": 3,
     "metadata": {},
     "output_type": "execute_result"
    }
   ],
   "source": [
    "# Load each of resnest\n",
    "\n",
    "original_resnet = MNIST_ResNet()\n",
    "original_resnet.load_state_dict(torch.load('./models/clean_state/MNIST_ResNet.pth'))\n",
    "original_resnet.eval()\n",
    "\n",
    "BIM_resnet = torch.load('./models/hardened_state/BIM_MNIST_ResNet.pth')\n",
    "BIM_resnet.eval()\n",
    "\n",
    "FGSM_resnet = torch.load('./models/hardened_state/FGSM_MNIST_ResNet.pth')\n",
    "FGSM_resnet.eval()\n",
    "\n",
    "PGD_resnet = torch.load('./models/hardened_state/PGD_MNIST_ResNet.pth')\n",
    "PGD_resnet.eval()"
   ]
  },
  {
   "cell_type": "code",
   "execution_count": 4,
   "id": "41fef2a38120c31c",
   "metadata": {},
   "outputs": [],
   "source": [
    "# Create the ART classifiers\n",
    "orig_clf = PyTorchClassifier(\n",
    "    model=original_resnet,\n",
    "    loss=torch.nn.CrossEntropyLoss(),\n",
    "    optimizer=torch.optim.Adam(original_resnet.parameters(), lr=0.01),\n",
    "    input_shape=(1, 28, 28),\n",
    "    nb_classes=10,\n",
    "    device_type='gpu'\n",
    ")\n",
    "\n",
    "BIM_clf = PyTorchClassifier(\n",
    "    model=BIM_resnet,\n",
    "    loss=torch.nn.CrossEntropyLoss(),\n",
    "    optimizer=torch.optim.Adam(BIM_resnet.parameters(), lr=0.01),\n",
    "    input_shape=(1, 28, 28),\n",
    "    nb_classes=10,\n",
    "    preprocessing=(0.1307, 0.3081),\n",
    "    device_type='gpu'\n",
    ")\n",
    "\n",
    "FGSM_clf = PyTorchClassifier(\n",
    "    model=FGSM_resnet,\n",
    "    loss=torch.nn.CrossEntropyLoss(),\n",
    "    optimizer=torch.optim.Adam(FGSM_resnet.parameters(), lr=0.01),\n",
    "    input_shape=(1, 28, 28),\n",
    "    nb_classes=10,\n",
    "    preprocessing=(0.1307, 0.3081),\n",
    "    device_type='gpu'\n",
    ")\n",
    "\n",
    "PGD_clf = PyTorchClassifier(\n",
    "    model=PGD_resnet,\n",
    "    loss=torch.nn.CrossEntropyLoss(),\n",
    "    optimizer=torch.optim.Adam(PGD_resnet.parameters(), lr=0.01),\n",
    "    input_shape=(1, 28, 28),\n",
    "    nb_classes=10,\n",
    "    preprocessing=(0.1307, 0.3081),\n",
    "    device_type='gpu'\n",
    ")"
   ]
  },
  {
   "cell_type": "code",
   "execution_count": 5,
   "id": "816a3b3586b5e9e5",
   "metadata": {},
   "outputs": [],
   "source": [
    "# Create the ART attacks\n",
    "FGSM_orig_attack = FastGradientMethod(estimator=orig_clf, eps=EPS, batch_size=BATCH_SIZE)\n",
    "FGSM_BIM_attack = FastGradientMethod(estimator=BIM_clf, eps=EPS, batch_size=BATCH_SIZE)\n",
    "FGSM_FGSM_attack = FastGradientMethod(estimator=FGSM_clf, eps=EPS, batch_size=BATCH_SIZE)\n",
    "FGSM_PGD_attack = FastGradientMethod(estimator=PGD_clf, eps=EPS, batch_size=BATCH_SIZE)\n",
    "\n",
    "BIM_orig_attack = BasicIterativeMethod(estimator=orig_clf, eps=EPS, batch_size=BATCH_SIZE)\n",
    "BIM_BIM_attack = BasicIterativeMethod(estimator=BIM_clf, eps=EPS, batch_size=BATCH_SIZE)\n",
    "BIM_FGSM_attack = BasicIterativeMethod(estimator=FGSM_clf, eps=EPS, batch_size=BATCH_SIZE)\n",
    "BIM_PGD_attack = BasicIterativeMethod(estimator=PGD_clf, eps=EPS, batch_size=BATCH_SIZE)\n",
    "\n",
    "PGD_orig_attack = ProjectedGradientDescent(estimator=orig_clf, eps=EPS, batch_size=BATCH_SIZE)\n",
    "PGD_BIM_attack = ProjectedGradientDescent(estimator=BIM_clf, eps=EPS, batch_size=BATCH_SIZE)\n",
    "PGD_FGSM_attack = ProjectedGradientDescent(estimator=FGSM_clf, eps=EPS, batch_size=BATCH_SIZE)\n",
    "PGD_PGD_attack = ProjectedGradientDescent(estimator=PGD_clf, eps=EPS, batch_size=BATCH_SIZE)"
   ]
  },
  {
   "cell_type": "code",
   "execution_count": 7,
   "id": "d48918693c0dd396",
   "metadata": {},
   "outputs": [
    {
     "data": {
      "application/vnd.jupyter.widget-view+json": {
       "model_id": "",
       "version_major": 2,
       "version_minor": 0
      },
      "text/plain": [
       "PGD - Batches:   0%|          | 0/10 [00:00<?, ?it/s]"
      ]
     },
     "metadata": {},
     "output_type": "display_data"
    },
    {
     "data": {
      "application/vnd.jupyter.widget-view+json": {
       "model_id": "",
       "version_major": 2,
       "version_minor": 0
      },
      "text/plain": [
       "PGD - Batches:   0%|          | 0/10 [00:00<?, ?it/s]"
      ]
     },
     "metadata": {},
     "output_type": "display_data"
    },
    {
     "data": {
      "application/vnd.jupyter.widget-view+json": {
       "model_id": "",
       "version_major": 2,
       "version_minor": 0
      },
      "text/plain": [
       "PGD - Batches:   0%|          | 0/10 [00:00<?, ?it/s]"
      ]
     },
     "metadata": {},
     "output_type": "display_data"
    },
    {
     "data": {
      "application/vnd.jupyter.widget-view+json": {
       "model_id": "",
       "version_major": 2,
       "version_minor": 0
      },
      "text/plain": [
       "PGD - Batches:   0%|          | 0/10 [00:00<?, ?it/s]"
      ]
     },
     "metadata": {},
     "output_type": "display_data"
    },
    {
     "data": {
      "application/vnd.jupyter.widget-view+json": {
       "model_id": "",
       "version_major": 2,
       "version_minor": 0
      },
      "text/plain": [
       "PGD - Batches:   0%|          | 0/10 [00:00<?, ?it/s]"
      ]
     },
     "metadata": {},
     "output_type": "display_data"
    },
    {
     "data": {
      "application/vnd.jupyter.widget-view+json": {
       "model_id": "",
       "version_major": 2,
       "version_minor": 0
      },
      "text/plain": [
       "PGD - Batches:   0%|          | 0/10 [00:00<?, ?it/s]"
      ]
     },
     "metadata": {},
     "output_type": "display_data"
    },
    {
     "data": {
      "application/vnd.jupyter.widget-view+json": {
       "model_id": "",
       "version_major": 2,
       "version_minor": 0
      },
      "text/plain": [
       "PGD - Batches:   0%|          | 0/10 [00:00<?, ?it/s]"
      ]
     },
     "metadata": {},
     "output_type": "display_data"
    },
    {
     "data": {
      "application/vnd.jupyter.widget-view+json": {
       "model_id": "",
       "version_major": 2,
       "version_minor": 0
      },
      "text/plain": [
       "PGD - Batches:   0%|          | 0/10 [00:00<?, ?it/s]"
      ]
     },
     "metadata": {},
     "output_type": "display_data"
    }
   ],
   "source": [
    "# Generate the adversarial examples\n",
    "\n",
    "X_test_adv_FGSM_orig = FGSM_orig_attack.generate(X_test, batch_size=BATCH_SIZE)\n",
    "X_test_adv_FGSM_BIM = FGSM_BIM_attack.generate(X_test, batch_size=BATCH_SIZE)\n",
    "X_test_adv_FGSM_FGSM = FGSM_FGSM_attack.generate(X_test, batch_size=BATCH_SIZE)\n",
    "X_test_adv_FGSM_PGD = FGSM_PGD_attack.generate(X_test, batch_size=BATCH_SIZE)\n",
    "\n",
    "X_test_adv_BIM_orig = BIM_orig_attack.generate(X_test, batch_size=BATCH_SIZE)\n",
    "X_test_adv_BIM_BIM = BIM_BIM_attack.generate(X_test, batch_size=BATCH_SIZE)\n",
    "X_test_adv_BIM_FGSM = BIM_FGSM_attack.generate(X_test, batch_size=BATCH_SIZE)\n",
    "X_test_adv_BIM_PGD = BIM_PGD_attack.generate(X_test, batch_size=BATCH_SIZE)\n",
    "\n",
    "X_test_adv_PGD_orig = PGD_orig_attack.generate(X_test, batch_size=BATCH_SIZE)\n",
    "X_test_adv_PGD_BIM = PGD_BIM_attack.generate(X_test, batch_size=BATCH_SIZE)\n",
    "X_test_adv_PGD_FGSM = PGD_FGSM_attack.generate(X_test, batch_size=BATCH_SIZE)\n",
    "X_test_adv_PGD_PGD = PGD_PGD_attack.generate(X_test, batch_size=BATCH_SIZE)"
   ]
  },
  {
   "cell_type": "code",
   "execution_count": 8,
   "id": "82aac48951f970bd",
   "metadata": {},
   "outputs": [
    {
     "name": "stdout",
     "output_type": "stream",
     "text": [
      "Accuracy of original model on FGSM adversarial examples:  0.7599\n",
      "Accuracy of BIM hardened model on FGSM adversarial examples:  0.9732\n",
      "Accuracy of FGSM hardened model on FGSM adversarial examples:  0.9771\n",
      "Accuracy of PGD hardened model on FGSM adversarial examples:  0.9751\n",
      "Accuracy of original model on BIM adversarial examples:  0.4163\n",
      "Accuracy of BIM hardened model on BIM adversarial examples:  0.9662\n",
      "Accuracy of FGSM hardened model on BIM adversarial examples:  0.9675\n",
      "Accuracy of PGD hardened model on BIM adversarial examples:  0.9712\n",
      "Accuracy of original model on PGD adversarial examples:  0.4163\n",
      "Accuracy of BIM hardened model on PGD adversarial examples:  0.9662\n",
      "Accuracy of FGSM hardened model on PGD adversarial examples:  0.9675\n",
      "Accuracy of PGD hardened model on PGD adversarial examples:  0.9712\n",
      "Accuracy of original model on original images:  0.9934\n"
     ]
    }
   ],
   "source": [
    "# Evaluate the models on the adversarial examples\n",
    "\n",
    "FGSM_orig_pred = np.argmax(orig_clf.predict(X_test_adv_FGSM_orig, batch_size=BATCH_SIZE), axis=1)\n",
    "print('Accuracy of original model on FGSM adversarial examples: ', np.sum(FGSM_orig_pred == y_test) / len(y_test))\n",
    "\n",
    "FGSM_BIM_pred = np.argmax(BIM_clf.predict(X_test_adv_FGSM_BIM, batch_size=BATCH_SIZE), axis=1)\n",
    "print('Accuracy of BIM hardened model on FGSM adversarial examples: ', np.sum(FGSM_BIM_pred == y_test) / len(y_test))\n",
    "\n",
    "FGSM_FGSM_pred = np.argmax(FGSM_clf.predict(X_test_adv_FGSM_FGSM, batch_size=BATCH_SIZE), axis=1)\n",
    "print('Accuracy of FGSM hardened model on FGSM adversarial examples: ', np.sum(FGSM_FGSM_pred == y_test) / len(y_test))\n",
    "\n",
    "FGSM_PGD_pred = np.argmax(PGD_clf.predict(X_test_adv_FGSM_PGD, batch_size=BATCH_SIZE), axis=1)\n",
    "print('Accuracy of PGD hardened model on FGSM adversarial examples: ', np.sum(FGSM_PGD_pred == y_test) / len(y_test))\n",
    "\n",
    "BIM_orig_pred = np.argmax(orig_clf.predict(X_test_adv_BIM_orig, batch_size=BATCH_SIZE), axis=1)\n",
    "print('Accuracy of original model on BIM adversarial examples: ', np.sum(BIM_orig_pred == y_test) / len(y_test))\n",
    "\n",
    "BIM_BIM_pred = np.argmax(BIM_clf.predict(X_test_adv_BIM_BIM, batch_size=BATCH_SIZE), axis=1)\n",
    "print('Accuracy of BIM hardened model on BIM adversarial examples: ', np.sum(BIM_BIM_pred == y_test) / len(y_test))\n",
    "\n",
    "BIM_FGSM_pred = np.argmax(FGSM_clf.predict(X_test_adv_BIM_FGSM, batch_size=BATCH_SIZE), axis=1)\n",
    "print('Accuracy of FGSM hardened model on BIM adversarial examples: ', np.sum(BIM_FGSM_pred == y_test) / len(y_test))\n",
    "\n",
    "BIM_PGD_pred = np.argmax(PGD_clf.predict(X_test_adv_BIM_PGD, batch_size=BATCH_SIZE), axis=1)\n",
    "print('Accuracy of PGD hardened model on BIM adversarial examples: ', np.sum(BIM_PGD_pred == y_test) / len(y_test))\n",
    "\n",
    "PGD_orig_pred = np.argmax(orig_clf.predict(X_test_adv_PGD_orig, batch_size=BATCH_SIZE), axis=1)\n",
    "print('Accuracy of original model on PGD adversarial examples: ', np.sum(PGD_orig_pred == y_test) / len(y_test))\n",
    "\n",
    "PGD_BIM_pred = np.argmax(BIM_clf.predict(X_test_adv_PGD_BIM, batch_size=BATCH_SIZE), axis=1)\n",
    "print('Accuracy of BIM hardened model on PGD adversarial examples: ', np.sum(PGD_BIM_pred == y_test) / len(y_test))\n",
    "\n",
    "PGD_FGSM_pred = np.argmax(FGSM_clf.predict(X_test_adv_PGD_FGSM, batch_size=BATCH_SIZE), axis=1)\n",
    "print('Accuracy of FGSM hardened model on PGD adversarial examples: ', np.sum(PGD_FGSM_pred == y_test) / len(y_test))\n",
    "\n",
    "PGD_PGD_pred = np.argmax(PGD_clf.predict(X_test_adv_PGD_PGD, batch_size=BATCH_SIZE), axis=1)\n",
    "print('Accuracy of PGD hardened model on PGD adversarial examples: ', np.sum(PGD_PGD_pred == y_test) / len(y_test))\n",
    "\n",
    "# original model on original images\n",
    "orig_pred = np.argmax(orig_clf.predict(X_test, batch_size=BATCH_SIZE), axis=1)\n",
    "print('Accuracy of original model on original images: ', np.sum(orig_pred == y_test) / len(y_test))"
   ]
  },
  {
   "cell_type": "code",
   "execution_count": 10,
   "id": "fe04f6ad78ae04e7",
   "metadata": {},
   "outputs": [
    {
     "data": {
      "image/png": "[encoded data removed]",
      "text/plain": [
       "<Figure size 2000x2000 with 10 Axes>"
      ]
     },
     "metadata": {},
     "output_type": "display_data"
    }
   ],
   "source": [
    "# Find show the original images that were misclassified by the hardened models by classifying the original images\n",
    "\n",
    "orig_pred = np.argmax(orig_clf.predict(X_test, batch_size=BATCH_SIZE), axis=1)\n",
    "BIM_pred = np.argmax(BIM_clf.predict(X_test, batch_size=BATCH_SIZE), axis=1)\n",
    "FGSM_pred = np.argmax(FGSM_clf.predict(X_test, batch_size=BATCH_SIZE), axis=1)\n",
    "PGD_pred = np.argmax(PGD_clf.predict(X_test, batch_size=BATCH_SIZE), axis=1)\n",
    "\n",
    "misclassified_indices = np.where((orig_pred != y_test) & (BIM_pred != y_test) & (FGSM_pred != y_test) & (PGD_pred != y_test))[0]\n",
    "\n",
    "misclassified_images = X_test[misclassified_indices]\n",
    "misclassified_labels = y_test[misclassified_indices]\n",
    "\n",
    "fig, ax = plt.subplots(1, 10, figsize=(20, 20))\n",
    "\n",
    "for i in range(10):\n",
    "    ax[i].imshow(misclassified_images[i].reshape(28, 28), cmap='gray')\n",
    "    ax[i].set_title(f'Label: {misclassified_labels[i]}')\n",
    "    ax[i].axis('off')"
   ]
  },
  {
   "cell_type": "code",
   "execution_count": 17,
   "id": "367e7b0c-d281-4ef6-9fbe-498b768bcb81",
   "metadata": {},
   "outputs": [
    {
     "data": {
      "text/plain": [
       "MNIST_GoogLeNet(\n",
       "  (googlenet): GoogLeNet(\n",
       "    (conv1): Conv2d(1, 64, kernel_size=(7, 7), stride=(2, 2), padding=(3, 3), bias=False)\n",
       "    (maxpool1): MaxPool2d(kernel_size=3, stride=2, padding=0, dilation=1, ceil_mode=True)\n",
       "    (conv2): BasicConv2d(\n",
       "      (conv): Conv2d(64, 64, kernel_size=(1, 1), stride=(1, 1), bias=False)\n",
       "      (bn): BatchNorm2d(64, eps=0.001, momentum=0.1, affine=True, track_running_stats=True)\n",
       "    )\n",
       "    (conv3): BasicConv2d(\n",
       "      (conv): Conv2d(64, 192, kernel_size=(3, 3), stride=(1, 1), padding=(1, 1), bias=False)\n",
       "      (bn): BatchNorm2d(192, eps=0.001, momentum=0.1, affine=True, track_running_stats=True)\n",
       "    )\n",
       "    (maxpool2): MaxPool2d(kernel_size=3, stride=2, padding=0, dilation=1, ceil_mode=True)\n",
       "    (inception3a): Inception(\n",
       "      (branch1): BasicConv2d(\n",
       "        (conv): Conv2d(192, 64, kernel_size=(1, 1), stride=(1, 1), bias=False)\n",
       "        (bn): BatchNorm2d(64, eps=0.001, momentum=0.1, affine=True, track_running_stats=True)\n",
       "      )\n",
       "      (branch2): Sequential(\n",
       "        (0): BasicConv2d(\n",
       "          (conv): Conv2d(192, 96, kernel_size=(1, 1), stride=(1, 1), bias=False)\n",
       "          (bn): BatchNorm2d(96, eps=0.001, momentum=0.1, affine=True, track_running_stats=True)\n",
       "        )\n",
       "        (1): BasicConv2d(\n",
       "          (conv): Conv2d(96, 128, kernel_size=(3, 3), stride=(1, 1), padding=(1, 1), bias=False)\n",
       "          (bn): BatchNorm2d(128, eps=0.001, momentum=0.1, affine=True, track_running_stats=True)\n",
       "        )\n",
       "      )\n",
       "      (branch3): Sequential(\n",
       "        (0): BasicConv2d(\n",
       "          (conv): Conv2d(192, 16, kernel_size=(1, 1), stride=(1, 1), bias=False)\n",
       "          (bn): BatchNorm2d(16, eps=0.001, momentum=0.1, affine=True, track_running_stats=True)\n",
       "        )\n",
       "        (1): BasicConv2d(\n",
       "          (conv): Conv2d(16, 32, kernel_size=(3, 3), stride=(1, 1), padding=(1, 1), bias=False)\n",
       "          (bn): BatchNorm2d(32, eps=0.001, momentum=0.1, affine=True, track_running_stats=True)\n",
       "        )\n",
       "      )\n",
       "      (branch4): Sequential(\n",
       "        (0): MaxPool2d(kernel_size=3, stride=1, padding=1, dilation=1, ceil_mode=True)\n",
       "        (1): BasicConv2d(\n",
       "          (conv): Conv2d(192, 32, kernel_size=(1, 1), stride=(1, 1), bias=False)\n",
       "          (bn): BatchNorm2d(32, eps=0.001, momentum=0.1, affine=True, track_running_stats=True)\n",
       "        )\n",
       "      )\n",
       "    )\n",
       "    (inception3b): Inception(\n",
       "      (branch1): BasicConv2d(\n",
       "        (conv): Conv2d(256, 128, kernel_size=(1, 1), stride=(1, 1), bias=False)\n",
       "        (bn): BatchNorm2d(128, eps=0.001, momentum=0.1, affine=True, track_running_stats=True)\n",
       "      )\n",
       "      (branch2): Sequential(\n",
       "        (0): BasicConv2d(\n",
       "          (conv): Conv2d(256, 128, kernel_size=(1, 1), stride=(1, 1), bias=False)\n",
       "          (bn): BatchNorm2d(128, eps=0.001, momentum=0.1, affine=True, track_running_stats=True)\n",
       "        )\n",
       "        (1): BasicConv2d(\n",
       "          (conv): Conv2d(128, 192, kernel_size=(3, 3), stride=(1, 1), padding=(1, 1), bias=False)\n",
       "          (bn): BatchNorm2d(192, eps=0.001, momentum=0.1, affine=True, track_running_stats=True)\n",
       "        )\n",
       "      )\n",
       "      (branch3): Sequential(\n",
       "        (0): BasicConv2d(\n",
       "          (conv): Conv2d(256, 32, kernel_size=(1, 1), stride=(1, 1), bias=False)\n",
       "          (bn): BatchNorm2d(32, eps=0.001, momentum=0.1, affine=True, track_running_stats=True)\n",
       "        )\n",
       "        (1): BasicConv2d(\n",
       "          (conv): Conv2d(32, 96, kernel_size=(3, 3), stride=(1, 1), padding=(1, 1), bias=False)\n",
       "          (bn): BatchNorm2d(96, eps=0.001, momentum=0.1, affine=True, track_running_stats=True)\n",
       "        )\n",
       "      )\n",
       "      (branch4): Sequential(\n",
       "        (0): MaxPool2d(kernel_size=3, stride=1, padding=1, dilation=1, ceil_mode=True)\n",
       "        (1): BasicConv2d(\n",
       "          (conv): Conv2d(256, 64, kernel_size=(1, 1), stride=(1, 1), bias=False)\n",
       "          (bn): BatchNorm2d(64, eps=0.001, momentum=0.1, affine=True, track_running_stats=True)\n",
       "        )\n",
       "      )\n",
       "    )\n",
       "    (maxpool3): MaxPool2d(kernel_size=3, stride=2, padding=0, dilation=1, ceil_mode=True)\n",
       "    (inception4a): Inception(\n",
       "      (branch1): BasicConv2d(\n",
       "        (conv): Conv2d(480, 192, kernel_size=(1, 1), stride=(1, 1), bias=False)\n",
       "        (bn): BatchNorm2d(192, eps=0.001, momentum=0.1, affine=True, track_running_stats=True)\n",
       "      )\n",
       "      (branch2): Sequential(\n",
       "        (0): BasicConv2d(\n",
       "          (conv): Conv2d(480, 96, kernel_size=(1, 1), stride=(1, 1), bias=False)\n",
       "          (bn): BatchNorm2d(96, eps=0.001, momentum=0.1, affine=True, track_running_stats=True)\n",
       "        )\n",
       "        (1): BasicConv2d(\n",
       "          (conv): Conv2d(96, 208, kernel_size=(3, 3), stride=(1, 1), padding=(1, 1), bias=False)\n",
       "          (bn): BatchNorm2d(208, eps=0.001, momentum=0.1, affine=True, track_running_stats=True)\n",
       "        )\n",
       "      )\n",
       "      (branch3): Sequential(\n",
       "        (0): BasicConv2d(\n",
       "          (conv): Conv2d(480, 16, kernel_size=(1, 1), stride=(1, 1), bias=False)\n",
       "          (bn): BatchNorm2d(16, eps=0.001, momentum=0.1, affine=True, track_running_stats=True)\n",
       "        )\n",
       "        (1): BasicConv2d(\n",
       "          (conv): Conv2d(16, 48, kernel_size=(3, 3), stride=(1, 1), padding=(1, 1), bias=False)\n",
       "          (bn): BatchNorm2d(48, eps=0.001, momentum=0.1, affine=True, track_running_stats=True)\n",
       "        )\n",
       "      )\n",
       "      (branch4): Sequential(\n",
       "        (0): MaxPool2d(kernel_size=3, stride=1, padding=1, dilation=1, ceil_mode=True)\n",
       "        (1): BasicConv2d(\n",
       "          (conv): Conv2d(480, 64, kernel_size=(1, 1), stride=(1, 1), bias=False)\n",
       "          (bn): BatchNorm2d(64, eps=0.001, momentum=0.1, affine=True, track_running_stats=True)\n",
       "        )\n",
       "      )\n",
       "    )\n",
       "    (inception4b): Inception(\n",
       "      (branch1): BasicConv2d(\n",
       "        (conv): Conv2d(512, 160, kernel_size=(1, 1), stride=(1, 1), bias=False)\n",
       "        (bn): BatchNorm2d(160, eps=0.001, momentum=0.1, affine=True, track_running_stats=True)\n",
       "      )\n",
       "      (branch2): Sequential(\n",
       "        (0): BasicConv2d(\n",
       "          (conv): Conv2d(512, 112, kernel_size=(1, 1), stride=(1, 1), bias=False)\n",
       "          (bn): BatchNorm2d(112, eps=0.001, momentum=0.1, affine=True, track_running_stats=True)\n",
       "        )\n",
       "        (1): BasicConv2d(\n",
       "          (conv): Conv2d(112, 224, kernel_size=(3, 3), stride=(1, 1), padding=(1, 1), bias=False)\n",
       "          (bn): BatchNorm2d(224, eps=0.001, momentum=0.1, affine=True, track_running_stats=True)\n",
       "        )\n",
       "      )\n",
       "      (branch3): Sequential(\n",
       "        (0): BasicConv2d(\n",
       "          (conv): Conv2d(512, 24, kernel_size=(1, 1), stride=(1, 1), bias=False)\n",
       "          (bn): BatchNorm2d(24, eps=0.001, momentum=0.1, affine=True, track_running_stats=True)\n",
       "        )\n",
       "        (1): BasicConv2d(\n",
       "          (conv): Conv2d(24, 64, kernel_size=(3, 3), stride=(1, 1), padding=(1, 1), bias=False)\n",
       "          (bn): BatchNorm2d(64, eps=0.001, momentum=0.1, affine=True, track_running_stats=True)\n",
       "        )\n",
       "      )\n",
       "      (branch4): Sequential(\n",
       "        (0): MaxPool2d(kernel_size=3, stride=1, padding=1, dilation=1, ceil_mode=True)\n",
       "        (1): BasicConv2d(\n",
       "          (conv): Conv2d(512, 64, kernel_size=(1, 1), stride=(1, 1), bias=False)\n",
       "          (bn): BatchNorm2d(64, eps=0.001, momentum=0.1, affine=True, track_running_stats=True)\n",
       "        )\n",
       "      )\n",
       "    )\n",
       "    (inception4c): Inception(\n",
       "      (branch1): BasicConv2d(\n",
       "        (conv): Conv2d(512, 128, kernel_size=(1, 1), stride=(1, 1), bias=False)\n",
       "        (bn): BatchNorm2d(128, eps=0.001, momentum=0.1, affine=True, track_running_stats=True)\n",
       "      )\n",
       "      (branch2): Sequential(\n",
       "        (0): BasicConv2d(\n",
       "          (conv): Conv2d(512, 128, kernel_size=(1, 1), stride=(1, 1), bias=False)\n",
       "          (bn): BatchNorm2d(128, eps=0.001, momentum=0.1, affine=True, track_running_stats=True)\n",
       "        )\n",
       "        (1): BasicConv2d(\n",
       "          (conv): Conv2d(128, 256, kernel_size=(3, 3), stride=(1, 1), padding=(1, 1), bias=False)\n",
       "          (bn): BatchNorm2d(256, eps=0.001, momentum=0.1, affine=True, track_running_stats=True)\n",
       "        )\n",
       "      )\n",
       "      (branch3): Sequential(\n",
       "        (0): BasicConv2d(\n",
       "          (conv): Conv2d(512, 24, kernel_size=(1, 1), stride=(1, 1), bias=False)\n",
       "          (bn): BatchNorm2d(24, eps=0.001, momentum=0.1, affine=True, track_running_stats=True)\n",
       "        )\n",
       "        (1): BasicConv2d(\n",
       "          (conv): Conv2d(24, 64, kernel_size=(3, 3), stride=(1, 1), padding=(1, 1), bias=False)\n",
       "          (bn): BatchNorm2d(64, eps=0.001, momentum=0.1, affine=True, track_running_stats=True)\n",
       "        )\n",
       "      )\n",
       "      (branch4): Sequential(\n",
       "        (0): MaxPool2d(kernel_size=3, stride=1, padding=1, dilation=1, ceil_mode=True)\n",
       "        (1): BasicConv2d(\n",
       "          (conv): Conv2d(512, 64, kernel_size=(1, 1), stride=(1, 1), bias=False)\n",
       "          (bn): BatchNorm2d(64, eps=0.001, momentum=0.1, affine=True, track_running_stats=True)\n",
       "        )\n",
       "      )\n",
       "    )\n",
       "    (inception4d): Inception(\n",
       "      (branch1): BasicConv2d(\n",
       "        (conv): Conv2d(512, 112, kernel_size=(1, 1), stride=(1, 1), bias=False)\n",
       "        (bn): BatchNorm2d(112, eps=0.001, momentum=0.1, affine=True, track_running_stats=True)\n",
       "      )\n",
       "      (branch2): Sequential(\n",
       "        (0): BasicConv2d(\n",
       "          (conv): Conv2d(512, 144, kernel_size=(1, 1), stride=(1, 1), bias=False)\n",
       "          (bn): BatchNorm2d(144, eps=0.001, momentum=0.1, affine=True, track_running_stats=True)\n",
       "        )\n",
       "        (1): BasicConv2d(\n",
       "          (conv): Conv2d(144, 288, kernel_size=(3, 3), stride=(1, 1), padding=(1, 1), bias=False)\n",
       "          (bn): BatchNorm2d(288, eps=0.001, momentum=0.1, affine=True, track_running_stats=True)\n",
       "        )\n",
       "      )\n",
       "      (branch3): Sequential(\n",
       "        (0): BasicConv2d(\n",
       "          (conv): Conv2d(512, 32, kernel_size=(1, 1), stride=(1, 1), bias=False)\n",
       "          (bn): BatchNorm2d(32, eps=0.001, momentum=0.1, affine=True, track_running_stats=True)\n",
       "        )\n",
       "        (1): BasicConv2d(\n",
       "          (conv): Conv2d(32, 64, kernel_size=(3, 3), stride=(1, 1), padding=(1, 1), bias=False)\n",
       "          (bn): BatchNorm2d(64, eps=0.001, momentum=0.1, affine=True, track_running_stats=True)\n",
       "        )\n",
       "      )\n",
       "      (branch4): Sequential(\n",
       "        (0): MaxPool2d(kernel_size=3, stride=1, padding=1, dilation=1, ceil_mode=True)\n",
       "        (1): BasicConv2d(\n",
       "          (conv): Conv2d(512, 64, kernel_size=(1, 1), stride=(1, 1), bias=False)\n",
       "          (bn): BatchNorm2d(64, eps=0.001, momentum=0.1, affine=True, track_running_stats=True)\n",
       "        )\n",
       "      )\n",
       "    )\n",
       "    (inception4e): Inception(\n",
       "      (branch1): BasicConv2d(\n",
       "        (conv): Conv2d(528, 256, kernel_size=(1, 1), stride=(1, 1), bias=False)\n",
       "        (bn): BatchNorm2d(256, eps=0.001, momentum=0.1, affine=True, track_running_stats=True)\n",
       "      )\n",
       "      (branch2): Sequential(\n",
       "        (0): BasicConv2d(\n",
       "          (conv): Conv2d(528, 160, kernel_size=(1, 1), stride=(1, 1), bias=False)\n",
       "          (bn): BatchNorm2d(160, eps=0.001, momentum=0.1, affine=True, track_running_stats=True)\n",
       "        )\n",
       "        (1): BasicConv2d(\n",
       "          (conv): Conv2d(160, 320, kernel_size=(3, 3), stride=(1, 1), padding=(1, 1), bias=False)\n",
       "          (bn): BatchNorm2d(320, eps=0.001, momentum=0.1, affine=True, track_running_stats=True)\n",
       "        )\n",
       "      )\n",
       "      (branch3): Sequential(\n",
       "        (0): BasicConv2d(\n",
       "          (conv): Conv2d(528, 32, kernel_size=(1, 1), stride=(1, 1), bias=False)\n",
       "          (bn): BatchNorm2d(32, eps=0.001, momentum=0.1, affine=True, track_running_stats=True)\n",
       "        )\n",
       "        (1): BasicConv2d(\n",
       "          (conv): Conv2d(32, 128, kernel_size=(3, 3), stride=(1, 1), padding=(1, 1), bias=False)\n",
       "          (bn): BatchNorm2d(128, eps=0.001, momentum=0.1, affine=True, track_running_stats=True)\n",
       "        )\n",
       "      )\n",
       "      (branch4): Sequential(\n",
       "        (0): MaxPool2d(kernel_size=3, stride=1, padding=1, dilation=1, ceil_mode=True)\n",
       "        (1): BasicConv2d(\n",
       "          (conv): Conv2d(528, 128, kernel_size=(1, 1), stride=(1, 1), bias=False)\n",
       "          (bn): BatchNorm2d(128, eps=0.001, momentum=0.1, affine=True, track_running_stats=True)\n",
       "        )\n",
       "      )\n",
       "    )\n",
       "    (maxpool4): MaxPool2d(kernel_size=2, stride=2, padding=0, dilation=1, ceil_mode=True)\n",
       "    (inception5a): Inception(\n",
       "      (branch1): BasicConv2d(\n",
       "        (conv): Conv2d(832, 256, kernel_size=(1, 1), stride=(1, 1), bias=False)\n",
       "        (bn): BatchNorm2d(256, eps=0.001, momentum=0.1, affine=True, track_running_stats=True)\n",
       "      )\n",
       "      (branch2): Sequential(\n",
       "        (0): BasicConv2d(\n",
       "          (conv): Conv2d(832, 160, kernel_size=(1, 1), stride=(1, 1), bias=False)\n",
       "          (bn): BatchNorm2d(160, eps=0.001, momentum=0.1, affine=True, track_running_stats=True)\n",
       "        )\n",
       "        (1): BasicConv2d(\n",
       "          (conv): Conv2d(160, 320, kernel_size=(3, 3), stride=(1, 1), padding=(1, 1), bias=False)\n",
       "          (bn): BatchNorm2d(320, eps=0.001, momentum=0.1, affine=True, track_running_stats=True)\n",
       "        )\n",
       "      )\n",
       "      (branch3): Sequential(\n",
       "        (0): BasicConv2d(\n",
       "          (conv): Conv2d(832, 32, kernel_size=(1, 1), stride=(1, 1), bias=False)\n",
       "          (bn): BatchNorm2d(32, eps=0.001, momentum=0.1, affine=True, track_running_stats=True)\n",
       "        )\n",
       "        (1): BasicConv2d(\n",
       "          (conv): Conv2d(32, 128, kernel_size=(3, 3), stride=(1, 1), padding=(1, 1), bias=False)\n",
       "          (bn): BatchNorm2d(128, eps=0.001, momentum=0.1, affine=True, track_running_stats=True)\n",
       "        )\n",
       "      )\n",
       "      (branch4): Sequential(\n",
       "        (0): MaxPool2d(kernel_size=3, stride=1, padding=1, dilation=1, ceil_mode=True)\n",
       "        (1): BasicConv2d(\n",
       "          (conv): Conv2d(832, 128, kernel_size=(1, 1), stride=(1, 1), bias=False)\n",
       "          (bn): BatchNorm2d(128, eps=0.001, momentum=0.1, affine=True, track_running_stats=True)\n",
       "        )\n",
       "      )\n",
       "    )\n",
       "    (inception5b): Inception(\n",
       "      (branch1): BasicConv2d(\n",
       "        (conv): Conv2d(832, 384, kernel_size=(1, 1), stride=(1, 1), bias=False)\n",
       "        (bn): BatchNorm2d(384, eps=0.001, momentum=0.1, affine=True, track_running_stats=True)\n",
       "      )\n",
       "      (branch2): Sequential(\n",
       "        (0): BasicConv2d(\n",
       "          (conv): Conv2d(832, 192, kernel_size=(1, 1), stride=(1, 1), bias=False)\n",
       "          (bn): BatchNorm2d(192, eps=0.001, momentum=0.1, affine=True, track_running_stats=True)\n",
       "        )\n",
       "        (1): BasicConv2d(\n",
       "          (conv): Conv2d(192, 384, kernel_size=(3, 3), stride=(1, 1), padding=(1, 1), bias=False)\n",
       "          (bn): BatchNorm2d(384, eps=0.001, momentum=0.1, affine=True, track_running_stats=True)\n",
       "        )\n",
       "      )\n",
       "      (branch3): Sequential(\n",
       "        (0): BasicConv2d(\n",
       "          (conv): Conv2d(832, 48, kernel_size=(1, 1), stride=(1, 1), bias=False)\n",
       "          (bn): BatchNorm2d(48, eps=0.001, momentum=0.1, affine=True, track_running_stats=True)\n",
       "        )\n",
       "        (1): BasicConv2d(\n",
       "          (conv): Conv2d(48, 128, kernel_size=(3, 3), stride=(1, 1), padding=(1, 1), bias=False)\n",
       "          (bn): BatchNorm2d(128, eps=0.001, momentum=0.1, affine=True, track_running_stats=True)\n",
       "        )\n",
       "      )\n",
       "      (branch4): Sequential(\n",
       "        (0): MaxPool2d(kernel_size=3, stride=1, padding=1, dilation=1, ceil_mode=True)\n",
       "        (1): BasicConv2d(\n",
       "          (conv): Conv2d(832, 128, kernel_size=(1, 1), stride=(1, 1), bias=False)\n",
       "          (bn): BatchNorm2d(128, eps=0.001, momentum=0.1, affine=True, track_running_stats=True)\n",
       "        )\n",
       "      )\n",
       "    )\n",
       "    (avgpool): AdaptiveAvgPool2d(output_size=(1, 1))\n",
       "    (dropout): Dropout(p=0.2, inplace=False)\n",
       "    (fc): Linear(in_features=1024, out_features=10, bias=True)\n",
       "  )\n",
       ")"
      ]
     },
     "execution_count": 17,
     "metadata": {},
     "output_type": "execute_result"
    }
   ],
   "source": [
    "# Load each of GoogLeNet\n",
    "\n",
    "original_googlenet = MNIST_GoogLeNet()\n",
    "original_googlenet.load_state_dict(torch.load('./models/clean_state/MNIST_GoogLeNet.pth'))\n",
    "original_googlenet.eval()\n",
    "\n",
    "BIM_googlenet = torch.load('./models/hardened_state/BIM_MNIST_GoogLeNet.pth')\n",
    "BIM_googlenet.eval()\n",
    "\n",
    "FGSM_googlenet = torch.load('./models/hardened_state/FGSM_MNIST_GoogLeNet.pth')\n",
    "FGSM_googlenet.eval()\n",
    "\n",
    "PGD_googlenet = torch.load('./models/hardened_state/PGD_MNIST_GoogLeNet.pth')\n",
    "PGD_googlenet.eval()"
   ]
  },
  {
   "cell_type": "code",
   "execution_count": 18,
   "id": "6737b0d1-bf6e-49da-8624-31394ecedce0",
   "metadata": {},
   "outputs": [],
   "source": [
    "# Create the ART classifiers\n",
    "orig_clf = PyTorchClassifier(\n",
    "    model=original_googlenet,\n",
    "    loss=torch.nn.CrossEntropyLoss(),\n",
    "    optimizer=torch.optim.Adam(original_resnet.parameters(), lr=0.01),\n",
    "    input_shape=(1, 28, 28),\n",
    "    nb_classes=10,\n",
    "    device_type='gpu'\n",
    ")\n",
    "\n",
    "BIM_clf = PyTorchClassifier(\n",
    "    model=BIM_googlenet,\n",
    "    loss=torch.nn.CrossEntropyLoss(),\n",
    "    optimizer=torch.optim.Adam(BIM_resnet.parameters(), lr=0.01),\n",
    "    input_shape=(1, 28, 28),\n",
    "    nb_classes=10,\n",
    "    preprocessing=(0.1307, 0.3081),\n",
    "    device_type='gpu'\n",
    ")\n",
    "\n",
    "FGSM_clf = PyTorchClassifier(\n",
    "    model=FGSM_googlenet,\n",
    "    loss=torch.nn.CrossEntropyLoss(),\n",
    "    optimizer=torch.optim.Adam(FGSM_resnet.parameters(), lr=0.01),\n",
    "    input_shape=(1, 28, 28),\n",
    "    nb_classes=10,\n",
    "    preprocessing=(0.1307, 0.3081),\n",
    "    device_type='gpu'\n",
    ")\n",
    "\n",
    "PGD_clf = PyTorchClassifier(\n",
    "    model=PGD_googlenet,\n",
    "    loss=torch.nn.CrossEntropyLoss(),\n",
    "    optimizer=torch.optim.Adam(PGD_resnet.parameters(), lr=0.01),\n",
    "    input_shape=(1, 28, 28),\n",
    "    nb_classes=10,\n",
    "    preprocessing=(0.1307, 0.3081),\n",
    "    device_type='gpu'\n",
    ")"
   ]
  },
  {
   "cell_type": "code",
   "execution_count": 19,
   "id": "8de16715-4b2f-4927-a86b-e0743b542d90",
   "metadata": {},
   "outputs": [],
   "source": [
    "# Create the ART attacks\n",
    "FGSM_orig_attack = FastGradientMethod(estimator=orig_clf, eps=EPS, batch_size=BATCH_SIZE)\n",
    "FGSM_BIM_attack = FastGradientMethod(estimator=BIM_clf, eps=EPS, batch_size=BATCH_SIZE)\n",
    "FGSM_FGSM_attack = FastGradientMethod(estimator=FGSM_clf, eps=EPS, batch_size=BATCH_SIZE)\n",
    "FGSM_PGD_attack = FastGradientMethod(estimator=PGD_clf, eps=EPS, batch_size=BATCH_SIZE)\n",
    "\n",
    "BIM_orig_attack = BasicIterativeMethod(estimator=orig_clf, eps=EPS, batch_size=BATCH_SIZE)\n",
    "BIM_BIM_attack = BasicIterativeMethod(estimator=BIM_clf, eps=EPS, batch_size=BATCH_SIZE)\n",
    "BIM_FGSM_attack = BasicIterativeMethod(estimator=FGSM_clf, eps=EPS, batch_size=BATCH_SIZE)\n",
    "BIM_PGD_attack = BasicIterativeMethod(estimator=PGD_clf, eps=EPS, batch_size=BATCH_SIZE)\n",
    "\n",
    "PGD_orig_attack = ProjectedGradientDescent(estimator=orig_clf, eps=EPS, batch_size=BATCH_SIZE)\n",
    "PGD_BIM_attack = ProjectedGradientDescent(estimator=BIM_clf, eps=EPS, batch_size=BATCH_SIZE)\n",
    "PGD_FGSM_attack = ProjectedGradientDescent(estimator=FGSM_clf, eps=EPS, batch_size=BATCH_SIZE)\n",
    "PGD_PGD_attack = ProjectedGradientDescent(estimator=PGD_clf, eps=EPS, batch_size=BATCH_SIZE)"
   ]
  },
  {
   "cell_type": "code",
   "execution_count": 20,
   "id": "c649f54e-3efe-463a-910c-dbdaaca614c8",
   "metadata": {},
   "outputs": [
    {
     "data": {
      "application/vnd.jupyter.widget-view+json": {
       "model_id": "",
       "version_major": 2,
       "version_minor": 0
      },
      "text/plain": [
       "PGD - Batches:   0%|          | 0/10 [00:00<?, ?it/s]"
      ]
     },
     "metadata": {},
     "output_type": "display_data"
    },
    {
     "data": {
      "application/vnd.jupyter.widget-view+json": {
       "model_id": "",
       "version_major": 2,
       "version_minor": 0
      },
      "text/plain": [
       "PGD - Batches:   0%|          | 0/10 [00:00<?, ?it/s]"
      ]
     },
     "metadata": {},
     "output_type": "display_data"
    },
    {
     "data": {
      "application/vnd.jupyter.widget-view+json": {
       "model_id": "",
       "version_major": 2,
       "version_minor": 0
      },
      "text/plain": [
       "PGD - Batches:   0%|          | 0/10 [00:00<?, ?it/s]"
      ]
     },
     "metadata": {},
     "output_type": "display_data"
    },
    {
     "data": {
      "application/vnd.jupyter.widget-view+json": {
       "model_id": "",
       "version_major": 2,
       "version_minor": 0
      },
      "text/plain": [
       "PGD - Batches:   0%|          | 0/10 [00:00<?, ?it/s]"
      ]
     },
     "metadata": {},
     "output_type": "display_data"
    },
    {
     "data": {
      "application/vnd.jupyter.widget-view+json": {
       "model_id": "",
       "version_major": 2,
       "version_minor": 0
      },
      "text/plain": [
       "PGD - Batches:   0%|          | 0/10 [00:00<?, ?it/s]"
      ]
     },
     "metadata": {},
     "output_type": "display_data"
    },
    {
     "data": {
      "application/vnd.jupyter.widget-view+json": {
       "model_id": "",
       "version_major": 2,
       "version_minor": 0
      },
      "text/plain": [
       "PGD - Batches:   0%|          | 0/10 [00:00<?, ?it/s]"
      ]
     },
     "metadata": {},
     "output_type": "display_data"
    },
    {
     "data": {
      "application/vnd.jupyter.widget-view+json": {
       "model_id": "",
       "version_major": 2,
       "version_minor": 0
      },
      "text/plain": [
       "PGD - Batches:   0%|          | 0/10 [00:00<?, ?it/s]"
      ]
     },
     "metadata": {},
     "output_type": "display_data"
    },
    {
     "data": {
      "application/vnd.jupyter.widget-view+json": {
       "model_id": "",
       "version_major": 2,
       "version_minor": 0
      },
      "text/plain": [
       "PGD - Batches:   0%|          | 0/10 [00:00<?, ?it/s]"
      ]
     },
     "metadata": {},
     "output_type": "display_data"
    }
   ],
   "source": [
    "# Generate the adversarial examples\n",
    "\n",
    "X_test_adv_FGSM_orig = FGSM_orig_attack.generate(X_test, batch_size=BATCH_SIZE)\n",
    "X_test_adv_FGSM_BIM = FGSM_BIM_attack.generate(X_test, batch_size=BATCH_SIZE)\n",
    "X_test_adv_FGSM_FGSM = FGSM_FGSM_attack.generate(X_test, batch_size=BATCH_SIZE)\n",
    "X_test_adv_FGSM_PGD = FGSM_PGD_attack.generate(X_test, batch_size=BATCH_SIZE)\n",
    "\n",
    "X_test_adv_BIM_orig = BIM_orig_attack.generate(X_test, batch_size=BATCH_SIZE)\n",
    "X_test_adv_BIM_BIM = BIM_BIM_attack.generate(X_test, batch_size=BATCH_SIZE)\n",
    "X_test_adv_BIM_FGSM = BIM_FGSM_attack.generate(X_test, batch_size=BATCH_SIZE)\n",
    "X_test_adv_BIM_PGD = BIM_PGD_attack.generate(X_test, batch_size=BATCH_SIZE)\n",
    "\n",
    "X_test_adv_PGD_orig = PGD_orig_attack.generate(X_test, batch_size=BATCH_SIZE)\n",
    "X_test_adv_PGD_BIM = PGD_BIM_attack.generate(X_test, batch_size=BATCH_SIZE)\n",
    "X_test_adv_PGD_FGSM = PGD_FGSM_attack.generate(X_test, batch_size=BATCH_SIZE)\n",
    "X_test_adv_PGD_PGD = PGD_PGD_attack.generate(X_test, batch_size=BATCH_SIZE)"
   ]
  },
  {
   "cell_type": "code",
   "execution_count": 21,
   "id": "310e37ea-b689-48bc-95d0-89431c305e22",
   "metadata": {},
   "outputs": [
    {
     "name": "stdout",
     "output_type": "stream",
     "text": [
      "Accuracy of original model on FGSM adversarial examples:  0.7823\n",
      "Accuracy of BIM hardened model on FGSM adversarial examples:  0.9707\n",
      "Accuracy of FGSM hardened model on FGSM adversarial examples:  0.9683\n",
      "Accuracy of PGD hardened model on FGSM adversarial examples:  0.9665\n",
      "Accuracy of original model on BIM adversarial examples:  0.3659\n",
      "Accuracy of BIM hardened model on BIM adversarial examples:  0.9597\n",
      "Accuracy of FGSM hardened model on BIM adversarial examples:  0.9474\n",
      "Accuracy of PGD hardened model on BIM adversarial examples:  0.9561\n",
      "Accuracy of original model on PGD adversarial examples:  0.3659\n",
      "Accuracy of BIM hardened model on PGD adversarial examples:  0.9597\n",
      "Accuracy of FGSM hardened model on PGD adversarial examples:  0.9474\n",
      "Accuracy of PGD hardened model on PGD adversarial examples:  0.9561\n",
      "Accuracy of original model on original images:  0.994\n"
     ]
    }
   ],
   "source": [
    "# Evaluate the models on the adversarial examples\n",
    "\n",
    "FGSM_orig_pred = np.argmax(orig_clf.predict(X_test_adv_FGSM_orig, batch_size=BATCH_SIZE), axis=1)\n",
    "print('Accuracy of original model on FGSM adversarial examples: ', np.sum(FGSM_orig_pred == y_test) / len(y_test))\n",
    "\n",
    "FGSM_BIM_pred = np.argmax(BIM_clf.predict(X_test_adv_FGSM_BIM, batch_size=BATCH_SIZE), axis=1)\n",
    "print('Accuracy of BIM hardened model on FGSM adversarial examples: ', np.sum(FGSM_BIM_pred == y_test) / len(y_test))\n",
    "\n",
    "FGSM_FGSM_pred = np.argmax(FGSM_clf.predict(X_test_adv_FGSM_FGSM, batch_size=BATCH_SIZE), axis=1)\n",
    "print('Accuracy of FGSM hardened model on FGSM adversarial examples: ', np.sum(FGSM_FGSM_pred == y_test) / len(y_test))\n",
    "\n",
    "FGSM_PGD_pred = np.argmax(PGD_clf.predict(X_test_adv_FGSM_PGD, batch_size=BATCH_SIZE), axis=1)\n",
    "print('Accuracy of PGD hardened model on FGSM adversarial examples: ', np.sum(FGSM_PGD_pred == y_test) / len(y_test))\n",
    "\n",
    "BIM_orig_pred = np.argmax(orig_clf.predict(X_test_adv_BIM_orig, batch_size=BATCH_SIZE), axis=1)\n",
    "print('Accuracy of original model on BIM adversarial examples: ', np.sum(BIM_orig_pred == y_test) / len(y_test))\n",
    "\n",
    "BIM_BIM_pred = np.argmax(BIM_clf.predict(X_test_adv_BIM_BIM, batch_size=BATCH_SIZE), axis=1)\n",
    "print('Accuracy of BIM hardened model on BIM adversarial examples: ', np.sum(BIM_BIM_pred == y_test) / len(y_test))\n",
    "\n",
    "BIM_FGSM_pred = np.argmax(FGSM_clf.predict(X_test_adv_BIM_FGSM, batch_size=BATCH_SIZE), axis=1)\n",
    "print('Accuracy of FGSM hardened model on BIM adversarial examples: ', np.sum(BIM_FGSM_pred == y_test) / len(y_test))\n",
    "\n",
    "BIM_PGD_pred = np.argmax(PGD_clf.predict(X_test_adv_BIM_PGD, batch_size=BATCH_SIZE), axis=1)\n",
    "print('Accuracy of PGD hardened model on BIM adversarial examples: ', np.sum(BIM_PGD_pred == y_test) / len(y_test))\n",
    "\n",
    "PGD_orig_pred = np.argmax(orig_clf.predict(X_test_adv_PGD_orig, batch_size=BATCH_SIZE), axis=1)\n",
    "print('Accuracy of original model on PGD adversarial examples: ', np.sum(PGD_orig_pred == y_test) / len(y_test))\n",
    "\n",
    "PGD_BIM_pred = np.argmax(BIM_clf.predict(X_test_adv_PGD_BIM, batch_size=BATCH_SIZE), axis=1)\n",
    "print('Accuracy of BIM hardened model on PGD adversarial examples: ', np.sum(PGD_BIM_pred == y_test) / len(y_test))\n",
    "\n",
    "PGD_FGSM_pred = np.argmax(FGSM_clf.predict(X_test_adv_PGD_FGSM, batch_size=BATCH_SIZE), axis=1)\n",
    "print('Accuracy of FGSM hardened model on PGD adversarial examples: ', np.sum(PGD_FGSM_pred == y_test) / len(y_test))\n",
    "\n",
    "PGD_PGD_pred = np.argmax(PGD_clf.predict(X_test_adv_PGD_PGD, batch_size=BATCH_SIZE), axis=1)\n",
    "print('Accuracy of PGD hardened model on PGD adversarial examples: ', np.sum(PGD_PGD_pred == y_test) / len(y_test))\n",
    "\n",
    "# original model on original images\n",
    "orig_pred = np.argmax(orig_clf.predict(X_test, batch_size=BATCH_SIZE), axis=1)\n",
    "print('Accuracy of original model on original images: ', np.sum(orig_pred == y_test) / len(y_test))"
   ]
  }
 ],
 "metadata": {
  "kernelspec": {
   "display_name": "Python 3 (ipykernel)",
   "language": "python",
   "name": "python3"
  },
  "language_info": {
   "codemirror_mode": {
    "name": "ipython",
    "version": 3
   },
   "file_extension": ".py",
   "mimetype": "text/x-python",
   "name": "python",
   "nbconvert_exporter": "python",
   "pygments_lexer": "ipython3",
   "version": "3.12.1"
  }
 },
 "nbformat": 4,
 "nbformat_minor": 5
}
