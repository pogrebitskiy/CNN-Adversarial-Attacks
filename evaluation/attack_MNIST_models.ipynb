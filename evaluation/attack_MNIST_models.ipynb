{
 "cells": [
  {
   "cell_type": "code",
   "execution_count": 1,
   "id": "initial_id",
   "metadata": {
    "ExecuteTime": {
     "end_time": "2024-04-14T07:23:19.390811Z",
     "start_time": "2024-04-14T07:23:12.663622Z"
    }
   },
   "outputs": [],
   "source": [
    "from models.MNIST_Models import *\n",
    "import torch\n",
    "import numpy as np\n",
    "from torchvision import datasets, transforms\n",
    "from torch.utils.data import DataLoader, random_split\n",
    "import utils\n",
    "from art.estimators.classification import PyTorchClassifier\n",
    "from art.attacks.evasion import FastGradientMethod, BasicIterativeMethod, ProjectedGradientDescent, DeepFool\n",
    "from art.defences.trainer import AdversarialTrainer\n",
    "from copy import deepcopy\n",
    "import os"
   ]
  },
  {
   "cell_type": "code",
   "execution_count": 2,
   "id": "ff9fdba3e00eaee6",
   "metadata": {},
   "outputs": [],
   "source": [
    "# Load the data\n",
    "BATCH_SIZE = 256\n",
    "EPS = 0.2\n",
    "\n",
    "torch.manual_seed(42)\n",
    "np.random.seed(42)\n",
    "generator = torch.Generator().manual_seed(42)\n",
    "\n",
    "# Define the transformation\n",
    "train_transform = transforms.Compose([\n",
    "    transforms.RandomRotation(10),\n",
    "    transforms.RandomAffine(0, translate=(0.1, 0.1)), \n",
    "    transforms.ToTensor(), \n",
    "    transforms.Normalize((0.1307,), (0.3081,)),\n",
    "])\n",
    "\n",
    "test_transform = transforms.Compose([\n",
    "    transforms.ToTensor(), \n",
    "    transforms.Normalize((0.1307,), (0.3081,)),\n",
    "])\n",
    "\n",
    "# Load the MNIST dataset\n",
    "train_dataset = datasets.MNIST(root='./data', train=True, transform=train_transform, download=True)\n",
    "test_dataset = datasets.MNIST(root='./data', train=False, transform=test_transform, download=True)\n",
    "\n",
    "# Split the training dataset into training and validation datasets\n",
    "train_dataset, val_dataset = random_split(train_dataset, [50000, 10000], generator=generator)\n",
    "\n",
    "# Create the dataloaders\n",
    "train_loader = DataLoader(train_dataset, batch_size=BATCH_SIZE, shuffle=True)\n",
    "val_loader = DataLoader(val_dataset, batch_size=BATCH_SIZE, shuffle=False)\n",
    "test_loader = DataLoader(test_dataset, batch_size=BATCH_SIZE, shuffle=False)\n",
    "\n",
    "X_train, y_train = utils.loader_to_numpy(train_loader)\n",
    "X_val, y_val = utils.loader_to_numpy(val_loader)\n",
    "X_test, y_test = utils.loader_to_numpy(test_loader)"
   ]
  },
  {
   "cell_type": "code",
   "execution_count": 3,
   "id": "ab8921504be3a64d",
   "metadata": {},
   "outputs": [],
   "source": [
    "def harden_model(clean_model, clean_classifier, BATCH_SIZE, EPS, model_name, attack_obj, plot_title):\n",
    "    \n",
    "    if isinstance(attack_obj, FastGradientMethod):\n",
    "        hardened_prefix = 'FGSM'\n",
    "    elif isinstance(attack_obj, BasicIterativeMethod):\n",
    "        hardened_prefix = 'BIM'\n",
    "    elif isinstance(attack_obj, ProjectedGradientDescent):\n",
    "        hardened_prefix = 'PGD'\n",
    "    elif isinstance(attack_obj, DeepFool):\n",
    "        hardened_prefix = 'DF'\n",
    "    else:\n",
    "        raise Exception(\"Enter a valid attack object\")\n",
    "        \n",
    "    save_path = os.path.join('models', 'hardened_state', f'{hardened_prefix}_{model_name}.pth')\n",
    "                             \n",
    "    try:\n",
    "        hardened_model = torch.load(save_path)\n",
    "        hardened_classifier = PyTorchClassifier(\n",
    "            model=hardened_model,\n",
    "            loss=torch.nn.CrossEntropyLoss(),\n",
    "            optimizer=torch.optim.Adam(hardened_model.parameters(), lr=0.01),\n",
    "            input_shape=(1, 28, 28),\n",
    "            nb_classes=10,\n",
    "            preprocessing=(0.1307, 0.3081),\n",
    "            device_type='gpu'\n",
    "        )\n",
    "        if isinstance(attack_obj, DeepFool):\n",
    "            attack = attack_obj(hardened_classifier, batch_size=BATCH_SIZE)\n",
    "        else:\n",
    "            attack = attack_obj(hardened_classifier, batch_size=BATCH_SIZE, eps=EPS)\n",
    "    except:\n",
    "        hardened_model = deepcopy(clean_model)\n",
    "        hardened_classifier = PyTorchClassifier(\n",
    "            model=hardened_model,\n",
    "            loss=torch.nn.CrossEntropyLoss(),\n",
    "            optimizer=torch.optim.Adam(hardened_model.parameters(), lr=0.01),\n",
    "            input_shape=(1, 28, 28),\n",
    "            nb_classes=10,\n",
    "            preprocessing=(0.1307, 0.3081),\n",
    "            device_type='gpu'\n",
    "        )\n",
    "        if isinstance(attack_obj, DeepFool):\n",
    "            attack = attack_obj(hardened_classifier, batch_size=BATCH_SIZE)\n",
    "        else:\n",
    "            attack = attack_obj(hardened_classifier, batch_size=BATCH_SIZE, eps=EPS)\n",
    "        adv_trainer = AdversarialTrainer(hardened_classifier, attacks=attack, ratio=0.5)\n",
    "        adv_trainer.fit(X_train, y_train, batch_size=BATCH_SIZE, nb_epochs=10)\n",
    "        torch.save(adv_trainer.classifier.model, save_path)\n",
    "        hardened_classifier = adv_trainer.classifier\n",
    "    \n",
    "    \n",
    "    eps_values = [0.01, 0.02, 0.03, 0.04, 0.05, 0.1, 0.2, 0.3, 0.4, 0.5, 0.6]\n",
    "    utils.compare_classifiers(clean_classifier, hardened_classifier, X_test, y_test, eps_values, batch_size=BATCH_SIZE, title=plot_title)\n",
    "    \n",
    "    print('Hardened model accuracy on clean test data: ', np.sum(np.argmax(hardened_classifier.predict(X_test), axis=1) == y_test) / len(y_test))\n",
    "    print(f'Hardened model accuracy on {str(attack_obj)} adversarial test data: ', utils.evaluate_attack(attack, hardened_classifier, X_test, y_test))"
   ]
  },
  {
   "cell_type": "code",
   "execution_count": 4,
   "id": "589d7921ef6ea9db",
   "metadata": {},
   "outputs": [],
   "source": [
    "def run_adversarial_process(clean_model, BATCH_SIZE, EPS, model_name, plot_title):\n",
    "    clean_classifier = PyTorchClassifier(\n",
    "    model=clean_model,\n",
    "    loss=torch.nn.CrossEntropyLoss(),\n",
    "    optimizer=torch.optim.Adam(clean_model.parameters(), lr=0.01),\n",
    "    input_shape=(1, 28, 28),\n",
    "    nb_classes=10,\n",
    "    preprocessing=(0.1307, 0.3081),\n",
    "    device_type='gpu'\n",
    ")\n",
    "\n",
    "    # Get the clean accuracy\n",
    "    clean_acc = np.sum(np.argmax(clean_classifier.predict(X_test), axis=1) == y_test) / len(y_test)\n",
    "    print(f'Clean accuracy: {clean_acc}')\n",
    "    \n",
    "    # Try FGSM\n",
    "    attack = FastGradientMethod(clean_classifier, batch_size=BATCH_SIZE, eps=EPS)\n",
    "    print('Accuracy on FGSM adversarial test data: ', utils.evaluate_attack(attack, clean_classifier, X_test, y_test))\n",
    "    utils.plot_images(X_test, y_test, clean_classifier, attack, n=5)\n",
    "    \n",
    "    # Try BIM\n",
    "    attack = BasicIterativeMethod(clean_classifier, batch_size=BATCH_SIZE, eps=EPS)\n",
    "    attack.generate()\n",
    "    print('Accuracy on BIM adversarial test data: ', utils.evaluate_attack(attack, clean_classifier, X_test, y_test))\n",
    "    utils.plot_images(X_test, y_test, clean_classifier, attack, n=5)\n",
    "    \n",
    "    # Try PGD\n",
    "    attack = ProjectedGradientDescent(clean_classifier, batch_size=BATCH_SIZE, eps=EPS)\n",
    "    print('Accuracy on PGD adversarial test data: ', utils.evaluate_attack(attack, clean_classifier, X_test, y_test))\n",
    "    utils.plot_images(X_test, y_test, clean_classifier, attack, n=5)\n",
    "    \n",
    "    # Try deepfool\n",
    "    attack = DeepFool(clean_classifier, batch_size=BATCH_SIZE)\n",
    "    print('Accuracy on DeepFool adversarial test data: ', utils.evaluate_attack(attack, clean_classifier, X_test, y_test))\n",
    "    utils.plot_images(X_test, y_test, clean_classifier, attack, n=5)\n",
    "    \n",
    "    # harden with BIM\n",
    "    harden_model(clean_model, clean_classifier, BATCH_SIZE, EPS, model_name, BasicIterativeMethod, plot_title + ' Hardened with BIM')\n",
    "    \n",
    "    # harden with PGD\n",
    "    harden_model(clean_model, clean_classifier, BATCH_SIZE, EPS, model_name, ProjectedGradientDescent, plot_title + ' Hardened with PGD')\n",
    "    \n",
    "    # harden with FGSM\n",
    "    harden_model(clean_model, clean_classifier, BATCH_SIZE, EPS, model_name, FastGradientMethod, plot_title + ' Hardened with FGSM')\n",
    "    \n",
    "    # harden with DeepFool\n",
    "    harden_model(clean_model, clean_classifier, BATCH_SIZE, EPS, model_name, DeepFool, plot_title + ' Hardened with DeepFool')"
   ]
  },
  {
   "cell_type": "code",
   "execution_count": 5,
   "id": "c346aa6ae4e4a511",
   "metadata": {},
   "outputs": [
    {
     "name": "stdout",
     "output_type": "stream",
     "text": [
      "Clean accuracy: 0.9845\n",
      "Accuracy on FGSM adversarial test data:  0.5251\n"
     ]
    },
    {
     "data": {
      "image/png": "[encoded data removed]",
      "text/plain": [
       "<Figure size 1500x500 with 10 Axes>"
      ]
     },
     "metadata": {},
     "output_type": "display_data"
    },
    {
     "data": {
      "application/vnd.jupyter.widget-view+json": {
       "model_id": "",
       "version_major": 2,
       "version_minor": 0
      },
      "text/plain": [
       "PGD - Batches:   0%|          | 0/20 [00:00<?, ?it/s]"
      ]
     },
     "metadata": {},
     "output_type": "display_data"
    },
    {
     "name": "stdout",
     "output_type": "stream",
     "text": [
      "Accuracy on BIM adversarial test data:  0.1897\n"
     ]
    },
    {
     "data": {
      "application/vnd.jupyter.widget-view+json": {
       "model_id": "",
       "version_major": 2,
       "version_minor": 0
      },
      "text/plain": [
       "PGD - Batches:   0%|          | 0/1 [00:00<?, ?it/s]"
      ]
     },
     "metadata": {},
     "output_type": "display_data"
    },
    {
     "data": {
      "application/vnd.jupyter.widget-view+json": {
       "model_id": "",
       "version_major": 2,
       "version_minor": 0
      },
      "text/plain": [
       "PGD - Batches:   0%|          | 0/1 [00:00<?, ?it/s]"
      ]
     },
     "metadata": {},
     "output_type": "display_data"
    },
    {
     "data": {
      "application/vnd.jupyter.widget-view+json": {
       "model_id": "",
       "version_major": 2,
       "version_minor": 0
      },
      "text/plain": [
       "PGD - Batches:   0%|          | 0/1 [00:00<?, ?it/s]"
      ]
     },
     "metadata": {},
     "output_type": "display_data"
    },
    {
     "data": {
      "application/vnd.jupyter.widget-view+json": {
       "model_id": "",
       "version_major": 2,
       "version_minor": 0
      },
      "text/plain": [
       "PGD - Batches:   0%|          | 0/1 [00:00<?, ?it/s]"
      ]
     },
     "metadata": {},
     "output_type": "display_data"
    },
    {
     "data": {
      "application/vnd.jupyter.widget-view+json": {
       "model_id": "",
       "version_major": 2,
       "version_minor": 0
      },
      "text/plain": [
       "PGD - Batches:   0%|          | 0/1 [00:00<?, ?it/s]"
      ]
     },
     "metadata": {},
     "output_type": "display_data"
    },
    {
     "data": {
      "application/vnd.jupyter.widget-view+json": {
       "model_id": "",
       "version_major": 2,
       "version_minor": 0
      },
      "text/plain": [
       "PGD - Batches:   0%|          | 0/1 [00:00<?, ?it/s]"
      ]
     },
     "metadata": {},
     "output_type": "display_data"
    },
    {
     "data": {
      "application/vnd.jupyter.widget-view+json": {
       "model_id": "",
       "version_major": 2,
       "version_minor": 0
      },
      "text/plain": [
       "PGD - Batches:   0%|          | 0/1 [00:00<?, ?it/s]"
      ]
     },
     "metadata": {},
     "output_type": "display_data"
    },
    {
     "data": {
      "application/vnd.jupyter.widget-view+json": {
       "model_id": "",
       "version_major": 2,
       "version_minor": 0
      },
      "text/plain": [
       "PGD - Batches:   0%|          | 0/1 [00:00<?, ?it/s]"
      ]
     },
     "metadata": {},
     "output_type": "display_data"
    },
    {
     "data": {
      "application/vnd.jupyter.widget-view+json": {
       "model_id": "",
       "version_major": 2,
       "version_minor": 0
      },
      "text/plain": [
       "PGD - Batches:   0%|          | 0/1 [00:00<?, ?it/s]"
      ]
     },
     "metadata": {},
     "output_type": "display_data"
    },
    {
     "data": {
      "application/vnd.jupyter.widget-view+json": {
       "model_id": "",
       "version_major": 2,
       "version_minor": 0
      },
      "text/plain": [
       "PGD - Batches:   0%|          | 0/1 [00:00<?, ?it/s]"
      ]
     },
     "metadata": {},
     "output_type": "display_data"
    },
    {
     "data": {
      "image/png": "[encoded data removed]",
      "text/plain": [
       "<Figure size 1500x500 with 10 Axes>"
      ]
     },
     "metadata": {},
     "output_type": "display_data"
    },
    {
     "data": {
      "application/vnd.jupyter.widget-view+json": {
       "model_id": "",
       "version_major": 2,
       "version_minor": 0
      },
      "text/plain": [
       "PGD - Batches:   0%|          | 0/20 [00:00<?, ?it/s]"
      ]
     },
     "metadata": {},
     "output_type": "display_data"
    },
    {
     "name": "stdout",
     "output_type": "stream",
     "text": [
      "Accuracy on PGD adversarial test data:  0.1897\n"
     ]
    },
    {
     "data": {
      "application/vnd.jupyter.widget-view+json": {
       "model_id": "",
       "version_major": 2,
       "version_minor": 0
      },
      "text/plain": [
       "PGD - Batches:   0%|          | 0/1 [00:00<?, ?it/s]"
      ]
     },
     "metadata": {},
     "output_type": "display_data"
    },
    {
     "data": {
      "application/vnd.jupyter.widget-view+json": {
       "model_id": "",
       "version_major": 2,
       "version_minor": 0
      },
      "text/plain": [
       "PGD - Batches:   0%|          | 0/1 [00:00<?, ?it/s]"
      ]
     },
     "metadata": {},
     "output_type": "display_data"
    },
    {
     "data": {
      "application/vnd.jupyter.widget-view+json": {
       "model_id": "",
       "version_major": 2,
       "version_minor": 0
      },
      "text/plain": [
       "PGD - Batches:   0%|          | 0/1 [00:00<?, ?it/s]"
      ]
     },
     "metadata": {},
     "output_type": "display_data"
    },
    {
     "data": {
      "application/vnd.jupyter.widget-view+json": {
       "model_id": "",
       "version_major": 2,
       "version_minor": 0
      },
      "text/plain": [
       "PGD - Batches:   0%|          | 0/1 [00:00<?, ?it/s]"
      ]
     },
     "metadata": {},
     "output_type": "display_data"
    },
    {
     "data": {
      "application/vnd.jupyter.widget-view+json": {
       "model_id": "",
       "version_major": 2,
       "version_minor": 0
      },
      "text/plain": [
       "PGD - Batches:   0%|          | 0/1 [00:00<?, ?it/s]"
      ]
     },
     "metadata": {},
     "output_type": "display_data"
    },
    {
     "data": {
      "application/vnd.jupyter.widget-view+json": {
       "model_id": "",
       "version_major": 2,
       "version_minor": 0
      },
      "text/plain": [
       "PGD - Batches:   0%|          | 0/1 [00:00<?, ?it/s]"
      ]
     },
     "metadata": {},
     "output_type": "display_data"
    },
    {
     "data": {
      "application/vnd.jupyter.widget-view+json": {
       "model_id": "",
       "version_major": 2,
       "version_minor": 0
      },
      "text/plain": [
       "PGD - Batches:   0%|          | 0/1 [00:00<?, ?it/s]"
      ]
     },
     "metadata": {},
     "output_type": "display_data"
    },
    {
     "data": {
      "application/vnd.jupyter.widget-view+json": {
       "model_id": "",
       "version_major": 2,
       "version_minor": 0
      },
      "text/plain": [
       "PGD - Batches:   0%|          | 0/1 [00:00<?, ?it/s]"
      ]
     },
     "metadata": {},
     "output_type": "display_data"
    },
    {
     "data": {
      "application/vnd.jupyter.widget-view+json": {
       "model_id": "",
       "version_major": 2,
       "version_minor": 0
      },
      "text/plain": [
       "PGD - Batches:   0%|          | 0/1 [00:00<?, ?it/s]"
      ]
     },
     "metadata": {},
     "output_type": "display_data"
    },
    {
     "data": {
      "application/vnd.jupyter.widget-view+json": {
       "model_id": "",
       "version_major": 2,
       "version_minor": 0
      },
      "text/plain": [
       "PGD - Batches:   0%|          | 0/1 [00:00<?, ?it/s]"
      ]
     },
     "metadata": {},
     "output_type": "display_data"
    },
    {
     "data": {
      "image/png": "[encoded data removed]",
      "text/plain": [
       "<Figure size 1500x500 with 10 Axes>"
      ]
     },
     "metadata": {},
     "output_type": "display_data"
    },
    {
     "data": {
      "application/vnd.jupyter.widget-view+json": {
       "model_id": "3c381845b0ae4adeba56e82de8e8dce8",
       "version_major": 2,
       "version_minor": 0
      },
      "text/plain": [
       "DeepFool:   0%|          | 0/20 [00:00<?, ?it/s]"
      ]
     },
     "metadata": {},
     "output_type": "display_data"
    },
    {
     "name": "stdout",
     "output_type": "stream",
     "text": [
      "Accuracy on DeepFool adversarial test data:  0.0124\n"
     ]
    },
    {
     "data": {
      "application/vnd.jupyter.widget-view+json": {
       "model_id": "ffb01721c3bb47f08627e0b114088121",
       "version_major": 2,
       "version_minor": 0
      },
      "text/plain": [
       "DeepFool:   0%|          | 0/1 [00:00<?, ?it/s]"
      ]
     },
     "metadata": {},
     "output_type": "display_data"
    },
    {
     "data": {
      "application/vnd.jupyter.widget-view+json": {
       "model_id": "541816470cf640caba0d3a5b71720859",
       "version_major": 2,
       "version_minor": 0
      },
      "text/plain": [
       "DeepFool:   0%|          | 0/1 [00:00<?, ?it/s]"
      ]
     },
     "metadata": {},
     "output_type": "display_data"
    },
    {
     "data": {
      "application/vnd.jupyter.widget-view+json": {
       "model_id": "0a0486cc2f8f489495df0ae2ecd238ac",
       "version_major": 2,
       "version_minor": 0
      },
      "text/plain": [
       "DeepFool:   0%|          | 0/1 [00:00<?, ?it/s]"
      ]
     },
     "metadata": {},
     "output_type": "display_data"
    },
    {
     "data": {
      "application/vnd.jupyter.widget-view+json": {
       "model_id": "954647ab6695416bb7afecf9ca67741d",
       "version_major": 2,
       "version_minor": 0
      },
      "text/plain": [
       "DeepFool:   0%|          | 0/1 [00:00<?, ?it/s]"
      ]
     },
     "metadata": {},
     "output_type": "display_data"
    },
    {
     "data": {
      "application/vnd.jupyter.widget-view+json": {
       "model_id": "00185f65c004403da6b8aaa6b96a69df",
       "version_major": 2,
       "version_minor": 0
      },
      "text/plain": [
       "DeepFool:   0%|          | 0/1 [00:00<?, ?it/s]"
      ]
     },
     "metadata": {},
     "output_type": "display_data"
    },
    {
     "data": {
      "application/vnd.jupyter.widget-view+json": {
       "model_id": "02c710000d9b4126b96b7742c9a61353",
       "version_major": 2,
       "version_minor": 0
      },
      "text/plain": [
       "DeepFool:   0%|          | 0/1 [00:00<?, ?it/s]"
      ]
     },
     "metadata": {},
     "output_type": "display_data"
    },
    {
     "data": {
      "application/vnd.jupyter.widget-view+json": {
       "model_id": "1be2361d15564410b56adf24907ba1d7",
       "version_major": 2,
       "version_minor": 0
      },
      "text/plain": [
       "DeepFool:   0%|          | 0/1 [00:00<?, ?it/s]"
      ]
     },
     "metadata": {},
     "output_type": "display_data"
    },
    {
     "data": {
      "application/vnd.jupyter.widget-view+json": {
       "model_id": "820c15aafcf74e7295e9cf5418af6a85",
       "version_major": 2,
       "version_minor": 0
      },
      "text/plain": [
       "DeepFool:   0%|          | 0/1 [00:00<?, ?it/s]"
      ]
     },
     "metadata": {},
     "output_type": "display_data"
    },
    {
     "data": {
      "application/vnd.jupyter.widget-view+json": {
       "model_id": "11c08f9bda39465d8fee3e0c1758e660",
       "version_major": 2,
       "version_minor": 0
      },
      "text/plain": [
       "DeepFool:   0%|          | 0/1 [00:00<?, ?it/s]"
      ]
     },
     "metadata": {},
     "output_type": "display_data"
    },
    {
     "data": {
      "application/vnd.jupyter.widget-view+json": {
       "model_id": "bb18aedf5a39416f9981c04a7302d163",
       "version_major": 2,
       "version_minor": 0
      },
      "text/plain": [
       "DeepFool:   0%|          | 0/1 [00:00<?, ?it/s]"
      ]
     },
     "metadata": {},
     "output_type": "display_data"
    },
    {
     "data": {
      "image/png": "[encoded data removed]",
      "text/plain": [
       "<Figure size 1500x500 with 10 Axes>"
      ]
     },
     "metadata": {},
     "output_type": "display_data"
    },
    {
     "data": {
      "application/vnd.jupyter.widget-view+json": {
       "model_id": "",
       "version_major": 2,
       "version_minor": 0
      },
      "text/plain": [
       "PGD - Batches:   0%|          | 0/20 [00:00<?, ?it/s]"
      ]
     },
     "metadata": {},
     "output_type": "display_data"
    },
    {
     "data": {
      "application/vnd.jupyter.widget-view+json": {
       "model_id": "",
       "version_major": 2,
       "version_minor": 0
      },
      "text/plain": [
       "PGD - Batches:   0%|          | 0/20 [00:00<?, ?it/s]"
      ]
     },
     "metadata": {},
     "output_type": "display_data"
    },
    {
     "data": {
      "application/vnd.jupyter.widget-view+json": {
       "model_id": "",
       "version_major": 2,
       "version_minor": 0
      },
      "text/plain": [
       "PGD - Batches:   0%|          | 0/20 [00:00<?, ?it/s]"
      ]
     },
     "metadata": {},
     "output_type": "display_data"
    },
    {
     "data": {
      "application/vnd.jupyter.widget-view+json": {
       "model_id": "",
       "version_major": 2,
       "version_minor": 0
      },
      "text/plain": [
       "PGD - Batches:   0%|          | 0/20 [00:00<?, ?it/s]"
      ]
     },
     "metadata": {},
     "output_type": "display_data"
    },
    {
     "data": {
      "application/vnd.jupyter.widget-view+json": {
       "model_id": "",
       "version_major": 2,
       "version_minor": 0
      },
      "text/plain": [
       "PGD - Batches:   0%|          | 0/20 [00:00<?, ?it/s]"
      ]
     },
     "metadata": {},
     "output_type": "display_data"
    },
    {
     "data": {
      "application/vnd.jupyter.widget-view+json": {
       "model_id": "",
       "version_major": 2,
       "version_minor": 0
      },
      "text/plain": [
       "PGD - Batches:   0%|          | 0/20 [00:00<?, ?it/s]"
      ]
     },
     "metadata": {},
     "output_type": "display_data"
    },
    {
     "data": {
      "application/vnd.jupyter.widget-view+json": {
       "model_id": "",
       "version_major": 2,
       "version_minor": 0
      },
      "text/plain": [
       "PGD - Batches:   0%|          | 0/20 [00:00<?, ?it/s]"
      ]
     },
     "metadata": {},
     "output_type": "display_data"
    },
    {
     "data": {
      "application/vnd.jupyter.widget-view+json": {
       "model_id": "",
       "version_major": 2,
       "version_minor": 0
      },
      "text/plain": [
       "PGD - Batches:   0%|          | 0/20 [00:00<?, ?it/s]"
      ]
     },
     "metadata": {},
     "output_type": "display_data"
    },
    {
     "data": {
      "application/vnd.jupyter.widget-view+json": {
       "model_id": "a729d7bb70404dda927d0f358b6583ef",
       "version_major": 2,
       "version_minor": 0
      },
      "text/plain": [
       "PGD - Batches:   0%|          | 0/20 [00:00<?, ?it/s]"
      ]
     },
     "metadata": {},
     "output_type": "display_data"
    },
    {
     "ename": "KeyboardInterrupt",
     "evalue": "",
     "output_type": "error",
     "traceback": [
      "\u001B[0;31m---------------------------------------------------------------------------\u001B[0m",
      "\u001B[0;31mKeyboardInterrupt\u001B[0m                         Traceback (most recent call last)",
      "Cell \u001B[0;32mIn[5], line 6\u001B[0m\n\u001B[1;32m      3\u001B[0m clean_model\u001B[38;5;241m.\u001B[39mload_state_dict(torch\u001B[38;5;241m.\u001B[39mload(\u001B[38;5;124m'\u001B[39m\u001B[38;5;124mmodels/clean_state/MNIST_FC_500_100_10.pth\u001B[39m\u001B[38;5;124m'\u001B[39m))\n\u001B[1;32m      4\u001B[0m clean_model\u001B[38;5;241m.\u001B[39meval()\n\u001B[0;32m----> 6\u001B[0m run_adversarial_process(clean_model, BATCH_SIZE, EPS, \u001B[38;5;124m'\u001B[39m\u001B[38;5;124mmodels/hardened_state/MNIST_FC_500_100_10.pth\u001B[39m\u001B[38;5;124m'\u001B[39m, \u001B[38;5;124m'\u001B[39m\u001B[38;5;124mMNIST_FC_500_100_10 Adversarial Accuracy\u001B[39m\u001B[38;5;124m'\u001B[39m)\n",
      "Cell \u001B[0;32mIn[4], line 37\u001B[0m, in \u001B[0;36mrun_adversarial_process\u001B[0;34m(clean_model, BATCH_SIZE, EPS, adv_model_path, plot_title)\u001B[0m\n\u001B[1;32m     34\u001B[0m utils\u001B[38;5;241m.\u001B[39mplot_images(X_test, y_test, clean_classifier, attack, n\u001B[38;5;241m=\u001B[39m\u001B[38;5;241m5\u001B[39m)\n\u001B[1;32m     36\u001B[0m \u001B[38;5;66;03m# harden with BIM\u001B[39;00m\n\u001B[0;32m---> 37\u001B[0m harden_model(clean_model, clean_classifier, BATCH_SIZE, EPS, adv_model_path, BasicIterativeMethod, plot_title \u001B[38;5;241m+\u001B[39m \u001B[38;5;124m'\u001B[39m\u001B[38;5;124m Hardened with BIM\u001B[39m\u001B[38;5;124m'\u001B[39m)\n\u001B[1;32m     39\u001B[0m \u001B[38;5;66;03m# harden with PGD\u001B[39;00m\n\u001B[1;32m     40\u001B[0m harden_model(clean_model, clean_classifier, BATCH_SIZE, EPS, adv_model_path, ProjectedGradientDescent, plot_title \u001B[38;5;241m+\u001B[39m \u001B[38;5;124m'\u001B[39m\u001B[38;5;124m Hardened with PGD\u001B[39m\u001B[38;5;124m'\u001B[39m)\n",
      "Cell \u001B[0;32mIn[3], line 39\u001B[0m, in \u001B[0;36mharden_model\u001B[0;34m(clean_model, clean_classifier, BATCH_SIZE, EPS, adv_model_path, attack_obj, plot_title)\u001B[0m\n\u001B[1;32m     35\u001B[0m     hardened_classifier \u001B[38;5;241m=\u001B[39m adv_trainer\u001B[38;5;241m.\u001B[39mclassifier\n\u001B[1;32m     38\u001B[0m eps_values \u001B[38;5;241m=\u001B[39m [\u001B[38;5;241m0.01\u001B[39m, \u001B[38;5;241m0.02\u001B[39m, \u001B[38;5;241m0.03\u001B[39m, \u001B[38;5;241m0.04\u001B[39m, \u001B[38;5;241m0.05\u001B[39m, \u001B[38;5;241m0.1\u001B[39m, \u001B[38;5;241m0.2\u001B[39m, \u001B[38;5;241m0.3\u001B[39m, \u001B[38;5;241m0.4\u001B[39m, \u001B[38;5;241m0.5\u001B[39m, \u001B[38;5;241m0.6\u001B[39m]\n\u001B[0;32m---> 39\u001B[0m utils\u001B[38;5;241m.\u001B[39mcompare_classifiers(clean_classifier, hardened_classifier, X_test, y_test, eps_values, batch_size\u001B[38;5;241m=\u001B[39mBATCH_SIZE, title\u001B[38;5;241m=\u001B[39mplot_title)\n\u001B[1;32m     41\u001B[0m \u001B[38;5;28mprint\u001B[39m(\u001B[38;5;124m'\u001B[39m\u001B[38;5;124mHardened model accuracy on clean test data: \u001B[39m\u001B[38;5;124m'\u001B[39m, np\u001B[38;5;241m.\u001B[39msum(np\u001B[38;5;241m.\u001B[39margmax(hardened_classifier\u001B[38;5;241m.\u001B[39mpredict(X_test), axis\u001B[38;5;241m=\u001B[39m\u001B[38;5;241m1\u001B[39m) \u001B[38;5;241m==\u001B[39m y_test) \u001B[38;5;241m/\u001B[39m \u001B[38;5;28mlen\u001B[39m(y_test))\n\u001B[1;32m     42\u001B[0m \u001B[38;5;28mprint\u001B[39m(\u001B[38;5;124m'\u001B[39m\u001B[38;5;124mHardened model accuracy on PGD adversarial test data: \u001B[39m\u001B[38;5;124m'\u001B[39m, utils\u001B[38;5;241m.\u001B[39mevaluate_attack(attack, hardened_classifier, X_test, y_test))\n",
      "File \u001B[0;32m~/DS4440-Project/utils.py:175\u001B[0m, in \u001B[0;36mcompare_classifiers\u001B[0;34m(classifier1, classifier2, X_test, y_test, eps_values, batch_size, title)\u001B[0m\n\u001B[1;32m    173\u001B[0m \u001B[38;5;28;01mfor\u001B[39;00m eps \u001B[38;5;129;01min\u001B[39;00m eps_values:\n\u001B[1;32m    174\u001B[0m     attacker \u001B[38;5;241m=\u001B[39m ProjectedGradientDescent(classifier1, eps\u001B[38;5;241m=\u001B[39meps, eps_step\u001B[38;5;241m=\u001B[39m\u001B[38;5;241m0.01\u001B[39m, max_iter\u001B[38;5;241m=\u001B[39m\u001B[38;5;241m200\u001B[39m, batch_size\u001B[38;5;241m=\u001B[39mbatch_size)\n\u001B[0;32m--> 175\u001B[0m     nb_correct_classifier1\u001B[38;5;241m.\u001B[39mappend(evaluate_attack(attacker, classifier1, X_test, y_test))\n\u001B[1;32m    177\u001B[0m     attacker \u001B[38;5;241m=\u001B[39m ProjectedGradientDescent(classifier2, eps\u001B[38;5;241m=\u001B[39meps, eps_step\u001B[38;5;241m=\u001B[39m\u001B[38;5;241m0.01\u001B[39m, max_iter\u001B[38;5;241m=\u001B[39m\u001B[38;5;241m200\u001B[39m, batch_size\u001B[38;5;241m=\u001B[39mbatch_size)\n\u001B[1;32m    178\u001B[0m     nb_correct_classifier2\u001B[38;5;241m.\u001B[39mappend(evaluate_attack(attacker, classifier2, X_test, y_test))\n",
      "File \u001B[0;32m~/DS4440-Project/utils.py:163\u001B[0m, in \u001B[0;36mevaluate_attack\u001B[0;34m(attacker, classifier, X_test, y_test)\u001B[0m\n\u001B[1;32m    162\u001B[0m \u001B[38;5;28;01mdef\u001B[39;00m \u001B[38;5;21mevaluate_attack\u001B[39m(attacker, classifier, X_test, y_test):\n\u001B[0;32m--> 163\u001B[0m     x_test_adv \u001B[38;5;241m=\u001B[39m attacker\u001B[38;5;241m.\u001B[39mgenerate(X_test, y_test)\n\u001B[1;32m    164\u001B[0m     x_test_adv_pred \u001B[38;5;241m=\u001B[39m np\u001B[38;5;241m.\u001B[39margmax(classifier\u001B[38;5;241m.\u001B[39mpredict(x_test_adv), axis\u001B[38;5;241m=\u001B[39m\u001B[38;5;241m1\u001B[39m)\n\u001B[1;32m    165\u001B[0m     nb_correct_adv_pred \u001B[38;5;241m=\u001B[39m np\u001B[38;5;241m.\u001B[39msum(x_test_adv_pred \u001B[38;5;241m==\u001B[39m y_test)\n",
      "File \u001B[0;32m~/miniconda3/lib/python3.12/site-packages/art/attacks/evasion/projected_gradient_descent/projected_gradient_descent.py:200\u001B[0m, in \u001B[0;36mProjectedGradientDescent.generate\u001B[0;34m(self, x, y, **kwargs)\u001B[0m\n\u001B[1;32m    185\u001B[0m \u001B[38;5;250m\u001B[39m\u001B[38;5;124;03m\"\"\"\u001B[39;00m\n\u001B[1;32m    186\u001B[0m \u001B[38;5;124;03mGenerate adversarial samples and return them in an array.\u001B[39;00m\n\u001B[1;32m    187\u001B[0m \n\u001B[0;32m   (...)\u001B[0m\n\u001B[1;32m    197\u001B[0m \u001B[38;5;124;03m:return: An array holding the adversarial examples.\u001B[39;00m\n\u001B[1;32m    198\u001B[0m \u001B[38;5;124;03m\"\"\"\u001B[39;00m\n\u001B[1;32m    199\u001B[0m logger\u001B[38;5;241m.\u001B[39minfo(\u001B[38;5;124m\"\u001B[39m\u001B[38;5;124mCreating adversarial samples.\u001B[39m\u001B[38;5;124m\"\u001B[39m)\n\u001B[0;32m--> 200\u001B[0m \u001B[38;5;28;01mreturn\u001B[39;00m \u001B[38;5;28mself\u001B[39m\u001B[38;5;241m.\u001B[39m_attack\u001B[38;5;241m.\u001B[39mgenerate(x\u001B[38;5;241m=\u001B[39mx, y\u001B[38;5;241m=\u001B[39my, \u001B[38;5;241m*\u001B[39m\u001B[38;5;241m*\u001B[39mkwargs)\n",
      "File \u001B[0;32m~/miniconda3/lib/python3.12/site-packages/art/attacks/evasion/projected_gradient_descent/projected_gradient_descent_pytorch.py:221\u001B[0m, in \u001B[0;36mProjectedGradientDescentPyTorch.generate\u001B[0;34m(self, x, y, **kwargs)\u001B[0m\n\u001B[1;32m    218\u001B[0m \u001B[38;5;28;01mfor\u001B[39;00m rand_init_num \u001B[38;5;129;01min\u001B[39;00m \u001B[38;5;28mrange\u001B[39m(\u001B[38;5;28mmax\u001B[39m(\u001B[38;5;241m1\u001B[39m, \u001B[38;5;28mself\u001B[39m\u001B[38;5;241m.\u001B[39mnum_random_init)):\n\u001B[1;32m    219\u001B[0m     \u001B[38;5;28;01mif\u001B[39;00m rand_init_num \u001B[38;5;241m==\u001B[39m \u001B[38;5;241m0\u001B[39m:\n\u001B[1;32m    220\u001B[0m         \u001B[38;5;66;03m# first iteration: use the adversarial examples as they are the only ones we have now\u001B[39;00m\n\u001B[0;32m--> 221\u001B[0m         adv_x[batch_index_1:batch_index_2] \u001B[38;5;241m=\u001B[39m \u001B[38;5;28mself\u001B[39m\u001B[38;5;241m.\u001B[39m_generate_batch(\n\u001B[1;32m    222\u001B[0m             x\u001B[38;5;241m=\u001B[39mbatch, targets\u001B[38;5;241m=\u001B[39mbatch_labels, mask\u001B[38;5;241m=\u001B[39mmask_batch, eps\u001B[38;5;241m=\u001B[39mbatch_eps, eps_step\u001B[38;5;241m=\u001B[39mbatch_eps_step\n\u001B[1;32m    223\u001B[0m         )\n\u001B[1;32m    224\u001B[0m     \u001B[38;5;28;01melse\u001B[39;00m:\n\u001B[1;32m    225\u001B[0m         adversarial_batch \u001B[38;5;241m=\u001B[39m \u001B[38;5;28mself\u001B[39m\u001B[38;5;241m.\u001B[39m_generate_batch(\n\u001B[1;32m    226\u001B[0m             x\u001B[38;5;241m=\u001B[39mbatch, targets\u001B[38;5;241m=\u001B[39mbatch_labels, mask\u001B[38;5;241m=\u001B[39mmask_batch, eps\u001B[38;5;241m=\u001B[39mbatch_eps, eps_step\u001B[38;5;241m=\u001B[39mbatch_eps_step\n\u001B[1;32m    227\u001B[0m         )\n",
      "File \u001B[0;32m~/miniconda3/lib/python3.12/site-packages/art/attacks/evasion/projected_gradient_descent/projected_gradient_descent_pytorch.py:282\u001B[0m, in \u001B[0;36mProjectedGradientDescentPyTorch._generate_batch\u001B[0;34m(self, x, targets, mask, eps, eps_step)\u001B[0m\n\u001B[1;32m    280\u001B[0m \u001B[38;5;28;01mfor\u001B[39;00m i_max_iter \u001B[38;5;129;01min\u001B[39;00m \u001B[38;5;28mrange\u001B[39m(\u001B[38;5;28mself\u001B[39m\u001B[38;5;241m.\u001B[39mmax_iter):\n\u001B[1;32m    281\u001B[0m     \u001B[38;5;28mself\u001B[39m\u001B[38;5;241m.\u001B[39m_i_max_iter \u001B[38;5;241m=\u001B[39m i_max_iter\n\u001B[0;32m--> 282\u001B[0m     adv_x \u001B[38;5;241m=\u001B[39m \u001B[38;5;28mself\u001B[39m\u001B[38;5;241m.\u001B[39m_compute_pytorch(\n\u001B[1;32m    283\u001B[0m         adv_x, inputs, targets, mask, eps, eps_step, \u001B[38;5;28mself\u001B[39m\u001B[38;5;241m.\u001B[39mnum_random_init \u001B[38;5;241m>\u001B[39m \u001B[38;5;241m0\u001B[39m \u001B[38;5;129;01mand\u001B[39;00m i_max_iter \u001B[38;5;241m==\u001B[39m \u001B[38;5;241m0\u001B[39m, momentum\n\u001B[1;32m    284\u001B[0m     )\n\u001B[1;32m    286\u001B[0m \u001B[38;5;28;01mreturn\u001B[39;00m adv_x\u001B[38;5;241m.\u001B[39mcpu()\u001B[38;5;241m.\u001B[39mdetach()\u001B[38;5;241m.\u001B[39mnumpy()\n",
      "File \u001B[0;32m~/miniconda3/lib/python3.12/site-packages/art/attacks/evasion/projected_gradient_descent/projected_gradient_descent_pytorch.py:438\u001B[0m, in \u001B[0;36mProjectedGradientDescentPyTorch._compute_pytorch\u001B[0;34m(self, x, x_init, y, mask, eps, eps_step, random_init, momentum)\u001B[0m\n\u001B[1;32m    435\u001B[0m     x_adv \u001B[38;5;241m=\u001B[39m x\n\u001B[1;32m    437\u001B[0m \u001B[38;5;66;03m# Get perturbation\u001B[39;00m\n\u001B[0;32m--> 438\u001B[0m perturbation \u001B[38;5;241m=\u001B[39m \u001B[38;5;28mself\u001B[39m\u001B[38;5;241m.\u001B[39m_compute_perturbation_pytorch(x_adv, y, mask, momentum)\n\u001B[1;32m    440\u001B[0m \u001B[38;5;66;03m# Apply perturbation and clip\u001B[39;00m\n\u001B[1;32m    441\u001B[0m x_adv \u001B[38;5;241m=\u001B[39m \u001B[38;5;28mself\u001B[39m\u001B[38;5;241m.\u001B[39m_apply_perturbation_pytorch(x_adv, perturbation, eps_step)\n",
      "File \u001B[0;32m~/miniconda3/lib/python3.12/site-packages/art/attacks/evasion/projected_gradient_descent/projected_gradient_descent_pytorch.py:310\u001B[0m, in \u001B[0;36mProjectedGradientDescentPyTorch._compute_perturbation_pytorch\u001B[0;34m(self, x, y, mask, momentum)\u001B[0m\n\u001B[1;32m    307\u001B[0m tol \u001B[38;5;241m=\u001B[39m \u001B[38;5;241m10e-8\u001B[39m\n\u001B[1;32m    309\u001B[0m \u001B[38;5;66;03m# Get gradient wrt loss; invert it if attack is targeted\u001B[39;00m\n\u001B[0;32m--> 310\u001B[0m grad \u001B[38;5;241m=\u001B[39m \u001B[38;5;28mself\u001B[39m\u001B[38;5;241m.\u001B[39mestimator\u001B[38;5;241m.\u001B[39mloss_gradient(x\u001B[38;5;241m=\u001B[39mx, y\u001B[38;5;241m=\u001B[39my) \u001B[38;5;241m*\u001B[39m (\u001B[38;5;241m1\u001B[39m \u001B[38;5;241m-\u001B[39m \u001B[38;5;241m2\u001B[39m \u001B[38;5;241m*\u001B[39m \u001B[38;5;28mint\u001B[39m(\u001B[38;5;28mself\u001B[39m\u001B[38;5;241m.\u001B[39mtargeted))\n\u001B[1;32m    312\u001B[0m \u001B[38;5;66;03m# Write summary\u001B[39;00m\n\u001B[1;32m    313\u001B[0m \u001B[38;5;28;01mif\u001B[39;00m \u001B[38;5;28mself\u001B[39m\u001B[38;5;241m.\u001B[39msummary_writer \u001B[38;5;129;01mis\u001B[39;00m \u001B[38;5;129;01mnot\u001B[39;00m \u001B[38;5;28;01mNone\u001B[39;00m:  \u001B[38;5;66;03m# pragma: no cover\u001B[39;00m\n",
      "File \u001B[0;32m~/miniconda3/lib/python3.12/site-packages/art/estimators/classification/pytorch.py:861\u001B[0m, in \u001B[0;36mPyTorchClassifier.loss_gradient\u001B[0;34m(self, x, y, training_mode, **kwargs)\u001B[0m\n\u001B[1;32m    858\u001B[0m         scaled_loss\u001B[38;5;241m.\u001B[39mbackward()\n\u001B[1;32m    860\u001B[0m \u001B[38;5;28;01melse\u001B[39;00m:\n\u001B[0;32m--> 861\u001B[0m     loss\u001B[38;5;241m.\u001B[39mbackward()\n\u001B[1;32m    863\u001B[0m \u001B[38;5;28;01mif\u001B[39;00m x_grad\u001B[38;5;241m.\u001B[39mgrad \u001B[38;5;129;01mis\u001B[39;00m \u001B[38;5;129;01mnot\u001B[39;00m \u001B[38;5;28;01mNone\u001B[39;00m:\n\u001B[1;32m    864\u001B[0m     \u001B[38;5;28;01mif\u001B[39;00m \u001B[38;5;28misinstance\u001B[39m(x, torch\u001B[38;5;241m.\u001B[39mTensor):\n",
      "File \u001B[0;32m~/miniconda3/lib/python3.12/site-packages/torch/_tensor.py:522\u001B[0m, in \u001B[0;36mTensor.backward\u001B[0;34m(self, gradient, retain_graph, create_graph, inputs)\u001B[0m\n\u001B[1;32m    512\u001B[0m \u001B[38;5;28;01mif\u001B[39;00m has_torch_function_unary(\u001B[38;5;28mself\u001B[39m):\n\u001B[1;32m    513\u001B[0m     \u001B[38;5;28;01mreturn\u001B[39;00m handle_torch_function(\n\u001B[1;32m    514\u001B[0m         Tensor\u001B[38;5;241m.\u001B[39mbackward,\n\u001B[1;32m    515\u001B[0m         (\u001B[38;5;28mself\u001B[39m,),\n\u001B[0;32m   (...)\u001B[0m\n\u001B[1;32m    520\u001B[0m         inputs\u001B[38;5;241m=\u001B[39minputs,\n\u001B[1;32m    521\u001B[0m     )\n\u001B[0;32m--> 522\u001B[0m torch\u001B[38;5;241m.\u001B[39mautograd\u001B[38;5;241m.\u001B[39mbackward(\n\u001B[1;32m    523\u001B[0m     \u001B[38;5;28mself\u001B[39m, gradient, retain_graph, create_graph, inputs\u001B[38;5;241m=\u001B[39minputs\n\u001B[1;32m    524\u001B[0m )\n",
      "File \u001B[0;32m~/miniconda3/lib/python3.12/site-packages/torch/autograd/__init__.py:266\u001B[0m, in \u001B[0;36mbackward\u001B[0;34m(tensors, grad_tensors, retain_graph, create_graph, grad_variables, inputs)\u001B[0m\n\u001B[1;32m    261\u001B[0m     retain_graph \u001B[38;5;241m=\u001B[39m create_graph\n\u001B[1;32m    263\u001B[0m \u001B[38;5;66;03m# The reason we repeat the same comment below is that\u001B[39;00m\n\u001B[1;32m    264\u001B[0m \u001B[38;5;66;03m# some Python versions print out the first line of a multi-line function\u001B[39;00m\n\u001B[1;32m    265\u001B[0m \u001B[38;5;66;03m# calls in the traceback and some print out the last line\u001B[39;00m\n\u001B[0;32m--> 266\u001B[0m Variable\u001B[38;5;241m.\u001B[39m_execution_engine\u001B[38;5;241m.\u001B[39mrun_backward(  \u001B[38;5;66;03m# Calls into the C++ engine to run the backward pass\u001B[39;00m\n\u001B[1;32m    267\u001B[0m     tensors,\n\u001B[1;32m    268\u001B[0m     grad_tensors_,\n\u001B[1;32m    269\u001B[0m     retain_graph,\n\u001B[1;32m    270\u001B[0m     create_graph,\n\u001B[1;32m    271\u001B[0m     inputs,\n\u001B[1;32m    272\u001B[0m     allow_unreachable\u001B[38;5;241m=\u001B[39m\u001B[38;5;28;01mTrue\u001B[39;00m,\n\u001B[1;32m    273\u001B[0m     accumulate_grad\u001B[38;5;241m=\u001B[39m\u001B[38;5;28;01mTrue\u001B[39;00m,\n\u001B[1;32m    274\u001B[0m )\n",
      "\u001B[0;31mKeyboardInterrupt\u001B[0m: "
     ]
    }
   ],
   "source": [
    "# load the FC model\n",
    "clean_model = MNIST_FC_500_100_10()\n",
    "clean_model.load_state_dict(torch.load('models/clean_state/MNIST_FC_500_100_10.pth'))\n",
    "clean_model.eval()\n",
    "\n",
    "run_adversarial_process(clean_model, BATCH_SIZE, EPS, 'MNIST_FC_500_100_10', 'MNIST_FC_500_100_10 Adversarial Accuracy')"
   ]
  },
  {
   "cell_type": "code",
   "execution_count": null,
   "id": "b0e4d8095ebfddc1",
   "metadata": {},
   "outputs": [],
   "source": [
    "# load the VGG model\n",
    "clean_model = MNIST_VGG()\n",
    "clean_model.load_state_dict(torch.load('models/clean_state/MNIST_VGG.pth'))\n",
    "clean_model.eval()\n",
    "\n",
    "run_adversarial_process(clean_model, BATCH_SIZE, EPS, 'MNIST_VGG', 'MNIST_VGG Adversarial Accuracy')"
   ]
  },
  {
   "cell_type": "code",
   "execution_count": null,
   "id": "fd0fd431d384e0f1",
   "metadata": {},
   "outputs": [],
   "source": [
    "# load the LeNet model\n",
    "clean_model = MNIST_LeNet()\n",
    "clean_model.load_state_dict(torch.load('models/clean_state/MNIST_LeNet.pth'))\n",
    "clean_model.eval()\n",
    "\n",
    "run_adversarial_process(clean_model, BATCH_SIZE, EPS, 'MNIST_LeNet', 'MNIST_LeNet Adversarial Accuracy')"
   ]
  },
  {
   "cell_type": "code",
   "execution_count": null,
   "id": "5883d2027aaf625c",
   "metadata": {},
   "outputs": [],
   "source": [
    "# load the GoogLeNet model\n",
    "clean_model = MNIST_GoogLeNet()\n",
    "clean_model.load_state_dict(torch.load('models/clean_state/MNIST_GoogLeNet.pth'))\n",
    "clean_model.eval()\n",
    "\n",
    "run_adversarial_process(clean_model, BATCH_SIZE, EPS, 'MNIST_GoogLeNet', 'MNIST_GoogLeNet Adversarial Accuracy')"
   ]
  },
  {
   "cell_type": "code",
   "execution_count": null,
   "id": "66f728deafd86fbc",
   "metadata": {},
   "outputs": [],
   "source": [
    "# load the ResNet model\n",
    "clean_model = MNIST_ResNet()\n",
    "clean_model.load_state_dict(torch.load('models/clean_state/MNIST_ResNet.pth'))\n",
    "clean_model.eval()\n",
    "\n",
    "run_adversarial_process(clean_model, BATCH_SIZE, EPS, 'MNIST_ResNet', 'MNIST_ResNet Adversarial Accuracy')"
   ]
  }
 ],
 "metadata": {
  "kernelspec": {
   "display_name": "Python 3 (ipykernel)",
   "language": "python",
   "name": "python3"
  },
  "language_info": {
   "codemirror_mode": {
    "name": "ipython",
    "version": 3
   },
   "file_extension": ".py",
   "mimetype": "text/x-python",
   "name": "python",
   "nbconvert_exporter": "python",
   "pygments_lexer": "ipython3",
   "version": "3.12.1"
  }
 },
 "nbformat": 4,
 "nbformat_minor": 5
}
