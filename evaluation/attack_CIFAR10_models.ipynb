{
 "cells": [
  {
   "cell_type": "code",
   "execution_count": 1,
   "id": "initial_id",
   "metadata": {},
   "outputs": [],
   "source": [
    "from models.CIFAR10_Models import *\n",
    "import torch\n",
    "import numpy as np\n",
    "from torchvision import datasets, transforms\n",
    "from torch.utils.data import DataLoader, random_split\n",
    "import utils\n",
    "from art import config\n",
    "from art.utils import load_dataset, get_file\n",
    "from art.estimators.classification import PyTorchClassifier\n",
    "from art.attacks.evasion import FastGradientMethod, BasicIterativeMethod, ProjectedGradientDescent, DeepFool\n",
    "from art.defences.trainer import AdversarialTrainer\n",
    "from copy import deepcopy"
   ]
  },
  {
   "cell_type": "code",
   "execution_count": 2,
   "id": "ff9fdba3e00eaee6",
   "metadata": {},
   "outputs": [],
   "source": [
    "# Load the data\n",
    "BATCH_SIZE = 256\n",
    "\n",
    "torch.manual_seed(42)\n",
    "np.random.seed(42)\n",
    "generator = torch.Generator().manual_seed(42)\n",
    "\n",
    "# Define the transformation\n",
    "train_transform = transforms.Compose([\n",
    "    transforms.RandomRotation(10),\n",
    "    transforms.RandomAffine(0, translate=(0.1, 0.1)), \n",
    "    transforms.ToTensor(), \n",
    "    transforms.Normalize((0.1307,), (0.3081,)),\n",
    "])\n",
    "\n",
    "test_transform = transforms.Compose([\n",
    "    transforms.ToTensor(), \n",
    "    transforms.Normalize((0.1307,), (0.3081,)),\n",
    "])\n",
    "\n",
    "# Load the CIFAR10 dataset\n",
    "train_dataset = datasets.CIFAR10(root='./data', train=True, transform=train_transform, download=True)\n",
    "test_dataset = datasets.CIFAR10(root='./data', train=False, transform=test_transform, download=True)\n",
    "\n",
    "# Split the training dataset into training and validation datasets\n",
    "train_dataset, val_dataset = random_split(train_dataset, [50000, 10000], generator=generator)\n",
    "\n",
    "# Create the dataloaders\n",
    "train_loader = DataLoader(train_dataset, batch_size=BATCH_SIZE, shuffle=True)\n",
    "val_loader = DataLoader(val_dataset, batch_size=BATCH_SIZE, shuffle=False)\n",
    "test_loader = DataLoader(test_dataset, batch_size=BATCH_SIZE, shuffle=False)\n",
    "\n",
    "X_train, y_train = utils.loader_to_numpy(train_loader)\n",
    "X_val, y_val = utils.loader_to_numpy(val_loader)\n",
    "X_test, y_test = utils.loader_to_numpy(test_loader)"
   ]
  },
  {
   "cell_type": "code",
   "execution_count": 24,
   "id": "307ca1bd56d12285",
   "metadata": {},
   "outputs": [
    {
     "name": "stdout",
     "output_type": "stream",
     "text": [
      "Clean accuracy: 0.9845\n",
      "Accuracy on adversarial test data:  0.3286\n"
     ]
    },
    {
     "data": {
      "image/png": "[encoded data removed]",
      "text/plain": [
       "<Figure size 1500x500 with 10 Axes>"
      ]
     },
     "metadata": {},
     "output_type": "display_data"
    }
   ],
   "source": [
    "BATCH_SIZE = 1000\n",
    "\n",
    "# load the FC model\n",
    "clean_model = CIFAR10_FC_500_100_10()\n",
    "clean_model.load_state_dict(torch.load('models/clean_state/CIFAR10_FC_500_100_10.pth'))\n",
    "clean_model.eval()\n",
    "clean_classifier = PyTorchClassifier(\n",
    "    model=clean_model,\n",
    "    loss=torch.nn.CrossEntropyLoss(),\n",
    "    optimizer=torch.optim.Adam(clean_model.parameters(), lr=0.01),\n",
    "    input_shape=(1, 28, 28),\n",
    "    nb_classes=10,\n",
    "    preprocessing=(0.1307, 0.3081),\n",
    "    device_type='gpu'\n",
    ")\n",
    "\n",
    "# Get the clean accuracy\n",
    "clean_acc = np.sum(np.argmax(clean_classifier.predict(X_test), axis=1) == y_test) / len(y_test)\n",
    "print(f'Clean accuracy: {clean_acc}')\n",
    "\n",
    "attack = FastGradientMethod(clean_classifier, batch_size=BATCH_SIZE)\n",
    "\n",
    "print('Accuracy on adversarial test data: ', utils.evaluate_attack(attack, clean_classifier, X_test, y_test))\n",
    "utils.plot_images(X_test, y_test, clean_classifier, attack, n=5)"
   ]
  },
  {
   "cell_type": "code",
   "execution_count": 4,
   "id": "116e80f1-eb9e-421b-a596-4a54d63de396",
   "metadata": {},
   "outputs": [
    {
     "data": {
      "application/vnd.jupyter.widget-view+json": {
       "model_id": "",
       "version_major": 2,
       "version_minor": 0
      },
      "text/plain": [
       "PGD - Batches:   0%|          | 0/10 [00:00<?, ?it/s]"
      ]
     },
     "metadata": {},
     "output_type": "display_data"
    },
    {
     "name": "stdout",
     "output_type": "stream",
     "text": [
      "Accuracy on adversarial test data:  0.0597\n"
     ]
    },
    {
     "data": {
      "application/vnd.jupyter.widget-view+json": {
       "model_id": "",
       "version_major": 2,
       "version_minor": 0
      },
      "text/plain": [
       "PGD - Batches:   0%|          | 0/1 [00:00<?, ?it/s]"
      ]
     },
     "metadata": {},
     "output_type": "display_data"
    },
    {
     "data": {
      "application/vnd.jupyter.widget-view+json": {
       "model_id": "",
       "version_major": 2,
       "version_minor": 0
      },
      "text/plain": [
       "PGD - Batches:   0%|          | 0/1 [00:00<?, ?it/s]"
      ]
     },
     "metadata": {},
     "output_type": "display_data"
    },
    {
     "data": {
      "application/vnd.jupyter.widget-view+json": {
       "model_id": "",
       "version_major": 2,
       "version_minor": 0
      },
      "text/plain": [
       "PGD - Batches:   0%|          | 0/1 [00:00<?, ?it/s]"
      ]
     },
     "metadata": {},
     "output_type": "display_data"
    },
    {
     "data": {
      "application/vnd.jupyter.widget-view+json": {
       "model_id": "",
       "version_major": 2,
       "version_minor": 0
      },
      "text/plain": [
       "PGD - Batches:   0%|          | 0/1 [00:00<?, ?it/s]"
      ]
     },
     "metadata": {},
     "output_type": "display_data"
    },
    {
     "data": {
      "application/vnd.jupyter.widget-view+json": {
       "model_id": "",
       "version_major": 2,
       "version_minor": 0
      },
      "text/plain": [
       "PGD - Batches:   0%|          | 0/1 [00:00<?, ?it/s]"
      ]
     },
     "metadata": {},
     "output_type": "display_data"
    },
    {
     "data": {
      "application/vnd.jupyter.widget-view+json": {
       "model_id": "",
       "version_major": 2,
       "version_minor": 0
      },
      "text/plain": [
       "PGD - Batches:   0%|          | 0/1 [00:00<?, ?it/s]"
      ]
     },
     "metadata": {},
     "output_type": "display_data"
    },
    {
     "data": {
      "application/vnd.jupyter.widget-view+json": {
       "model_id": "",
       "version_major": 2,
       "version_minor": 0
      },
      "text/plain": [
       "PGD - Batches:   0%|          | 0/1 [00:00<?, ?it/s]"
      ]
     },
     "metadata": {},
     "output_type": "display_data"
    },
    {
     "data": {
      "application/vnd.jupyter.widget-view+json": {
       "model_id": "",
       "version_major": 2,
       "version_minor": 0
      },
      "text/plain": [
       "PGD - Batches:   0%|          | 0/1 [00:00<?, ?it/s]"
      ]
     },
     "metadata": {},
     "output_type": "display_data"
    },
    {
     "data": {
      "application/vnd.jupyter.widget-view+json": {
       "model_id": "",
       "version_major": 2,
       "version_minor": 0
      },
      "text/plain": [
       "PGD - Batches:   0%|          | 0/1 [00:00<?, ?it/s]"
      ]
     },
     "metadata": {},
     "output_type": "display_data"
    },
    {
     "data": {
      "application/vnd.jupyter.widget-view+json": {
       "model_id": "",
       "version_major": 2,
       "version_minor": 0
      },
      "text/plain": [
       "PGD - Batches:   0%|          | 0/1 [00:00<?, ?it/s]"
      ]
     },
     "metadata": {},
     "output_type": "display_data"
    },
    {
     "data": {
      "image/png": "[encoded data removed]",
      "text/plain": [
       "<Figure size 1500x500 with 10 Axes>"
      ]
     },
     "metadata": {},
     "output_type": "display_data"
    }
   ],
   "source": [
    "# Try FastGradientMethod\n",
    "attack = BasicIterativeMethod(clean_classifier, batch_size=BATCH_SIZE)\n",
    "\n",
    "print('Accuracy on adversarial test data: ', utils.evaluate_attack(attack, clean_classifier, X_test, y_test))\n",
    "utils.plot_images(X_test, y_test, clean_classifier, attack, n=5)"
   ]
  },
  {
   "cell_type": "code",
   "execution_count": 16,
   "id": "b54e74ad-7408-4914-95ef-33cb86fcd95d",
   "metadata": {},
   "outputs": [
    {
     "data": {
      "application/vnd.jupyter.widget-view+json": {
       "model_id": "",
       "version_major": 2,
       "version_minor": 0
      },
      "text/plain": [
       "PGD - Batches:   0%|          | 0/10 [00:00<?, ?it/s]"
      ]
     },
     "metadata": {},
     "output_type": "display_data"
    },
    {
     "name": "stdout",
     "output_type": "stream",
     "text": [
      "Accuracy on adversarial test data:  0.0597\n"
     ]
    },
    {
     "data": {
      "application/vnd.jupyter.widget-view+json": {
       "model_id": "",
       "version_major": 2,
       "version_minor": 0
      },
      "text/plain": [
       "PGD - Batches:   0%|          | 0/1 [00:00<?, ?it/s]"
      ]
     },
     "metadata": {},
     "output_type": "display_data"
    },
    {
     "data": {
      "application/vnd.jupyter.widget-view+json": {
       "model_id": "",
       "version_major": 2,
       "version_minor": 0
      },
      "text/plain": [
       "PGD - Batches:   0%|          | 0/1 [00:00<?, ?it/s]"
      ]
     },
     "metadata": {},
     "output_type": "display_data"
    },
    {
     "data": {
      "application/vnd.jupyter.widget-view+json": {
       "model_id": "",
       "version_major": 2,
       "version_minor": 0
      },
      "text/plain": [
       "PGD - Batches:   0%|          | 0/1 [00:00<?, ?it/s]"
      ]
     },
     "metadata": {},
     "output_type": "display_data"
    },
    {
     "data": {
      "application/vnd.jupyter.widget-view+json": {
       "model_id": "",
       "version_major": 2,
       "version_minor": 0
      },
      "text/plain": [
       "PGD - Batches:   0%|          | 0/1 [00:00<?, ?it/s]"
      ]
     },
     "metadata": {},
     "output_type": "display_data"
    },
    {
     "data": {
      "application/vnd.jupyter.widget-view+json": {
       "model_id": "",
       "version_major": 2,
       "version_minor": 0
      },
      "text/plain": [
       "PGD - Batches:   0%|          | 0/1 [00:00<?, ?it/s]"
      ]
     },
     "metadata": {},
     "output_type": "display_data"
    },
    {
     "data": {
      "application/vnd.jupyter.widget-view+json": {
       "model_id": "",
       "version_major": 2,
       "version_minor": 0
      },
      "text/plain": [
       "PGD - Batches:   0%|          | 0/1 [00:00<?, ?it/s]"
      ]
     },
     "metadata": {},
     "output_type": "display_data"
    },
    {
     "data": {
      "application/vnd.jupyter.widget-view+json": {
       "model_id": "",
       "version_major": 2,
       "version_minor": 0
      },
      "text/plain": [
       "PGD - Batches:   0%|          | 0/1 [00:00<?, ?it/s]"
      ]
     },
     "metadata": {},
     "output_type": "display_data"
    },
    {
     "data": {
      "application/vnd.jupyter.widget-view+json": {
       "model_id": "",
       "version_major": 2,
       "version_minor": 0
      },
      "text/plain": [
       "PGD - Batches:   0%|          | 0/1 [00:00<?, ?it/s]"
      ]
     },
     "metadata": {},
     "output_type": "display_data"
    },
    {
     "data": {
      "application/vnd.jupyter.widget-view+json": {
       "model_id": "",
       "version_major": 2,
       "version_minor": 0
      },
      "text/plain": [
       "PGD - Batches:   0%|          | 0/1 [00:00<?, ?it/s]"
      ]
     },
     "metadata": {},
     "output_type": "display_data"
    },
    {
     "data": {
      "application/vnd.jupyter.widget-view+json": {
       "model_id": "",
       "version_major": 2,
       "version_minor": 0
      },
      "text/plain": [
       "PGD - Batches:   0%|          | 0/1 [00:00<?, ?it/s]"
      ]
     },
     "metadata": {},
     "output_type": "display_data"
    },
    {
     "data": {
      "image/png": "[encoded data removed]",
      "text/plain": [
       "<Figure size 1500x500 with 10 Axes>"
      ]
     },
     "metadata": {},
     "output_type": "display_data"
    }
   ],
   "source": [
    "# Try PGD\n",
    "attack = ProjectedGradientDescent(clean_classifier, batch_size=BATCH_SIZE)\n",
    "\n",
    "print('Accuracy on adversarial test data: ', utils.evaluate_attack(attack, clean_classifier, X_test, y_test))\n",
    "utils.plot_images(X_test, y_test, clean_classifier, attack, n=5)"
   ]
  },
  {
   "cell_type": "code",
   "execution_count": 6,
   "id": "730d21ca-2e2c-4816-95d7-d704eabd9862",
   "metadata": {},
   "outputs": [
    {
     "data": {
      "application/vnd.jupyter.widget-view+json": {
       "model_id": "7bc43a77d4da41bd84925ef4b62efdf7",
       "version_major": 2,
       "version_minor": 0
      },
      "text/plain": [
       "DeepFool:   0%|          | 0/10 [00:00<?, ?it/s]"
      ]
     },
     "metadata": {},
     "output_type": "display_data"
    },
    {
     "name": "stdout",
     "output_type": "stream",
     "text": [
      "Accuracy on adversarial test data:  0.0134\n"
     ]
    },
    {
     "data": {
      "application/vnd.jupyter.widget-view+json": {
       "model_id": "b74986b6413e44829855f9b2afad9d5a",
       "version_major": 2,
       "version_minor": 0
      },
      "text/plain": [
       "DeepFool:   0%|          | 0/1 [00:00<?, ?it/s]"
      ]
     },
     "metadata": {},
     "output_type": "display_data"
    },
    {
     "data": {
      "application/vnd.jupyter.widget-view+json": {
       "model_id": "b399cbacc2eb49f7bf2cb143c4bdf3a0",
       "version_major": 2,
       "version_minor": 0
      },
      "text/plain": [
       "DeepFool:   0%|          | 0/1 [00:00<?, ?it/s]"
      ]
     },
     "metadata": {},
     "output_type": "display_data"
    },
    {
     "data": {
      "application/vnd.jupyter.widget-view+json": {
       "model_id": "db857a2abf83416d9dc47dbe77faab0b",
       "version_major": 2,
       "version_minor": 0
      },
      "text/plain": [
       "DeepFool:   0%|          | 0/1 [00:00<?, ?it/s]"
      ]
     },
     "metadata": {},
     "output_type": "display_data"
    },
    {
     "data": {
      "application/vnd.jupyter.widget-view+json": {
       "model_id": "f3727040cf394712a5c1fee13def0590",
       "version_major": 2,
       "version_minor": 0
      },
      "text/plain": [
       "DeepFool:   0%|          | 0/1 [00:00<?, ?it/s]"
      ]
     },
     "metadata": {},
     "output_type": "display_data"
    },
    {
     "data": {
      "application/vnd.jupyter.widget-view+json": {
       "model_id": "e7c3c2002d4947ac831afb06da00dd4f",
       "version_major": 2,
       "version_minor": 0
      },
      "text/plain": [
       "DeepFool:   0%|          | 0/1 [00:00<?, ?it/s]"
      ]
     },
     "metadata": {},
     "output_type": "display_data"
    },
    {
     "data": {
      "application/vnd.jupyter.widget-view+json": {
       "model_id": "55e9aa083a0a477a80e66d18820b0630",
       "version_major": 2,
       "version_minor": 0
      },
      "text/plain": [
       "DeepFool:   0%|          | 0/1 [00:00<?, ?it/s]"
      ]
     },
     "metadata": {},
     "output_type": "display_data"
    },
    {
     "data": {
      "application/vnd.jupyter.widget-view+json": {
       "model_id": "2c509be49e9a406cb8028f723613f194",
       "version_major": 2,
       "version_minor": 0
      },
      "text/plain": [
       "DeepFool:   0%|          | 0/1 [00:00<?, ?it/s]"
      ]
     },
     "metadata": {},
     "output_type": "display_data"
    },
    {
     "data": {
      "application/vnd.jupyter.widget-view+json": {
       "model_id": "28943e08415645b8931b617d1256aa1e",
       "version_major": 2,
       "version_minor": 0
      },
      "text/plain": [
       "DeepFool:   0%|          | 0/1 [00:00<?, ?it/s]"
      ]
     },
     "metadata": {},
     "output_type": "display_data"
    },
    {
     "data": {
      "application/vnd.jupyter.widget-view+json": {
       "model_id": "4d7a290cd7b64ad3b420c087dc9610f9",
       "version_major": 2,
       "version_minor": 0
      },
      "text/plain": [
       "DeepFool:   0%|          | 0/1 [00:00<?, ?it/s]"
      ]
     },
     "metadata": {},
     "output_type": "display_data"
    },
    {
     "data": {
      "application/vnd.jupyter.widget-view+json": {
       "model_id": "8af3ae12bccf4db086db30b1c5c4c9a2",
       "version_major": 2,
       "version_minor": 0
      },
      "text/plain": [
       "DeepFool:   0%|          | 0/1 [00:00<?, ?it/s]"
      ]
     },
     "metadata": {},
     "output_type": "display_data"
    },
    {
     "data": {
      "image/png": "[encoded data removed]",
      "text/plain": [
       "<Figure size 1500x500 with 10 Axes>"
      ]
     },
     "metadata": {},
     "output_type": "display_data"
    }
   ],
   "source": [
    "# Try deepfool\n",
    "\n",
    "attack = DeepFool(clean_classifier, batch_size=BATCH_SIZE)\n",
    "print('Accuracy on adversarial test data: ', utils.evaluate_attack(attack, clean_classifier, X_test, y_test))\n",
    "utils.plot_images(X_test, y_test, clean_classifier, attack, n=5)"
   ]
  },
  {
   "cell_type": "code",
   "execution_count": null,
   "id": "0998fe2c-d245-4c95-9e5e-cf367590ba74",
   "metadata": {
    "scrolled": true
   },
   "outputs": [
    {
     "data": {
      "application/vnd.jupyter.widget-view+json": {
       "model_id": "bff95104e46b4d559721f74d072049aa",
       "version_major": 2,
       "version_minor": 0
      },
      "text/plain": [
       "Precompute adv samples:   0%|          | 0/1 [00:00<?, ?it/s]"
      ]
     },
     "metadata": {},
     "output_type": "display_data"
    },
    {
     "data": {
      "application/vnd.jupyter.widget-view+json": {
       "model_id": "348c4aeb5a234806bc761e8c27ebad4c",
       "version_major": 2,
       "version_minor": 0
      },
      "text/plain": [
       "Adversarial training epochs:   0%|          | 0/10 [00:00<?, ?it/s]"
      ]
     },
     "metadata": {},
     "output_type": "display_data"
    }
   ],
   "source": [
    "# harden on BIM\n",
    "hardened_model = deepcopy(clean_model)\n",
    "hardened_classifier = PyTorchClassifier(\n",
    "    model=hardened_model,\n",
    "    loss=torch.nn.CrossEntropyLoss(),\n",
    "    optimizer=torch.optim.Adam(hardened_model.parameters(), lr=0.01),\n",
    "    input_shape=(1, 28, 28),\n",
    "    nb_classes=10,\n",
    "    preprocessing=(0.1307, 0.3081),\n",
    "    device_type='gpu'\n",
    ")\n",
    "# Check if can load the model\n",
    "try:\n",
    "    hardened_model = torch.load('models/adversarial_state/BIM_CIFAR10_FC_500_100_10.pth')\n",
    "except:\n",
    "    attack = BasicIterativeMethod(hardened_classifier, batch_size=512)\n",
    "    adv_trainer = AdversarialTrainer(hardened_classifier, attacks=attack, ratio=0.5)\n",
    "    adv_trainer.fit(X_train, y_train, batch_size=512, nb_epochs=10)\n",
    "    torch.save(adv_trainer.classifier.model, 'models/adversarial_state/BIM_CIFAR10_FC_500_100_10.pth')\n",
    "    \n",
    "eps_values = [0.01, 0.02, 0.03, 0.04, 0.05, 0.1, 0.2, 0.3, 0.4, 0.5, 0.6]\n",
    "utils.compare_classifiers(clean_classifier, adv_trainer.classifier, X_test, y_test, eps_values, batch_size=1000, title='CIFAR10_FC_500_100_10 Hardened with BIM')\n",
    "\n",
    "print('Hardened model accuracy on PGD adversarial test data: ', utils.evaluate_attack(attack, adv_trainer.classifier, X_test, y_test))"
   ]
  },
  {
   "metadata": {},
   "cell_type": "code",
   "outputs": [],
   "execution_count": null,
   "source": [
    "# harden on PGD\n",
    "hardened_model = deepcopy(clean_model)\n",
    "hardened_classifier = PyTorchClassifier(\n",
    "    model=hardened_model,\n",
    "    loss=torch.nn.CrossEntropyLoss(),\n",
    "    optimizer=torch.optim.Adam(hardened_model.parameters(), lr=0.01),\n",
    "    input_shape=(1, 28, 28),\n",
    "    nb_classes=10,\n",
    "    preprocessing=(0.1307, 0.3081),\n",
    "    device_type='gpu'\n",
    ")\n",
    "# Check if can load the model\n",
    "try:\n",
    "    hardened_model = torch.load('models/adversarial_state/PGD_CIFAR10_FC_500_100_10.pth')\n",
    "except:\n",
    "    attack = ProjectedGradientDescent(hardened_classifier, batch_size=512)\n",
    "    adv_trainer = AdversarialTrainer(hardened_classifier, attacks=attack, ratio=0.5)\n",
    "    adv_trainer.fit(X_train, y_train, batch_size=512, nb_epochs=10)\n",
    "    torch.save(adv_trainer.classifier.model, 'models/adversarial_state/PGD_CIFAR10_FC_500_100_10.pth')\n",
    "    \n",
    "eps_values = [0.01, 0.02, 0.03, 0.04, 0.05, 0.1, 0.2, 0.3, 0.4, 0.5, 0.6]\n",
    "utils.compare_classifiers(clean_classifier, adv_trainer.classifier, X_test, y_test, eps_values, batch_size=1000, title='CIFAR10_FC_500_100_10 Hardened with PGD')\n",
    "\n",
    "print('Hardened model accuracy on PGD adversarial test data: ', utils.evaluate_attack(attack, adv_trainer.classifier, X_test, y_test))"
   ],
   "id": "569958144616e29f"
  },
  {
   "metadata": {},
   "cell_type": "code",
   "outputs": [],
   "execution_count": null,
   "source": [
    "# harden on FGSM\n",
    "hardened_model = deepcopy(clean_model)\n",
    "hardened_classifier = PyTorchClassifier(\n",
    "    model=hardened_model,\n",
    "    loss=torch.nn.CrossEntropyLoss(),\n",
    "    optimizer=torch.optim.Adam(hardened_model.parameters(), lr=0.01),\n",
    "    input_shape=(1, 28, 28),\n",
    "    nb_classes=10,\n",
    "    preprocessing=(0.1307, 0.3081),\n",
    "    device_type='gpu'\n",
    ")\n",
    "# Check if can load the model\n",
    "try:\n",
    "    hardened_model = torch.load('models/adversarial_state/FGSM_CIFAR10_FC_500_100_10.pth')\n",
    "except:\n",
    "    attack = FastGradientMethod(hardened_classifier, batch_size=512)\n",
    "    adv_trainer = AdversarialTrainer(hardened_classifier, attacks=attack, ratio=0.5)\n",
    "    adv_trainer.fit(X_train, y_train, batch_size=512, nb_epochs=10)\n",
    "    torch.save(adv_trainer.classifier.model, 'models/adversarial_state/FGSM_CIFAR10_FC_500_100_10.pth')\n",
    "    \n",
    "eps_values = [0.01, 0.02, 0.03, 0.04, 0.05, 0.1, 0.2, 0.3, 0.4, 0.5, 0.6]\n",
    "utils.compare_classifiers(clean_classifier, adv_trainer.classifier, X_test, y_test, eps_values, batch_size=1000, title='CIFAR10_FC_500_100_10 Hardened with FGSM')\n",
    "\n",
    "print('Hardened model accuracy on PGD adversarial test data: ', utils.evaluate_attack(attack, adv_trainer.classifier, X_test, y_test))"
   ],
   "id": "aa9ba804f65ea141"
  },
  {
   "metadata": {},
   "cell_type": "code",
   "outputs": [],
   "execution_count": null,
   "source": [
    "# harden on deepfool\n",
    "hardened_model = deepcopy(clean_model)\n",
    "hardened_classifier = PyTorchClassifier(\n",
    "    model=hardened_model,\n",
    "    loss=torch.nn.CrossEntropyLoss(),\n",
    "    optimizer=torch.optim.Adam(hardened_model.parameters(), lr=0.01),\n",
    "    input_shape=(1, 28, 28),\n",
    "    nb_classes=10,\n",
    "    preprocessing=(0.1307, 0.3081),\n",
    "    device_type='gpu'\n",
    ")\n",
    "# Check if can load the model\n",
    "try:\n",
    "    hardened_model = torch.load('models/adversarial_state/DeepFool_CIFAR10_FC_500_100_10.pth')\n",
    "except:\n",
    "    attack = DeepFool(hardened_classifier, batch_size=512)\n",
    "    adv_trainer = AdversarialTrainer(hardened_classifier, attacks=attack, ratio=0.5)\n",
    "    adv_trainer.fit(X_train, y_train, batch_size=512, nb_epochs=10)\n",
    "    torch.save(adv_trainer.classifier.model, 'models/adversarial_state/DeepFool_CIFAR10_FC_500_100_10.pth')\n",
    "    \n",
    "eps_values = [0.01, 0.02, 0.03, 0.04, 0.05, 0.1, 0.2, 0.3, 0.4, 0.5, 0.6]\n",
    "utils.compare_classifiers(clean_classifier, adv_trainer.classifier, X_test, y_test, eps_values, batch_size=1000, title='CIFAR10_FC_500_100_10 Hardened with DeepFool')\n",
    "\n",
    "print('Hardened model accuracy on PGD adversarial test data: ', utils.evaluate_attack(attack, adv_trainer.classifier, X_test, y_test))"
   ],
   "id": "ebbd1959d5df71"
  },
  {
   "metadata": {},
   "cell_type": "code",
   "outputs": [],
   "execution_count": null,
   "source": [
    "# Load the VGG model\n",
    "clean_model = CIFAR10_VGG()\n",
    "clean_model.load_state_dict(torch.load('models/clean_state/CIFAR10_VGG.pth'))\n",
    "clean_model.eval()\n",
    "clean_classifier = PyTorchClassifier(\n",
    "    model=clean_model,\n",
    "    loss=torch.nn.CrossEntropyLoss(),\n",
    "    optimizer=torch.optim.Adam(clean_model.parameters(), lr=0.01),\n",
    "    input_shape=(1, 28, 28),\n",
    "    nb_classes=10,\n",
    "    preprocessing=(0.1307, 0.3081),\n",
    "    device_type='gpu'\n",
    ")\n",
    "\n",
    "# Get the clean accuracy\n",
    "clean_acc = np.sum(np.argmax(clean_classifier.predict(X_test), axis=1) == y_test) / len(y_test)\n",
    "print(f'Clean accuracy: {clean_acc}')\n",
    "\n",
    "attack = FastGradientMethod(clean_classifier, batch_size=BATCH_SIZE)\n",
    "\n",
    "print('Accuracy on FGSM adversarial test data: ', utils.evaluate_attack(attack, clean_classifier, X_test, y_test))\n",
    "utils.plot_images(X_test, y_test, clean_classifier, attack, n=5)\n",
    "\n",
    "attack = BasicIterativeMethod(clean_classifier, batch_size=BATCH_SIZE)\n",
    "\n",
    "print('Accuracy on BIM adversarial test data: ', utils.evaluate_attack(attack, clean_classifier, X_test, y_test))\n",
    "utils.plot_images(X_test, y_test, clean_classifier, attack, n=5)\n",
    "\n",
    "attack = ProjectedGradientDescent(clean_classifier, batch_size=BATCH_SIZE)\n",
    "\n",
    "print('Accuracy on PGD adversarial test data: ', utils.evaluate_attack(attack, clean_classifier, X_test, y_test))\n",
    "utils.plot_images(X_test, y_test, clean_classifier, attack, n=5)\n",
    "\n",
    "attack = DeepFool(clean_classifier, batch_size=BATCH_SIZE)\n",
    "print('Accuracy on DeepFool adversarial test data: ', utils.evaluate_attack(attack, clean_classifier, X_test, y_test))\n",
    "utils.plot_images(X_test, y_test, clean_classifier, attack, n=5)"
   ],
   "id": "d8872b62362aad1f"
  },
  {
   "metadata": {},
   "cell_type": "code",
   "outputs": [],
   "execution_count": null,
   "source": [
    "# harden on BIM\n",
    "hardened_model = deepcopy(clean_model)\n",
    "hardened_classifier = PyTorchClassifier(\n",
    "    model=hardened_model,\n",
    "    loss=torch.nn.CrossEntropyLoss(),\n",
    "    optimizer=torch.optim.Adam(hardened_model.parameters(), lr=0.01),\n",
    "    input_shape=(1, 28, 28),\n",
    "    nb_classes=10,\n",
    "    preprocessing=(0.1307, 0.3081),\n",
    "    device_type='gpu'\n",
    ")\n",
    "# Check if can load the model\n",
    "try:\n",
    "    hardened_model = torch.load('models/adversarial_state/BIM_CIFAR10_VGG.pth')\n",
    "except:\n",
    "    attack = BasicIterativeMethod(hardened_classifier, batch_size=512)\n",
    "    adv_trainer = AdversarialTrainer(hardened_classifier, attacks=attack, ratio=0.5)\n",
    "    adv_trainer.fit(X_train, y_train, batch_size=512, nb_epochs=10)\n",
    "    torch.save(adv_trainer.classifier.model, 'models/adversarial_state/BIM_CIFAR10_VGG.pth')\n",
    "    \n",
    "eps_values = [0.01, 0.02, 0.03, 0.04, 0.05, 0.1, 0.2, 0.3, 0.4, 0.5, 0.6]\n",
    "utils.compare_classifiers(clean_classifier, adv_trainer.classifier, X_test, y_test, eps_values, batch_size=1000, title='CIFAR10_VGG Hardened with BIM')\n",
    "\n",
    "print('Hardened model accuracy on PGD adversarial test data: ', utils.evaluate_attack(attack, adv_trainer.classifier, X_test, y_test))"
   ],
   "id": "4e382ea7715c7063"
  },
  {
   "metadata": {},
   "cell_type": "code",
   "outputs": [],
   "execution_count": null,
   "source": [
    "# harden on PGD\n",
    "hardened_model = deepcopy(clean_model)\n",
    "hardened_classifier = PyTorchClassifier(\n",
    "    model=hardened_model,\n",
    "    loss=torch.nn.CrossEntropyLoss(),\n",
    "    optimizer=torch.optim.Adam(hardened_model.parameters(), lr=0.01),\n",
    "    input_shape=(1, 28, 28),\n",
    "    nb_classes=10,\n",
    "    preprocessing=(0.1307, 0.3081),\n",
    "    device_type='gpu'\n",
    ")\n",
    "# Check if can load the model\n",
    "try:\n",
    "    hardened_model = torch.load('models/adversarial_state/PGD_CIFAR10_VGG.pth')\n",
    "except:\n",
    "    attack = ProjectedGradientDescent(hardened_classifier, batch_size=512)\n",
    "    adv_trainer = AdversarialTrainer(hardened_classifier, attacks=attack, ratio=0.5)\n",
    "    adv_trainer.fit(X_train, y_train, batch_size=512, nb_epochs=10)\n",
    "    torch.save(adv_trainer.classifier.model, 'models/adversarial_state/PGD_CIFAR10_VGG.pth')\n",
    "    \n",
    "eps_values = [0.01, 0.02, 0.03, 0.04, 0.05, 0.1, 0.2, 0.3, 0.4, 0.5, 0.6]\n",
    "utils.compare_classifiers(clean_classifier, adv_trainer.classifier, X_test, y_test, eps_values, batch_size=1000, title='CIFAR10_VGG Hardened with PGD')\n",
    "\n",
    "print('Hardened model accuracy on PGD adversarial test data: ', utils.evaluate_attack(attack, adv_trainer.classifier, X_test, y_test))"
   ],
   "id": "af5d9e859679658a"
  },
  {
   "metadata": {},
   "cell_type": "code",
   "outputs": [],
   "execution_count": null,
   "source": [
    "# harden on FGSM\n",
    "hardened_model = deepcopy(clean_model)\n",
    "hardened_classifier = PyTorchClassifier(\n",
    "    model=hardened_model,\n",
    "    loss=torch.nn.CrossEntropyLoss(),\n",
    "    optimizer=torch.optim.Adam(hardened_model.parameters(), lr=0.01),\n",
    "    input_shape=(1, 28, 28),\n",
    "    nb_classes=10,\n",
    "    preprocessing=(0.1307, 0.3081),\n",
    "    device_type='gpu'\n",
    ")\n",
    "# Check if can load the model\n",
    "try:\n",
    "    hardened_model = torch.load('models/adversarial_state/FGSM_CIFAR10_VGG.pth')\n",
    "except:\n",
    "    attack = FastGradientMethod(hardened_classifier, batch_size=512)\n",
    "    adv_trainer = AdversarialTrainer(hardened_classifier, attacks=attack, ratio=0.5)\n",
    "    adv_trainer.fit(X_train, y_train, batch_size=512, nb_epochs=10)\n",
    "    torch.save(adv_trainer.classifier.model, 'models/adversarial_state/FGSM_CIFAR10_VGG.pth')\n",
    "    \n",
    "eps_values = [0.01, 0.02, 0.03, 0.04, 0.05, 0.1, 0.2, 0.3, 0.4, 0.5, 0.6]\n",
    "utils.compare_classifiers(clean_classifier, adv_trainer.classifier, X_test, y_test, eps_values, batch_size=1000, title='CIFAR10_VGG Hardened with FGSM')\n",
    "\n",
    "print('Hardened model accuracy on PGD adversarial test data: ', utils.evaluate_attack(attack, adv_trainer.classifier, X_test, y_test))"
   ],
   "id": "e320cc0934e9ca5f"
  },
  {
   "metadata": {},
   "cell_type": "code",
   "outputs": [],
   "execution_count": null,
   "source": [
    "# harden on deepfool\n",
    "hardened_model = deepcopy(clean_model)\n",
    "hardened_classifier = PyTorchClassifier(\n",
    "    model=hardened_model,\n",
    "    loss=torch.nn.CrossEntropyLoss(),\n",
    "    optimizer=torch.optim.Adam(hardened_model.parameters(), lr=0.01),\n",
    "    input_shape=(1, 28, 28),\n",
    "    nb_classes=10,\n",
    "    preprocessing=(0.1307, 0.3081),\n",
    "    device_type='gpu'\n",
    ")\n",
    "# Check if can load the model\n",
    "try:\n",
    "    hardened_model = torch.load('models/adversarial_state/DeepFool_CIFAR10_VGG.pth')\n",
    "except:\n",
    "    attack = DeepFool(hardened_classifier, batch_size=512)\n",
    "    adv_trainer = AdversarialTrainer(hardened_classifier, attacks=attack, ratio=0.5)\n",
    "    adv_trainer.fit(X_train, y_train, batch_size=512, nb_epochs=10)\n",
    "    torch.save(adv_trainer.classifier.model, 'models/adversarial_state/DeepFool_CIFAR10_VGG.pth')\n",
    "    \n",
    "eps_values = [0.01, 0.02, 0.03, 0.04, 0.05, 0.1, 0.2, 0.3, 0.4, 0.5, 0.6]\n",
    "utils.compare_classifiers(clean_classifier, adv_trainer.classifier, X_test, y_test, eps_values, batch_size=1000, title='CIFAR10_VGG Hardened with DeepFool')\n",
    "\n",
    "print('Hardened model accuracy on PGD adversarial test data: ', utils.evaluate_attack(attack, adv_trainer.classifier, X_test, y_test))"
   ],
   "id": "4417cfb8d002c3f2"
  },
  {
   "metadata": {},
   "cell_type": "code",
   "outputs": [],
   "execution_count": null,
   "source": [
    "# Load the LeNet model\n",
    "clean_model = CIFAR10_LeNet()\n",
    "clean_model.load_state_dict(torch.load('models/clean_state/CIFAR10_LeNet.pth'))\n",
    "clean_model.eval()\n",
    "clean_classifier = PyTorchClassifier(\n",
    "    model=clean_model,\n",
    "    loss=torch.nn.CrossEntropyLoss(),\n",
    "    optimizer=torch.optim.Adam(clean_model.parameters(), lr=0.01),\n",
    "    input_shape=(1, 28, 28),\n",
    "    nb_classes=10,\n",
    "    preprocessing=(0.1307, 0.3081),\n",
    "    device_type='gpu'\n",
    ")\n",
    "\n",
    "# Get the clean accuracy\n",
    "clean_acc = np.sum(np.argmax(clean_classifier.predict(X_test), axis=1) == y_test) / len(y_test)\n",
    "print(f'Clean accuracy: {clean_acc}')\n",
    "\n",
    "attack = FastGradientMethod(clean_classifier, batch_size=BATCH_SIZE)\n",
    "\n",
    "print('Accuracy on FGSM adversarial test data: ', utils.evaluate_attack(attack, clean_classifier, X_test, y_test))\n",
    "\n",
    "attack = BasicIterativeMethod(clean_classifier, batch_size=BATCH_SIZE)\n",
    "\n",
    "print('Accuracy on BIM adversarial test data: ', utils.evaluate_attack(attack, clean_classifier, X_test, y_test))\n",
    "\n",
    "attack = ProjectedGradientDescent(clean_classifier, batch_size=BATCH_SIZE)\n",
    "\n",
    "print('Accuracy on PGD adversarial test data: ', utils.evaluate_attack(attack, clean_classifier, X_test, y_test))\n",
    "\n",
    "attack = DeepFool(clean_classifier, batch_size=BATCH_SIZE)\n",
    "\n",
    "print('Accuracy on DeepFool adversarial test data: ', utils.evaluate_attack(attack, clean_classifier, X_test, y_test))"
   ],
   "id": "b55770fe434d8bbe"
  },
  {
   "metadata": {},
   "cell_type": "code",
   "outputs": [],
   "execution_count": null,
   "source": [
    "# harden on BIM\n",
    "hardened_model = deepcopy(clean_model)\n",
    "hardened_classifier = PyTorchClassifier(\n",
    "    model=hardened_model,\n",
    "    loss=torch.nn.CrossEntropyLoss(),\n",
    "    optimizer=torch.optim.Adam(hardened_model.parameters(), lr=0.01),\n",
    "    input_shape=(1, 28, 28),\n",
    "    nb_classes=10,\n",
    "    preprocessing=(0.1307, 0.3081),\n",
    "    device_type='gpu'\n",
    ")\n",
    "# Check if can load the model\n",
    "try:\n",
    "    hardened_model = torch.load('models/adversarial_state/BIM_CIFAR10_LeNet.pth')\n",
    "except:\n",
    "    attack = BasicIterativeMethod(hardened_classifier, batch_size=512)\n",
    "    adv_trainer = AdversarialTrainer(hardened_classifier, attacks=attack, ratio=0.5)\n",
    "    adv_trainer.fit(X_train, y_train, batch_size=512, nb_epochs=10)\n",
    "    torch.save(adv_trainer.classifier.model, 'models/adversarial_state/BIM_CIFAR10_LeNet.pth')\n",
    "    \n",
    "eps_values = [0.01, 0.02, 0.03, 0.04, 0.05, 0.1, 0.2, 0.3, 0.4, 0.5, 0.6]\n",
    "utils.compare_classifiers(clean_classifier, adv_trainer.classifier, X_test, y_test, eps_values, batch_size=1000, title='CIFAR10_LeNet Hardened with BIM')\n",
    "\n",
    "print('Hardened model accuracy on PGD adversarial test data: ', utils.evaluate_attack(attack, adv_trainer.classifier, X_test, y_test))"
   ],
   "id": "a4991704404efb34"
  },
  {
   "metadata": {},
   "cell_type": "code",
   "outputs": [],
   "execution_count": null,
   "source": [
    "# harden on PGD\n",
    "hardened_model = deepcopy(clean_model)\n",
    "hardened_classifier = PyTorchClassifier(\n",
    "    model=hardened_model,\n",
    "    loss=torch.nn.CrossEntropyLoss(),\n",
    "    optimizer=torch.optim.Adam(hardened_model.parameters(), lr=0.01),\n",
    "    input_shape=(1, 28, 28),\n",
    "    nb_classes=10,\n",
    "    preprocessing=(0.1307, 0.3081),\n",
    "    device_type='gpu'\n",
    ")\n",
    "# Check if can load the model\n",
    "try:\n",
    "    hardened_model = torch.load('models/adversarial_state/PGD_CIFAR10_LeNet.pth')\n",
    "except:\n",
    "    attack = ProjectedGradientDescent(hardened_classifier, batch_size=512)\n",
    "    adv_trainer = AdversarialTrainer(hardened_classifier, attacks=attack, ratio=0.5)\n",
    "    adv_trainer.fit(X_train, y_train, batch_size=512, nb_epochs=10)\n",
    "    torch.save(adv_trainer.classifier.model, 'models/adversarial_state/PGD_CIFAR10_LeNet.pth')\n",
    "    \n",
    "eps_values = [0.01, 0.02, 0.03, 0.04, 0.05, 0.1, 0.2, 0.3, 0.4, 0.5, 0.6]\n",
    "utils.compare_classifiers(clean_classifier, adv_trainer.classifier, X_test, y_test, eps_values, batch_size=1000, title='CIFAR10_LeNet Hardened with PGD')\n",
    "\n",
    "print('Hardened model accuracy on PGD adversarial test data: ', utils.evaluate_attack(attack, adv_trainer.classifier, X_test, y_test))"
   ],
   "id": "d3fc728166074448"
  },
  {
   "metadata": {},
   "cell_type": "code",
   "outputs": [],
   "execution_count": null,
   "source": [
    "# harden on FGSM\n",
    "hardened_model = deepcopy(clean_model)\n",
    "hardened_classifier = PyTorchClassifier(\n",
    "    model=hardened_model,\n",
    "    loss=torch.nn.CrossEntropyLoss(),\n",
    "    optimizer=torch.optim.Adam(hardened_model.parameters(), lr=0.01),\n",
    "    input_shape=(1, 28, 28),\n",
    "    nb_classes=10,\n",
    "    preprocessing=(0.1307, 0.3081),\n",
    "    device_type='gpu'\n",
    ")\n",
    "\n",
    "# Check if can load the model\n",
    "try:\n",
    "    hardened_model = torch.load('models/adversarial_state/FGSM_CIFAR10_LeNet.pth')\n",
    "except:\n",
    "    attack = FastGradientMethod(hardened_classifier, batch_size=512)\n",
    "    adv_trainer = AdversarialTrainer(hardened_classifier, attacks=attack, ratio=0.5)\n",
    "    adv_trainer.fit(X_train, y_train, batch_size=512, nb_epochs=10)\n",
    "    torch.save(adv_trainer.classifier.model, 'models/adversarial_state/FGSM_CIFAR10_LeNet.pth')\n",
    "    \n",
    "eps_values = [0.01, 0.02, 0.03, 0.04, 0.05, 0.1, 0.2, 0.3, 0.4, 0.5, 0.6]\n",
    "utils.compare_classifiers(clean_classifier, adv_trainer.classifier, X_test, y_test, eps_values, batch_size=1000, title='CIFAR10_LeNet Hardened with FGSM')\n",
    "\n",
    "print('Hardened model accuracy on PGD adversarial test data: ', utils.evaluate_attack(attack, adv_trainer.classifier, X_test, y_test))"
   ],
   "id": "eeb31243fe049859"
  },
  {
   "metadata": {},
   "cell_type": "code",
   "outputs": [],
   "execution_count": null,
   "source": [
    "# harden on deepfool\n",
    "hardened_model = deepcopy(clean_model)\n",
    "hardened_classifier = PyTorchClassifier(\n",
    "    model=hardened_model,\n",
    "    loss=torch.nn.CrossEntropyLoss(),\n",
    "    optimizer=torch.optim.Adam(hardened_model.parameters(), lr=0.01),\n",
    "    input_shape=(1, 28, 28),\n",
    "    nb_classes=10,\n",
    "    preprocessing=(0.1307, 0.3081),\n",
    "    device_type='gpu'\n",
    ")\n",
    "# Check if can load the model\n",
    "try:\n",
    "    hardened_model = torch.load('models/adversarial_state/DeepFool_CIFAR10_LeNet.pth')\n",
    "except:\n",
    "    attack = DeepFool(hardened_classifier, batch_size=512)\n",
    "    adv_trainer = AdversarialTrainer(hardened_classifier, attacks=attack, ratio=0.5)\n",
    "    adv_trainer.fit(X_train, y_train, batch_size=512, nb_epochs=10)\n",
    "    torch.save(adv_trainer.classifier.model, 'models/adversarial_state/DeepFool_CIFAR10_LeNet.pth')\n",
    "    \n",
    "eps_values = [0.01, 0.02, 0.03, 0.04, 0.05, 0.1, 0.2, 0.3, 0.4, 0.5, 0.6]\n",
    "utils.compare_classifiers(clean_classifier, adv_trainer.classifier, X_test, y_test, eps_values, batch_size=1000, title='CIFAR10_LeNet Hardened with DeepFool')\n",
    "\n",
    "print('Hardened model accuracy on PGD adversarial test data: ', utils.evaluate_attack(attack, adv_trainer.classifier, X_test, y_test))"
   ],
   "id": "8a14242415a87a8d"
  },
  {
   "metadata": {},
   "cell_type": "code",
   "outputs": [],
   "execution_count": null,
   "source": [
    "# Load the ResNet model\n",
    "clean_model = CIFAR10_ResNet()\n",
    "clean_model.load_state_dict(torch.load('models/clean_state/CIFAR10_ResNet.pth'))\n",
    "clean_model.eval()\n",
    "clean_classifier = PyTorchClassifier(\n",
    "    model=clean_model,\n",
    "    loss=torch.nn.CrossEntropyLoss(),\n",
    "    optimizer=torch.optim.Adam(clean_model.parameters(), lr=0.01),\n",
    "    input_shape=(1, 28, 28),\n",
    "    nb_classes=10,\n",
    "    preprocessing=(0.1307, 0.3081),\n",
    "    device_type='gpu'\n",
    ")\n",
    "\n",
    "# Get the clean accuracy\n",
    "clean_acc = np.sum(np.argmax(clean_classifier.predict(X_test), axis=1) == y_test) / len(y_test)\n",
    "print(f'Clean accuracy: {clean_acc}')\n",
    "\n",
    "attack = FastGradientMethod(clean_classifier, batch_size=BATCH_SIZE)\n",
    "\n",
    "print('Accuracy on FGSM adversarial test data: ', utils.evaluate_attack(attack, clean_classifier, X_test, y_test))\n",
    "\n",
    "attack = BasicIterativeMethod(clean_classifier, batch_size=BATCH_SIZE)\n",
    "\n",
    "print('Accuracy on BIM adversarial test data: ', utils.evaluate_attack(attack, clean_classifier, X_test, y_test))\n",
    "\n",
    "attack = ProjectedGradientDescent(clean_classifier, batch_size=BATCH_SIZE)\n",
    "\n",
    "print('Accuracy on PGD adversarial test data: ', utils.evaluate_attack(attack, clean_classifier, X_test, y_test))\n",
    "\n",
    "attack = DeepFool(clean_classifier, batch_size=BATCH_SIZE)\n",
    "\n",
    "print('Accuracy on DeepFool adversarial test data: ', utils.evaluate_attack(attack, clean_classifier, X_test, y_test))"
   ],
   "id": "4155c0c4ba1e8f53"
  },
  {
   "metadata": {},
   "cell_type": "code",
   "outputs": [],
   "execution_count": null,
   "source": [
    "# harden on BIM\n",
    "hardened_model = deepcopy(clean_model)\n",
    "\n",
    "hardened_classifier = PyTorchClassifier(\n",
    "    model=hardened_model,\n",
    "    loss=torch.nn.CrossEntropyLoss(),\n",
    "    optimizer=torch.optim.Adam(hardened_model.parameters(), lr=0.01),\n",
    "    input_shape=(1, 28, 28),\n",
    "    nb_classes=10,\n",
    "    preprocessing=(0.1307, 0.3081),\n",
    "    device_type='gpu'\n",
    ")\n",
    "\n",
    "# Check if can load the model\n",
    "try:\n",
    "    hardened_model = torch.load('models/adversarial_state/BIM_CIFAR10_ResNet.pth')\n",
    "except:\n",
    "    attack = BasicIterativeMethod(hardened_classifier, batch_size=512)\n",
    "    adv_trainer = AdversarialTrainer(hardened_classifier, attacks=attack, ratio=0.5)\n",
    "    adv_trainer.fit(X_train, y_train, batch_size=512, nb_epochs=10)\n",
    "    torch.save(adv_trainer.classifier.model, 'models/adversarial_state/BIM_CIFAR10_ResNet.pth')\n",
    "    \n",
    "eps_values = [0.01, 0.02, 0.03, 0.04, 0.05, 0.1, 0.2, 0.3, 0.4, 0.5, 0.6]\n",
    "utils.compare_classifiers(clean_classifier, adv_trainer.classifier, X_test, y_test, eps_values, batch_size=1000, title='CIFAR10_ResNet Hardened with BIM')\n",
    "\n",
    "print('Hardened model accuracy on PGD adversarial test data: ', utils.evaluate_attack(attack, adv_trainer.classifier, X_test, y_test))"
   ],
   "id": "e38093b2f441dade"
  },
  {
   "metadata": {},
   "cell_type": "code",
   "outputs": [],
   "execution_count": null,
   "source": [
    "# harden on PGD\n",
    "hardened_model = deepcopy(clean_model)\n",
    "hardened_classifier = PyTorchClassifier(\n",
    "    model=hardened_model,\n",
    "    loss=torch.nn.CrossEntropyLoss(),\n",
    "    optimizer=torch.optim.Adam(hardened_model.parameters(), lr=0.01),\n",
    "    input_shape=(1, 28, 28),\n",
    "    nb_classes=10,\n",
    "    preprocessing=(0.1307, 0.3081),\n",
    "    device_type='gpu'\n",
    ")\n",
    "\n",
    "# Check if can load the model\n",
    "try:\n",
    "    hardened_model = torch.load('models/adversarial_state/PGD_CIFAR10_ResNet.pth')\n",
    "except:\n",
    "    attack = ProjectedGradientDescent(hardened_classifier, batch_size=512)\n",
    "    adv_trainer = AdversarialTrainer(hardened_classifier, attacks=attack, ratio=0.5)\n",
    "    adv_trainer.fit(X_train, y_train, batch_size=512, nb_epochs=10)\n",
    "    torch.save(adv_trainer.classifier.model, 'models/adversarial_state/PGD_CIFAR10_ResNet.pth')\n",
    "    \n",
    "eps_values = [0.01, 0.02, 0.03, 0.04, 0.05, 0.1, 0.2, 0.3, 0.4, 0.5, 0.6]\n",
    "utils.compare_classifiers(clean_classifier, adv_trainer.classifier, X_test, y_test, eps_values, batch_size=1000, title='CIFAR10_ResNet Hardened with PGD')\n",
    "\n",
    "print('Hardened model accuracy on PGD adversarial test data: ', utils.evaluate_attack(attack, adv_trainer.classifier, X_test, y_test))"
   ],
   "id": "e209eaa8fa392a73"
  },
  {
   "metadata": {},
   "cell_type": "code",
   "outputs": [],
   "execution_count": null,
   "source": [
    "# harden on FGSM\n",
    "hardened_model = deepcopy(clean_model)\n",
    "hardened_classifier = PyTorchClassifier(\n",
    "    model=hardened_model,\n",
    "    loss=torch.nn.CrossEntropyLoss(),\n",
    "    optimizer=torch.optim.Adam(hardened_model.parameters(), lr=0.01),\n",
    "    input_shape=(1, 28, 28),\n",
    "    nb_classes=10,\n",
    "    preprocessing=(0.1307, 0.3081),\n",
    "    device_type='gpu'\n",
    ")\n",
    "\n",
    "# Check if can load the model\n",
    "try:\n",
    "    hardened_model = torch.load('models/adversarial_state/FGSM_CIFAR10_ResNet.pth')\n",
    "except:\n",
    "    attack = FastGradientMethod(hardened_classifier, batch_size=512)\n",
    "    adv_trainer = AdversarialTrainer(hardened_classifier, attacks=attack, ratio=0.5)\n",
    "    adv_trainer.fit(X_train, y_train, batch_size=512, nb_epochs=10)\n",
    "    torch.save(adv_trainer.classifier.model, 'models/adversarial_state/FGSM_CIFAR10_ResNet.pth')\n",
    "    \n",
    "eps_values = [0.01, 0.02, 0.03, 0.04, 0.05, 0.1, 0.2, 0.3, 0.4, 0.5, 0.6]\n",
    "utils.compare_classifiers(clean_classifier, adv_trainer.classifier, X_test, y_test, eps_values, batch_size=1000, title='CIFAR10_ResNet Hardened with FGSM')\n",
    "\n",
    "print('Hardened model accuracy on PGD adversarial test data: ', utils.evaluate_attack(attack, adv_trainer.classifier, X_test, y_test))"
   ],
   "id": "e17dee988ef8942d"
  },
  {
   "metadata": {},
   "cell_type": "code",
   "outputs": [],
   "execution_count": null,
   "source": [
    "# harden on deepfool\n",
    "hardened_model = deepcopy(clean_model)\n",
    "hardened_classifier = PyTorchClassifier(\n",
    "    model=hardened_model,\n",
    "    loss=torch.nn.CrossEntropyLoss(),\n",
    "    optimizer=torch.optim.Adam(hardened_model.parameters(), lr=0.01),\n",
    "    input_shape=(1, 28, 28),\n",
    "    nb_classes=10,\n",
    "    preprocessing=(0.1307, 0.3081),\n",
    "    device_type='gpu'\n",
    ")\n",
    "\n",
    "# Check if can load the model\n",
    "try:\n",
    "    hardened_model = torch.load('models/adversarial_state/DeepFool_CIFAR10_ResNet.pth')\n",
    "except:\n",
    "    attack = DeepFool(hardened_classifier, batch_size=512)\n",
    "    adv_trainer = AdversarialTrainer(hardened_classifier, attacks=attack, ratio=0.5)\n",
    "    adv_trainer.fit(X_train, y_train, batch_size=512, nb_epochs=10)\n",
    "    torch.save(adv_trainer.classifier.model, 'models/adversarial_state/DeepFool_CIFAR10_ResNet.pth')\n",
    "    \n",
    "eps_values = [0.01, 0.02, 0.03, 0.04, 0.05, 0.1, 0.2, 0.3, 0.4, 0.5, 0.6]\n",
    "utils.compare_classifiers(clean_classifier, adv_trainer.classifier, X_test, y_test, eps_values, batch_size=1000, title='CIFAR10_ResNet Hardened with DeepFool')\n",
    "\n",
    "print('Hardened model accuracy on PGD adversarial test data: ', utils.evaluate_attack(attack, adv_trainer.classifier, X_test, y_test))"
   ],
   "id": "6142538f60a644cc"
  },
  {
   "metadata": {},
   "cell_type": "code",
   "outputs": [],
   "execution_count": null,
   "source": [
    "# Load the GoogLeNet model\n",
    "clean_model = CIFAR10_GoogLeNet()\n",
    "clean_model.load_state_dict(torch.load('models/clean_state/CIFAR10_GoogLeNet.pth'))\n",
    "clean_model.eval()\n",
    "clean_classifier = PyTorchClassifier(\n",
    "    model=clean_model,\n",
    "    loss=torch.nn.CrossEntropyLoss(),\n",
    "    optimizer=torch.optim.Adam(clean_model.parameters(), lr=0.01),\n",
    "    input_shape=(1, 28, 28),\n",
    "    nb_classes=10,\n",
    "    preprocessing=(0.1307, 0.3081),\n",
    "    device_type='gpu'\n",
    ")\n",
    "\n",
    "# Get the clean accuracy\n",
    "clean_acc = np.sum(np.argmax(clean_classifier.predict(X_test), axis=1) == y_test) / len(y_test)\n",
    "print(f'Clean accuracy: {clean_acc}')\n",
    "\n",
    "attack = FastGradientMethod(clean_classifier, batch_size=BATCH_SIZE)\n",
    "\n",
    "print('Accuracy on FGSM adversarial test data: ', utils.evaluate_attack(attack, clean_classifier, X_test, y_test))\n",
    "\n",
    "attack = BasicIterativeMethod(clean_classifier, batch_size=BATCH_SIZE)\n",
    "\n",
    "print('Accuracy on BIM adversarial test data: ', utils.evaluate_attack(attack, clean_classifier, X_test, y_test))\n",
    "\n",
    "attack = ProjectedGradientDescent(clean_classifier, batch_size=BATCH_SIZE)\n",
    "\n",
    "print('Accuracy on PGD adversarial test data: ', utils.evaluate_attack(attack, clean_classifier, X_test, y_test))\n",
    "\n",
    "attack = DeepFool(clean_classifier, batch_size=BATCH_SIZE)\n",
    "\n",
    "print('Accuracy on DeepFool adversarial test data: ', utils.evaluate_attack(attack, clean_classifier, X_test, y_test))"
   ],
   "id": "2837a4f837e68482"
  },
  {
   "metadata": {},
   "cell_type": "code",
   "outputs": [],
   "execution_count": null,
   "source": [
    "# harden on BIM\n",
    "hardened_model = deepcopy(clean_model)\n",
    "hardened_classifier = PyTorchClassifier(\n",
    "    model=hardened_model,\n",
    "    loss=torch.nn.CrossEntropyLoss(),\n",
    "    optimizer=torch.optim.Adam(hardened_model.parameters(), lr=0.01),\n",
    "    input_shape=(1, 28, 28),\n",
    "    nb_classes=10,\n",
    "    preprocessing=(0.1307, 0.3081),\n",
    "    device_type='gpu'\n",
    ")\n",
    "\n",
    "# Check if can load the model\n",
    "try:\n",
    "    hardened_model = torch.load('models/adversarial_state/BIM_CIFAR10_GoogLeNet.pth')\n",
    "except:\n",
    "    attack = BasicIterativeMethod(hardened_classifier, batch_size=512)\n",
    "    adv_trainer = AdversarialTrainer(hardened_classifier, attacks=attack, ratio=0.5)\n",
    "    adv_trainer.fit(X_train, y_train, batch_size=512, nb_epochs=10)\n",
    "    torch.save(adv_trainer.classifier.model, 'models/adversarial_state/BIM_CIFAR10_GoogLeNet.pth')\n",
    "    \n",
    "eps_values = [0.01, 0.02, 0.03, 0.04, 0.05, 0.1, 0.2, 0.3, 0.4, 0.5, 0.6]\n",
    "utils.compare_classifiers(clean_classifier, adv_trainer.classifier, X_test, y_test, eps_values, batch_size=1000, title='CIFAR10_GoogLeNet Hardened with BIM')\n",
    "\n",
    "print('Hardened model accuracy on PGD adversarial test data: ', utils.evaluate_attack(attack, adv_trainer.classifier, X_test, y_test))"
   ],
   "id": "e705818ed1b63351"
  },
  {
   "metadata": {},
   "cell_type": "code",
   "outputs": [],
   "execution_count": null,
   "source": [
    "# harden on PGD\n",
    "hardened_model = deepcopy(clean_model)\n",
    "hardened_classifier = PyTorchClassifier(\n",
    "    model=hardened_model,\n",
    "    loss=torch.nn.CrossEntropyLoss(),\n",
    "    optimizer=torch.optim.Adam(hardened_model.parameters(), lr=0.01),\n",
    "    input_shape=(1, 28, 28),\n",
    "    nb_classes=10,\n",
    "    preprocessing=(0.1307, 0.3081),\n",
    "    device_type='gpu'\n",
    ")\n",
    "\n",
    "# Check if can load the model\n",
    "try:\n",
    "    hardened_model = torch.load('models/adversarial_state/PGD_CIFAR10_GoogLeNet.pth')\n",
    "except:\n",
    "    attack = ProjectedGradientDescent(hardened_classifier, batch_size=512)\n",
    "    adv_trainer = AdversarialTrainer(hardened_classifier, attacks=attack, ratio=0.5)\n",
    "    adv_trainer.fit(X_train, y_train, batch_size=512, nb_epochs=10)\n",
    "    torch.save(adv_trainer.classifier.model, 'models/adversarial_state/PGD_CIFAR10_GoogLeNet.pth')\n",
    "    \n",
    "eps_values = [0.01, 0.02, 0.03, 0.04, 0.05, 0.1, 0.2, 0.3, 0.4, 0.5, 0.6]\n",
    "utils.compare_classifiers(clean_classifier, adv_trainer.classifier, X_test, y_test, eps_values, batch_size=1000, title='CIFAR10_GoogLeNet Hardened with PGD')\n",
    "\n",
    "print('Hardened model accuracy on PGD adversarial test data: ', utils.evaluate_attack(attack, adv_trainer.classifier, X_test, y_test))"
   ],
   "id": "aacc50db96a05ec6"
  },
  {
   "metadata": {},
   "cell_type": "code",
   "outputs": [],
   "execution_count": null,
   "source": [
    "# harden on FGSM\n",
    "hardened_model = deepcopy(clean_model)\n",
    "hardened_classifier = PyTorchClassifier(\n",
    "    model=hardened_model,\n",
    "    loss=torch.nn.CrossEntropyLoss(),\n",
    "    optimizer=torch.optim.Adam(hardened_model.parameters(), lr=0.01),\n",
    "    input_shape=(1, 28, 28),\n",
    "    nb_classes=10,\n",
    "    preprocessing=(0.1307, 0.3081),\n",
    "    device_type='gpu'\n",
    ")\n",
    "\n",
    "# Check if can load the model\n",
    "try:\n",
    "    hardened_model = torch.load('models/adversarial_state/FGSM_CIFAR10_GoogLeNet.pth')\n",
    "except:\n",
    "    attack = FastGradientMethod(hardened_classifier, batch_size=512)\n",
    "    adv_trainer = AdversarialTrainer(hardened_classifier, attacks=attack, ratio=0.5)\n",
    "    adv_trainer.fit(X_train, y_train, batch_size=512, nb_epochs=10)\n",
    "    torch.save(adv_trainer.classifier.model, 'models/adversarial_state/FGSM_CIFAR10_GoogLeNet.pth')\n",
    "    \n",
    "eps_values = [0.01, 0.02, 0.03, 0.04, 0.05, 0.1, 0.2, 0.3, 0.4, 0.5, 0.6]\n",
    "utils.compare_classifiers(clean_classifier, adv_trainer.classifier, X_test, y_test, eps_values, batch_size=1000, title='CIFAR10_GoogLeNet Hardened with FGSM')\n",
    "\n",
    "print('Hardened model accuracy on PGD adversarial test data: ', utils.evaluate_attack(attack, adv_trainer.classifier, X_test, y_test))"
   ],
   "id": "7c8bac24eccaeade"
  },
  {
   "metadata": {},
   "cell_type": "code",
   "outputs": [],
   "execution_count": null,
   "source": [
    "# harden on deepfool\n",
    "\n",
    "hardened_model = deepcopy(clean_model)\n",
    "hardened_classifier = PyTorchClassifier(\n",
    "    model=hardened_model,\n",
    "    loss=torch.nn.CrossEntropyLoss(),\n",
    "    optimizer=torch.optim.Adam(hardened_model.parameters(), lr=0.01),\n",
    "    input_shape=(1, 28, 28),\n",
    "    nb_classes=10,\n",
    "    preprocessing=(0.1307, 0.3081),\n",
    "    device_type='gpu'\n",
    ")\n",
    "\n",
    "# Check if can load the model\n",
    "\n",
    "try:\n",
    "    hardened_model = torch.load('models/adversarial_state/DeepFool_CIFAR10_GoogLeNet.pth')\n",
    "except:\n",
    "    attack = DeepFool(hardened_classifier, batch_size=512)\n",
    "    adv_trainer = AdversarialTrainer(hardened_classifier, attacks=attack, ratio=0.5)\n",
    "    adv_trainer.fit(X_train, y_train, batch_size=512, nb_epochs=10)\n",
    "    torch.save(adv_trainer.classifier.model, 'models/adversarial_state/DeepFool_CIFAR10_GoogLeNet.pth')\n",
    "    \n",
    "eps_values = [0.01, 0.02, 0.03, 0.04, 0.05, 0.1, 0.2, 0.3, 0.4, 0.5, 0.6]\n",
    "utils.compare_classifiers(clean_classifier, adv_trainer.classifier, X_test, y_test, eps_values, batch_size=1000, title='CIFAR10_GoogLeNet Hardened with DeepFool')\n",
    "\n",
    "print('Hardened model accuracy on PGD adversarial test data: ', utils.evaluate_attack(attack, adv_trainer.classifier, X_test, y_test))"
   ],
   "id": "45c8ee81b35ec930"
  }
 ],
 "metadata": {
  "kernelspec": {
   "display_name": "Python 3 (ipykernel)",
   "language": "python",
   "name": "python3"
  },
  "language_info": {
   "codemirror_mode": {
    "name": "ipython",
    "version": 3
   },
   "file_extension": ".py",
   "mimetype": "text/x-python",
   "name": "python",
   "nbconvert_exporter": "python",
   "pygments_lexer": "ipython3",
   "version": "3.12.1"
  }
 },
 "nbformat": 4,
 "nbformat_minor": 5
}
