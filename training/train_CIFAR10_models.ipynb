{
 "cells": [
  {
   "cell_type": "code",
   "id": "1eb71b6d73d4515",
   "metadata": {
    "ExecuteTime": {
     "end_time": "2024-04-13T00:09:29.340423Z",
     "start_time": "2024-04-13T00:09:29.327189Z"
    }
   },
   "source": [
    "from models.CIFAR10.CIFAR10_Models import CIFAR10_GoogLeNet, CIFAR10_LeNet, CIFAR10_ResNet, CIFAR10_VGG, CIFAR10_FC500_100_10\n",
    "import numpy as np\n",
    "import os, torch\n",
    "from torch.utils.data import DataLoader, random_split\n",
    "from torchvision import datasets\n",
    "from torchvision.transforms import transforms\n",
    "from utils import train_model, test_model, plot_training_history"
   ],
   "outputs": [],
   "execution_count": 3
  },
  {
   "cell_type": "code",
   "execution_count": 2,
   "id": "605e94659744bfe6",
   "metadata": {},
   "outputs": [
    {
     "name": "stdout",
     "output_type": "stream",
     "text": [
      "Files already downloaded and verified\n",
      "Files already downloaded and verified\n"
     ]
    }
   ],
   "source": [
    "BATCH_SIZE = 256\n",
    "\n",
    "# Load the CIFAR10 dataset\n",
    "torch.manual_seed(42)\n",
    "np.random.seed(42)\n",
    "generator = torch.Generator().manual_seed(42)\n",
    "\n",
    "train_transform = transforms.Compose([\n",
    "    transforms.Resize((32, 32)),\n",
    "    transforms.RandomHorizontalFlip(),\n",
    "    transforms.RandomRotation(10),\n",
    "    transforms.RandomAffine(0, translate=(0.1, 0.1)),\n",
    "    transforms.ColorJitter(brightness=0.2, contrast=0.2, saturation=0.2),\n",
    "    transforms.ToTensor(),\n",
    "    transforms.Normalize((0.5, 0.5, 0.5), (0.5, 0.5, 0.5))\n",
    "])\n",
    "\n",
    "test_transform = transforms.Compose([\n",
    "    transforms.Resize((32, 32)),\n",
    "    transforms.ToTensor(),\n",
    "    transforms.Normalize((0.5, 0.5, 0.5), (0.5, 0.5, 0.5))\n",
    "])\n",
    "\n",
    "train_dataset = datasets.CIFAR10(root='./data', train=True, download=True, transform=train_transform)\n",
    "test_dataset = datasets.CIFAR10(root='./data', train=False, download=True, transform=test_transform)\n",
    "\n",
    "train_dataset, val_dataset = random_split(train_dataset, [45000, 5000], generator=generator)\n",
    "\n",
    "train_loader = DataLoader(train_dataset, batch_size=BATCH_SIZE, shuffle=True)\n",
    "val_loader = DataLoader(val_dataset, batch_size=BATCH_SIZE, shuffle=False)\n",
    "test_loader = DataLoader(test_dataset, batch_size=BATCH_SIZE, shuffle=False)\n",
    "\n",
    "SAVE_STATE_PATH = os.path.join('..','models', 'CIFAR10', 'saved_state')"
   ]
  },
  {
   "cell_type": "code",
   "execution_count": 3,
   "id": "7f1cc92127fa67f",
   "metadata": {},
   "outputs": [
    {
     "name": "stdout",
     "output_type": "stream",
     "text": [
      "Test Accuracy: 51.34%\n"
     ]
    }
   ],
   "source": [
    "# Define the FC Model\n",
    "\n",
    "model = CIFAR10_FC500_100_10()\n",
    "\n",
    "# Try to load the model\n",
    "model_path = os.path.join(SAVE_STATE_PATH, 'CIFAR10_FC500_100_10.pth')\n",
    "if os.path.exists(model_path):\n",
    "    model.load_state_dict(torch.load(model_path))\n",
    "\n",
    "else:\n",
    "    # Define the loss function and optimizer\n",
    "    loss_function = torch.nn.CrossEntropyLoss()\n",
    "    optimizer = torch.optim.Adam(model.parameters(), lr=0.001)\n",
    "    \n",
    "    # Train the model\n",
    "    model, train_acc, train_loss, val_acc, val_loss = train_model(model, loss_function, optimizer, train_loader, val_loader, num_epochs=50, device='cuda')\n",
    "    \n",
    "    # Plot the training history\n",
    "    plot_training_history(train_acc, train_loss, val_acc, val_loss, title='CIFAR10_FC500_100_10', save_path='figures/CIFAR10/CIFAR10_FC500_100_10.png')\n",
    "    \n",
    "    # Save the model\n",
    "    torch.save(model.state_dict(), model_path)\n",
    "\n",
    "# Test the model\n",
    "test_acc = test_model(model, test_loader, device='cuda')\n",
    "print(f'Test Accuracy: {test_acc*100:.2f}%')"
   ]
  },
  {
   "cell_type": "code",
   "execution_count": 4,
   "id": "6dca7cb75a3f142f",
   "metadata": {},
   "outputs": [
    {
     "name": "stdout",
     "output_type": "stream",
     "text": [
      "Test Accuracy: 67.34%\n"
     ]
    }
   ],
   "source": [
    "# Define the LeNet Model\n",
    "\n",
    "model = CIFAR10_LeNet()\n",
    "\n",
    "# Try to load the model\n",
    "model_path = os.path.join(SAVE_STATE_PATH, 'CIFAR10_LeNet.pth')\n",
    "if os.path.exists(model_path):\n",
    "    model.load_state_dict(torch.load(model_path))\n",
    "\n",
    "else:\n",
    "    # Define the loss function and optimizer\n",
    "    loss_function = torch.nn.CrossEntropyLoss()\n",
    "    optimizer = torch.optim.Adam(model.parameters(), lr=0.001)\n",
    "    \n",
    "    # Train the model\n",
    "    model, train_acc, train_loss, val_acc, val_loss = train_model(model, loss_function, optimizer, train_loader, val_loader, num_epochs=50, device='cuda')\n",
    "    \n",
    "    # Plot the training history\n",
    "    plot_training_history(train_acc, train_loss, val_acc, val_loss, title='CIFAR10_LeNet', save_path='figures/CIFAR10/CIFAR10_LeNet.png')\n",
    "    \n",
    "        \n",
    "    # Save the model\n",
    "    torch.save(model.state_dict(), model_path)\n",
    "\n",
    "# Test the model\n",
    "test_acc = test_model(model, test_loader, device='cuda')\n",
    "print(f'Test Accuracy: {test_acc*100:.2f}%')"
   ]
  },
  {
   "cell_type": "code",
   "execution_count": 5,
   "id": "b3616754f6dbf50c",
   "metadata": {},
   "outputs": [
    {
     "name": "stderr",
     "output_type": "stream",
     "text": [
      "/home/pogrebitskiy.d/miniconda3/lib/python3.12/site-packages/torchvision/models/googlenet.py:47: FutureWarning: The default weight initialization of GoogleNet will be changed in future releases of torchvision. If you wish to keep the old behavior (which leads to long initialization times due to scipy/scipy#11299), please set init_weights=True.\n",
      "  warnings.warn(\n"
     ]
    },
    {
     "name": "stdout",
     "output_type": "stream",
     "text": [
      "Test Accuracy: 88.25%\n"
     ]
    }
   ],
   "source": [
    "# Define the GoogLeNet Model\n",
    "\n",
    "model = CIFAR10_GoogLeNet()\n",
    "\n",
    "# Try to load the model\n",
    "model_path = os.path.join(SAVE_STATE_PATH, 'CIFAR10_GoogLeNet.pth')\n",
    "if os.path.exists(model_path):\n",
    "    model.load_state_dict(torch.load(model_path))\n",
    "\n",
    "else:\n",
    "    # Define the loss function and optimizer\n",
    "    loss_function = torch.nn.CrossEntropyLoss()\n",
    "    optimizer = torch.optim.Adam(model.parameters(), lr=0.001)\n",
    "    \n",
    "    # Train the model\n",
    "    model, train_acc, train_loss, val_acc, val_loss = train_model(model, loss_function, optimizer, train_loader, val_loader, num_epochs=50, device='cuda')\n",
    "    \n",
    "    # Plot the training history\n",
    "    plot_training_history(train_acc, train_loss, val_acc, val_loss, title='CIFAR10_GoogLeNet', save_path='figures/CIFAR10/CIFAR10_GoogLeNet.png')\n",
    "    \n",
    "    # Save the model\n",
    "    torch.save(model.state_dict(), model_path)\n",
    "\n",
    "# Test the model\n",
    "test_acc = test_model(model, test_loader, device='cuda')\n",
    "print(f'Test Accuracy: {test_acc*100:.2f}%')"
   ]
  },
  {
   "cell_type": "code",
   "execution_count": 6,
   "id": "99a09d8cff94f5",
   "metadata": {},
   "outputs": [
    {
     "name": "stdout",
     "output_type": "stream",
     "text": [
      "Test Accuracy: 85.74%\n"
     ]
    }
   ],
   "source": [
    "# Define the VGG Model\n",
    "\n",
    "model = CIFAR10_VGG()\n",
    "\n",
    "# Try to load the model\n",
    "model_path = os.path.join(SAVE_STATE_PATH, 'CIFAR10_VGG.pth')\n",
    "if os.path.exists(model_path):\n",
    "    model.load_state_dict(torch.load(model_path))\n",
    "\n",
    "else:\n",
    "    # Define the loss function and optimizer\n",
    "    loss_function = torch.nn.CrossEntropyLoss()\n",
    "    optimizer = torch.optim.Adam(model.parameters(), lr=0.001)\n",
    "    \n",
    "    # Train the model\n",
    "    model, train_acc, train_loss, val_acc, val_loss = train_model(model, loss_function, optimizer, train_loader, val_loader, num_epochs=50, device='cuda')\n",
    "    \n",
    "    # Plot the training history\n",
    "    plot_training_history(train_acc, train_loss, val_acc, val_loss, title='CIFAR10_VGG', save_path='figures/CIFAR10/CIFAR10_VGG.png')\n",
    "    \n",
    "    # Save the model\n",
    "    torch.save(model.state_dict(), model_path)\n",
    "\n",
    "# Test the model\n",
    "test_acc = test_model(model, test_loader, device='cuda')\n",
    "print(f'Test Accuracy: {test_acc*100:.2f}%')"
   ]
  },
  {
   "cell_type": "code",
   "execution_count": 7,
   "id": "9fbca25223681ce3",
   "metadata": {},
   "outputs": [
    {
     "name": "stdout",
     "output_type": "stream",
     "text": [
      "Test Accuracy: 81.61%\n"
     ]
    }
   ],
   "source": [
    "# Define the ResNet Model\n",
    "\n",
    "model = CIFAR10_ResNet()\n",
    "\n",
    "# Try to load the model\n",
    "model_path = os.path.join(SAVE_STATE_PATH, 'CIFAR10_ResNet.pth')\n",
    "if os.path.exists(model_path):\n",
    "    model.load_state_dict(torch.load(model_path))\n",
    "\n",
    "else:\n",
    "    # Define the loss function and optimizer\n",
    "    loss_function = torch.nn.CrossEntropyLoss()\n",
    "    optimizer = torch.optim.Adam(model.parameters(), lr=0.001)\n",
    "    \n",
    "    # Train the model\n",
    "    model, train_acc, train_loss, val_acc, val_loss = train_model(model, loss_function, optimizer, train_loader, val_loader, num_epochs=50, device='cuda')\n",
    "    \n",
    "    # Plot the training history\n",
    "    plot_training_history(train_acc, train_loss, val_acc, val_loss, title='CIFAR10_ResNet', save_path='figures/CIFAR10/CIFAR10_ResNet.png')\n",
    "    \n",
    "    # Save the model\n",
    "torch.save(model.state_dict(), model_path)\n",
    "\n",
    "# Test the model\n",
    "test_acc = test_model(model, test_loader, device='cuda')\n",
    "print(f'Test Accuracy: {test_acc*100:.2f}%')"
   ]
  }
 ],
 "metadata": {
  "kernelspec": {
   "display_name": "Python 3 (ipykernel)",
   "language": "python",
   "name": "python3"
  },
  "language_info": {
   "codemirror_mode": {
    "name": "ipython",
    "version": 3
   },
   "file_extension": ".py",
   "mimetype": "text/x-python",
   "name": "python",
   "nbconvert_exporter": "python",
   "pygments_lexer": "ipython3",
   "version": "3.12.1"
  }
 },
 "nbformat": 4,
 "nbformat_minor": 5
}
