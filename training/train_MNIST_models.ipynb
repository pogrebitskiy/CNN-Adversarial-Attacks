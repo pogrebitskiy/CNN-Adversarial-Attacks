{
 "cells": [
  {
   "cell_type": "code",
   "execution_count": 1,
   "id": "1eb71b6d73d4515",
   "metadata": {
    "ExecuteTime": {
     "end_time": "2024-04-12T02:29:39.461539Z",
     "start_time": "2024-04-12T02:29:36.523458Z"
    }
   },
   "outputs": [],
   "source": [
    "from models.MNIST_Models import MNIST_FC_500_100_10, MNIST_LeNet, MNIST_GoogLeNet, MNIST_VGG, MNIST_ResNet\n",
    "import numpy as np\n",
    "import os, torch\n",
    "from torch.utils.data import DataLoader, random_split\n",
    "from torchvision import datasets\n",
    "from torchvision.transforms import transforms\n",
    "from utils import train_model, test_model, plot_training_history"
   ]
  },
  {
   "cell_type": "code",
   "execution_count": 2,
   "id": "4e082c716c9fdb19",
   "metadata": {
    "ExecuteTime": {
     "end_time": "2024-04-12T02:23:25.724716Z",
     "start_time": "2024-04-12T02:23:25.629939Z"
    }
   },
   "outputs": [],
   "source": [
    "BATCH_SIZE = 256\n",
    "\n",
    "torch.manual_seed(42)\n",
    "np.random.seed(42)\n",
    "generator = torch.Generator().manual_seed(42)\n",
    "\n",
    "# Define the transformation\n",
    "train_transform = transforms.Compose([\n",
    "    transforms.RandomRotation(10),\n",
    "    transforms.RandomAffine(0, translate=(0.1, 0.1)), \n",
    "    transforms.ToTensor(), \n",
    "    transforms.Normalize((0.1307,), (0.3081,)),\n",
    "])\n",
    "\n",
    "test_transform = transforms.Compose([\n",
    "    transforms.ToTensor(), \n",
    "    transforms.Normalize((0.1307,), (0.3081,)),\n",
    "])\n",
    "\n",
    "# Load the MNIST dataset\n",
    "train_dataset = datasets.MNIST(root='./data', train=True, transform=train_transform, download=True)\n",
    "test_dataset = datasets.MNIST(root='./data', train=False, transform=test_transform, download=True)\n",
    "\n",
    "# Split the training dataset into training and validation datasets\n",
    "train_dataset, val_dataset = random_split(train_dataset, [50000, 10000], generator=generator)\n",
    "\n",
    "# Create the dataloaders\n",
    "train_loader = DataLoader(train_dataset, batch_size=BATCH_SIZE, shuffle=True)\n",
    "val_loader = DataLoader(val_dataset, batch_size=BATCH_SIZE, shuffle=False)\n",
    "test_loader = DataLoader(test_dataset, batch_size=BATCH_SIZE, shuffle=False)\n",
    "\n",
    "SAVE_STATE_PATH = os.path.join('..','models', 'MNIST', 'saved_state')"
   ]
  },
  {
   "cell_type": "code",
   "execution_count": 3,
   "id": "aaf3e09ac432de93",
   "metadata": {},
   "outputs": [
    {
     "name": "stdout",
     "output_type": "stream",
     "text": [
      "Test Accuracy: 98.84%\n"
     ]
    }
   ],
   "source": [
    "# Define the FC Model\n",
    "\n",
    "model = MNIST_FC_500_100_10()\n",
    "\n",
    "# Try to load the model first\n",
    "model_path = os.path.join(SAVE_STATE_PATH, 'MNIST_FC_500_100_10.pth')\n",
    "if os.path.exists(model_path):\n",
    "    model.load_state_dict(torch.load(model_path))\n",
    "    \n",
    "else:\n",
    "    # Define the loss function and the optimizer\n",
    "    criterion = torch.nn.CrossEntropyLoss()\n",
    "    optimizer = torch.optim.Adam(model.parameters(), lr=0.001)\n",
    "    \n",
    "    # Train the model\n",
    "    model, train_acc, train_loss, val_acc, val_loss = train_model(model, criterion, optimizer, train_loader, val_loader, num_epochs=50, device='cuda')\n",
    "    \n",
    "    # Plot the training history\n",
    "    plot_training_history(train_acc, train_loss, val_acc, val_loss, title='MNIST FC 500 100 10', save_path='figures/MNIST/MNIST_FC_500_100_10.png')\n",
    "    \n",
    "    # Save the model\n",
    "    torch.save(model.state_dict(), model_path)\n",
    "    \n",
    "# Test the model\n",
    "test_acc = test_model(model, test_loader, device='cuda')\n",
    "print(f'Test Accuracy: {test_acc*100:.2f}%')"
   ]
  },
  {
   "cell_type": "code",
   "execution_count": 4,
   "id": "d78a2759500008e9",
   "metadata": {},
   "outputs": [
    {
     "name": "stdout",
     "output_type": "stream",
     "text": [
      "Test Accuracy: 99.27%\n"
     ]
    }
   ],
   "source": [
    "# Define the LeNet Model\n",
    "\n",
    "model = MNIST_LeNet()\n",
    "\n",
    "# Try to load the model first\n",
    "model_path = os.path.join(SAVE_STATE_PATH, 'MNIST_LeNet.pth')\n",
    "if os.path.exists(model_path):\n",
    "    model.load_state_dict(torch.load(model_path))\n",
    "    \n",
    "else:\n",
    "    # Define the loss function and the optimizer\n",
    "    criterion = torch.nn.CrossEntropyLoss()\n",
    "    optimizer = torch.optim.Adam(model.parameters(), lr=0.001)\n",
    "    \n",
    "    # Train the model\n",
    "    model, train_acc, train_loss, val_acc, val_loss = train_model(model, criterion, optimizer, train_loader, val_loader, num_epochs=50, device='cuda')\n",
    "    \n",
    "    # Plot the training history\n",
    "    plot_training_history(train_acc, train_loss, val_acc, val_loss, title='MNIST LeNet', save_path='figures/MNIST/MNIST_LeNet.png')\n",
    "    \n",
    "    # Save the model\n",
    "    torch.save(model.state_dict(), model_path)\n",
    "\n",
    "# Test the model\n",
    "test_acc = test_model(model, test_loader, device='cuda')\n",
    "print(f'Test Accuracy: {test_acc*100:.2f}%')"
   ]
  },
  {
   "cell_type": "code",
   "execution_count": 5,
   "id": "f5db6d567892b211",
   "metadata": {},
   "outputs": [
    {
     "name": "stderr",
     "output_type": "stream",
     "text": [
      "/home/pogrebitskiy.d/miniconda3/lib/python3.12/site-packages/torchvision/models/googlenet.py:47: FutureWarning: The default weight initialization of GoogleNet will be changed in future releases of torchvision. If you wish to keep the old behavior (which leads to long initialization times due to scipy/scipy#11299), please set init_weights=True.\n",
      "  warnings.warn(\n"
     ]
    },
    {
     "name": "stdout",
     "output_type": "stream",
     "text": [
      "Test Accuracy: 99.40%\n"
     ]
    }
   ],
   "source": [
    "# Define the GoogLeNet Model\n",
    "\n",
    "model = MNIST_GoogLeNet()\n",
    "\n",
    "# Try to load the model first\n",
    "model_path = os.path.join(SAVE_STATE_PATH, 'MNIST_GoogLeNet.pth')\n",
    "if os.path.exists(model_path):\n",
    "    model.load_state_dict(torch.load(model_path))\n",
    "    \n",
    "else:\n",
    "    # Define the loss function and the optimizer\n",
    "    criterion = torch.nn.CrossEntropyLoss()\n",
    "    optimizer = torch.optim.Adam(model.parameters(), lr=0.001)\n",
    "    \n",
    "    # Train the model\n",
    "    model, train_acc, train_loss, val_acc, val_loss = train_model(model, criterion, optimizer, train_loader, val_loader, num_epochs=50, device='cuda')\n",
    "    \n",
    "    # Plot the training history\n",
    "    plot_training_history(train_acc, train_loss, val_acc, val_loss, title='MNIST GoogLeNet', save_path='figures/MNIST/MNIST_GoogLeNet.png')\n",
    "    \n",
    "    # Save the model\n",
    "    torch.save(model.state_dict(), model_path)\n",
    "\n",
    "# Test the model\n",
    "test_acc = test_model(model, test_loader, device='cuda')\n",
    "print(f'Test Accuracy: {test_acc*100:.2f}%')"
   ]
  },
  {
   "cell_type": "code",
   "execution_count": 6,
   "id": "72707ea64f265684",
   "metadata": {},
   "outputs": [
    {
     "name": "stdout",
     "output_type": "stream",
     "text": [
      "Test Accuracy: 99.51%\n"
     ]
    }
   ],
   "source": [
    "# Define the VGG Model\n",
    "\n",
    "model = MNIST_VGG()\n",
    "\n",
    "# Try to load the model first\n",
    "model_path = os.path.join(SAVE_STATE_PATH, 'MNIST_VGG.pth')\n",
    "if os.path.exists(model_path):\n",
    "    model.load_state_dict(torch.load(model_path))\n",
    "    \n",
    "else:\n",
    "    # Define the loss function and the optimizer\n",
    "    criterion = torch.nn.CrossEntropyLoss()\n",
    "    optimizer = torch.optim.Adam(model.parameters(), lr=0.001)\n",
    "    \n",
    "    # Train the model\n",
    "    model, train_acc, train_loss, val_acc, val_loss = train_model(model, criterion, optimizer, train_loader, val_loader, num_epochs=50, device='cuda')\n",
    "    \n",
    "    # Plot the training history\n",
    "    plot_training_history(train_acc, train_loss, val_acc, val_loss, title='MNIST VGG', save_path='figures/MNIST/MNIST_VGG.png')\n",
    "    \n",
    "    # Save the model\n",
    "    torch.save(model.state_dict(), model_path)\n",
    "\n",
    "# Test the model\n",
    "test_acc = test_model(model, test_loader, device='cuda')\n",
    "print(f'Test Accuracy: {test_acc*100:.2f}%')"
   ]
  },
  {
   "cell_type": "code",
   "execution_count": 7,
   "id": "e41855a74a4632d5",
   "metadata": {},
   "outputs": [
    {
     "name": "stdout",
     "output_type": "stream",
     "text": [
      "Test Accuracy: 99.34%\n"
     ]
    }
   ],
   "source": [
    "# Define the ResNet Model\n",
    "model = MNIST_ResNet()\n",
    "\n",
    "# Try to load the model first\n",
    "model_path = os.path.join(SAVE_STATE_PATH, 'MNIST_ResNet.pth')\n",
    "if os.path.exists(model_path):\n",
    "    model.load_state_dict(torch.load(model_path))\n",
    "    \n",
    "else:\n",
    "    # Define the loss function and the optimizer\n",
    "    criterion = torch.nn.CrossEntropyLoss()\n",
    "    \n",
    "    # Define the optimizer\n",
    "    optimizer = torch.optim.Adam(model.parameters(), lr=0.001)\n",
    "    \n",
    "    # Train the model\n",
    "    model, train_acc, train_loss, val_acc, val_loss = train_model(model, criterion, optimizer, train_loader, val_loader, num_epochs=50, device='cuda')\n",
    "    \n",
    "    # Plot the training history\n",
    "    plot_training_history(train_acc, train_loss, val_acc, val_loss, title='MNIST ResNet', save_path='figures/MNIST/MNIST_ResNet.png')\n",
    "    \n",
    "    # Save the model\n",
    "    torch.save(model.state_dict(), model_path)\n",
    "\n",
    "# Test the model\n",
    "test_acc = test_model(model, test_loader, device='cuda')\n",
    "print(f'Test Accuracy: {test_acc*100:.2f}%')"
   ]
  }
 ],
 "metadata": {
  "kernelspec": {
   "display_name": "Python 3 (ipykernel)",
   "language": "python",
   "name": "python3"
  },
  "language_info": {
   "codemirror_mode": {
    "name": "ipython",
    "version": 3
   },
   "file_extension": ".py",
   "mimetype": "text/x-python",
   "name": "python",
   "nbconvert_exporter": "python",
   "pygments_lexer": "ipython3",
   "version": "3.12.1"
  }
 },
 "nbformat": 4,
 "nbformat_minor": 5
}
