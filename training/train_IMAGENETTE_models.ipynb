{
 "cells": [
  {
   "cell_type": "code",
   "execution_count": 1,
   "id": "initial_id",
   "metadata": {
    "ExecuteTime": {
     "end_time": "2024-04-12T04:22:06.293705Z",
     "start_time": "2024-04-12T04:22:02.692145Z"
    }
   },
   "outputs": [],
   "source": [
    "from models.IMAGENETTE_Models import Imagenette_FC500_100_10, Imagenette_LeNet, Imagenette_GoogLeNet, Imagenette_ResNet, Imagenette_VGG\n",
    "import numpy as np\n",
    "import os, torch\n",
    "from torch.utils.data import DataLoader, random_split\n",
    "from torchvision import datasets\n",
    "from torchvision.transforms import transforms\n",
    "from utils import train_model, test_model, plot_training_history\n",
    "import gc"
   ]
  },
  {
   "cell_type": "code",
   "execution_count": 2,
   "id": "1aa02ee21ef06f7",
   "metadata": {
    "ExecuteTime": {
     "end_time": "2024-04-12T04:24:22.458658Z",
     "start_time": "2024-04-12T04:24:22.407845Z"
    }
   },
   "outputs": [],
   "source": [
    "BATCH_SIZE=32\n",
    "\n",
    "# Load the Imagenette dataset\n",
    "torch.manual_seed(42)\n",
    "np.random.seed(42)\n",
    "generator = torch.Generator().manual_seed(42)\n",
    "\n",
    "train_transform = transforms.Compose([\n",
    "    transforms.Resize((224, 224)),\n",
    "    transforms.RandomHorizontalFlip(),\n",
    "    transforms.RandomRotation(10),\n",
    "    transforms.ToTensor(),\n",
    "    transforms.Normalize(mean=[0.485, 0.456, 0.406], std=[0.229, 0.224, 0.225])\n",
    "])\n",
    "\n",
    "test_transform = transforms.Compose([\n",
    "    transforms.Resize((224, 224)),\n",
    "    transforms.ToTensor(),\n",
    "    transforms.Normalize(mean=[0.485, 0.456, 0.406], std=[0.229, 0.224, 0.225])\n",
    "])\n",
    "\n",
    "train_dataset = datasets.Imagenette(root='./data', split='train', transform=train_transform)\n",
    "test_dataset = datasets.Imagenette(root='./data', split='val', transform=test_transform)\n",
    "\n",
    "train_dataset, val_dataset = random_split(train_dataset, [int(0.8*len(train_dataset)), len(train_dataset)-int(0.8*len(train_dataset))], generator=generator)\n",
    "\n",
    "train_loader = DataLoader(train_dataset, batch_size=BATCH_SIZE, shuffle=True)\n",
    "val_loader = DataLoader(val_dataset, batch_size=BATCH_SIZE, shuffle=False)\n",
    "test_loader = DataLoader(test_dataset, batch_size=BATCH_SIZE, shuffle=False)\n",
    "\n",
    "SAVE_STATE_PATH = os.path.join('..','models', 'IMAGENETTE', 'saved_state')"
   ]
  },
  {
   "cell_type": "code",
   "execution_count": 3,
   "id": "4ca1ea1e123eebc2",
   "metadata": {},
   "outputs": [
    {
     "name": "stdout",
     "output_type": "stream",
     "text": [
      "Test Accuracy: 38.39%\n"
     ]
    },
    {
     "data": {
      "text/plain": [
       "0"
      ]
     },
     "execution_count": 3,
     "metadata": {},
     "output_type": "execute_result"
    }
   ],
   "source": [
    "# Define the FC Model\n",
    "\n",
    "model = Imagenette_FC500_100_10()\n",
    "\n",
    "# Try to load the model if it exists\n",
    "model_path = os.path.join(SAVE_STATE_PATH, 'Imagenette_FC500_100_10.pth')\n",
    "if os.path.exists(model_path):\n",
    "    model.load_state_dict(torch.load(model_path))\n",
    "else:\n",
    "    # Define the loss function and optimizer\n",
    "    criterion = torch.nn.CrossEntropyLoss()\n",
    "    optimizer = torch.optim.Adam(model.parameters(), lr=0.001)\n",
    "\n",
    "    # Train the model\n",
    "    model, train_acc, train_loss, val_acc, val_loss = train_model(model, criterion, optimizer, train_loader, val_loader, num_epochs=50, device='cuda')\n",
    "\n",
    "    # Save the model\n",
    "    torch.save(model.state_dict(), model_path)\n",
    "\n",
    "    # plot the training history\n",
    "    plot_training_history(train_acc, train_loss, val_acc, val_loss, title='Imagenette_FC500_100_10', save_path='figures/IMAGENETTE/Imagenette_FC500_100_10.png')\n",
    "\n",
    "    del criterion, optimizer\n",
    "\n",
    "# Test the model\n",
    "test_acc = test_model(model, test_loader, device='cuda')\n",
    "print(f'Test Accuracy: {test_acc*100:.2f}%')\n",
    "\n",
    "del model\n",
    "torch.cuda.empty_cache()\n",
    "gc.collect()"
   ]
  },
  {
   "cell_type": "code",
   "execution_count": 4,
   "id": "2f03148ab98f9bd5",
   "metadata": {},
   "outputs": [
    {
     "name": "stdout",
     "output_type": "stream",
     "text": [
      "Test Accuracy: 62.85%\n"
     ]
    },
    {
     "data": {
      "text/plain": [
       "10"
      ]
     },
     "execution_count": 4,
     "metadata": {},
     "output_type": "execute_result"
    }
   ],
   "source": [
    "# Define the LeNet Model\n",
    "\n",
    "model = Imagenette_LeNet()\n",
    "\n",
    "# Try to load the model if it exists\n",
    "model_path = os.path.join(SAVE_STATE_PATH, 'Imagenette_LeNet.pth')\n",
    "if os.path.exists(model_path):\n",
    "    model.load_state_dict(torch.load(model_path))\n",
    "else:\n",
    "    # Define the loss function and optimizer\n",
    "    criterion = torch.nn.CrossEntropyLoss()\n",
    "    optimizer = torch.optim.Adam(model.parameters(), lr=0.001)\n",
    "\n",
    "    # Train the model\n",
    "    model, train_acc, train_loss, val_acc, val_loss = train_model(model, criterion, optimizer, train_loader, val_loader, num_epochs=50, device='cuda')\n",
    "\n",
    "    # Save the model\n",
    "    torch.save(model.state_dict(), model_path)\n",
    "\n",
    "    # plot the training history\n",
    "    plot_training_history(train_acc, train_loss, val_acc, val_loss, title='Imagenette_LeNet', save_path='figures/IMAGENETTE/Imagenette_LeNet.png')\n",
    "\n",
    "    del criterion, optimizer\n",
    "\n",
    "# Test the model\n",
    "test_acc = test_model(model, test_loader, device='cuda')\n",
    "print(f'Test Accuracy: {test_acc*100:.2f}%')\n",
    "\n",
    "del model\n",
    "torch.cuda.empty_cache()\n",
    "gc.collect()"
   ]
  },
  {
   "cell_type": "code",
   "execution_count": 5,
   "id": "772d8ea149f41d1f",
   "metadata": {},
   "outputs": [
    {
     "name": "stderr",
     "output_type": "stream",
     "text": [
      "/home/pogrebitskiy.d/miniconda3/lib/python3.12/site-packages/torchvision/models/googlenet.py:47: FutureWarning: The default weight initialization of GoogleNet will be changed in future releases of torchvision. If you wish to keep the old behavior (which leads to long initialization times due to scipy/scipy#11299), please set init_weights=True.\n",
      "  warnings.warn(\n"
     ]
    },
    {
     "name": "stdout",
     "output_type": "stream",
     "text": [
      "Test Accuracy: 81.91%\n"
     ]
    },
    {
     "data": {
      "text/plain": [
       "10"
      ]
     },
     "execution_count": 5,
     "metadata": {},
     "output_type": "execute_result"
    }
   ],
   "source": [
    "# Define the GoogLeNet Model\n",
    "\n",
    "model = Imagenette_GoogLeNet()\n",
    "\n",
    "# Try to load the model if it exists\n",
    "model_path = os.path.join(SAVE_STATE_PATH, 'Imagenette_GoogLeNet.pth')\n",
    "if os.path.exists(model_path):\n",
    "    model.load_state_dict(torch.load(model_path))\n",
    "else:\n",
    "    # Define the loss function and optimizer\n",
    "    criterion = torch.nn.CrossEntropyLoss()\n",
    "    optimizer = torch.optim.Adam(model.parameters(), lr=0.001)\n",
    "\n",
    "    # Train the model\n",
    "    model, train_acc, train_loss, val_acc, val_loss = train_model(model, criterion, optimizer, train_loader, val_loader, num_epochs=50, device='cuda')\n",
    "\n",
    "    # Save the model\n",
    "    torch.save(model.state_dict(), model_path)\n",
    "\n",
    "    # plot the training history\n",
    "    plot_training_history(train_acc, train_loss, val_acc, val_loss, title='Imagenette_GoogLeNet', save_path='figures/IMAGENETTE/Imagenette_GoogLeNet.png')\n",
    "\n",
    "    del criterion, optimizer\n",
    "\n",
    "# Test the model\n",
    "test_acc = test_model(model, test_loader, device='cuda')\n",
    "print(f'Test Accuracy: {test_acc*100:.2f}%')\n",
    "\n",
    "del model\n",
    "torch.cuda.empty_cache()\n",
    "gc.collect()"
   ]
  },
  {
   "cell_type": "code",
   "execution_count": 6,
   "id": "6070b6a138b5493a",
   "metadata": {},
   "outputs": [
    {
     "name": "stdout",
     "output_type": "stream",
     "text": [
      "Test Accuracy: 71.34%\n"
     ]
    },
    {
     "data": {
      "text/plain": [
       "10"
      ]
     },
     "execution_count": 6,
     "metadata": {},
     "output_type": "execute_result"
    }
   ],
   "source": [
    "# Define the VGG Model\n",
    "\n",
    "model = Imagenette_VGG()\n",
    "\n",
    "# Try to load the model if it exists\n",
    "model_path = os.path.join(SAVE_STATE_PATH, 'Imagenette_VGG.pth')\n",
    "if os.path.exists(model_path):\n",
    "    model.load_state_dict(torch.load(model_path))\n",
    "else:\n",
    "    # Define the loss function and optimizer\n",
    "    criterion = torch.nn.CrossEntropyLoss()\n",
    "    optimizer = torch.optim.SGD(model.parameters(), lr=0.001, momentum=0.9)\n",
    "\n",
    "    # Train the model\n",
    "    model, train_acc, train_loss, val_acc, val_loss = train_model(model, criterion, optimizer, train_loader, val_loader, num_epochs=50, device='cuda')\n",
    "\n",
    "    # Save the model\n",
    "    torch.save(model.state_dict(), model_path)\n",
    "\n",
    "    # plot the training history\n",
    "    plot_training_history(train_acc, train_loss, val_acc, val_loss, title='Imagenette_VGG', save_path='figures/IMAGENETTE/Imagenette_VGG.png')\n",
    "\n",
    "    del criterion, optimizer\n",
    "\n",
    "# Test the model\n",
    "test_acc = test_model(model, test_loader, device='cuda')\n",
    "print(f'Test Accuracy: {test_acc*100:.2f}%')\n",
    "\n",
    "del model\n",
    "torch.cuda.empty_cache()\n",
    "gc.collect()"
   ]
  },
  {
   "cell_type": "code",
   "execution_count": 7,
   "id": "c6bb6187ccaa904",
   "metadata": {},
   "outputs": [
    {
     "name": "stdout",
     "output_type": "stream",
     "text": [
      "Test Accuracy: 82.60%\n"
     ]
    },
    {
     "data": {
      "text/plain": [
       "10"
      ]
     },
     "execution_count": 7,
     "metadata": {},
     "output_type": "execute_result"
    }
   ],
   "source": [
    "# Define the ResNet Model\n",
    "\n",
    "model = Imagenette_ResNet()\n",
    "\n",
    "# Try to load the model if it exists\n",
    "model_path = os.path.join(SAVE_STATE_PATH, 'Imagenette_ResNet.pth')\n",
    "if os.path.exists(model_path):\n",
    "    model.load_state_dict(torch.load(model_path))\n",
    "else:\n",
    "    # Define the loss function and optimizer\n",
    "    criterion = torch.nn.CrossEntropyLoss()\n",
    "    optimizer = torch.optim.Adam(model.parameters(), lr=0.001)\n",
    "\n",
    "    # Train the model\n",
    "    model, train_acc, train_loss, val_acc, val_loss = train_model(model, criterion, optimizer, train_loader, val_loader, num_epochs=50, device='cuda')\n",
    "\n",
    "    # Save the model\n",
    "    torch.save(model.state_dict(), model_path)\n",
    "\n",
    "    # plot the training history\n",
    "    plot_training_history(train_acc, train_loss, val_acc, val_loss, title='Imagenette_ResNet', save_path='figures/IMAGENETTE/Imagenette_ResNet.png')\n",
    "\n",
    "    del criterion, optimizer\n",
    "\n",
    "# Test the model\n",
    "test_acc = test_model(model, test_loader, device='cuda')\n",
    "print(f'Test Accuracy: {test_acc*100:.2f}%')\n",
    "\n",
    "del model\n",
    "torch.cuda.empty_cache()\n",
    "gc.collect()"
   ]
  }
 ],
 "metadata": {
  "kernelspec": {
   "display_name": "Python 3 (ipykernel)",
   "language": "python",
   "name": "python3"
  },
  "language_info": {
   "codemirror_mode": {
    "name": "ipython",
    "version": 3
   },
   "file_extension": ".py",
   "mimetype": "text/x-python",
   "name": "python",
   "nbconvert_exporter": "python",
   "pygments_lexer": "ipython3",
   "version": "3.12.1"
  }
 },
 "nbformat": 4,
 "nbformat_minor": 5
}
